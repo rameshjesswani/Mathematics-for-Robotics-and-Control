{
 "cells": [
  {
   "cell_type": "code",
   "execution_count": 1,
   "metadata": {
    "collapsed": true
   },
   "outputs": [],
   "source": [
    "import sympy as sp\n",
    "import numpy as np\n",
    "import numpy.linalg as LA"
   ]
  },
  {
   "cell_type": "code",
   "execution_count": 56,
   "metadata": {
    "collapsed": true
   },
   "outputs": [],
   "source": [
    "def compute_parallel_lines(first_line, second_line) :\n",
    "    %matplotlib inline\n",
    "\n",
    "   #create array of data points.\n",
    "    p1 = np.array(first_line)\n",
    "    q1 = np.array(second_line)\n",
    "   \n",
    "    #take x-axis and y-axis separately for both data sets.\n",
    "    p1_x = p1[:,0].reshape(700,1)\n",
    "    p1_y = p1[:,1].reshape(700,1)\n",
    "    q1_x = q1[:,0].reshape(900,1)\n",
    "    q1_y = q1[:,1].reshape(900,1)\n",
    "   \n",
    "    #stack y-axis of both the data sets in single matrix.\n",
    "    p1_q1_y = np.row_stack((p1_y,q1_y))\n",
    "    print p1_q1_y.shape\n",
    "    #create ones and zeros matrix.\n",
    "    ones_matrix_700 = np.ones(700).reshape(700,1)\n",
    "    ones_matrix_900 = np.ones(900).reshape(900,1)\n",
    "    zeros_matrix_700 = np.zeros(700).reshape(700,1)\n",
    "    zeros_matrix_900 = np.zeros(900).reshape(900,1)\n",
    " \n",
    "    #stack x-axis of both the data sets in one columns.\n",
    "    p1_q1_x = np.row_stack((p1_x,q1_x))\n",
    "   \n",
    "    #stac zeros and ones to construct second column of A matrix.\n",
    "    p1_q1_second_column = np.row_stack((ones_matrix_700,zeros_matrix_900))\n",
    " \n",
    "    p1_q1_third_column = np.row_stack((zeros_matrix_700,ones_matrix_900))\n",
    " \n",
    "    #construct the A matrix.\n",
    "    A = np.column_stack((p1_q1_x,p1_q1_second_column,p1_q1_third_column))\n",
    "    print A.shape\n",
    "    \n",
    "    n1,c1,c2 = LA.lstsq(A,p1_q1_y)[0]\n",
    "    print c1,c2,n1\n",
    "    #plt.plot(p1_x, p1_x[0]*p1_x+x[1])\n",
    "    #plt.plot(q1_x, x[0]*q1_x+x[2])\n",
    "   \n",
    "    plt.scatter(p1_x, n1*p1_x+c1,color = 'blue')\n",
    "    plt.scatter(q1_x, n1*q1_x+c2,color = 'pink')"
   ]
  },
  {
   "cell_type": "code",
   "execution_count": 57,
   "metadata": {
    "collapsed": false
   },
   "outputs": [
    {
     "name": "stdout",
     "output_type": "stream",
     "text": [
      "(1600, 1)\n",
      "(1600, 3)\n",
      "[-11.84729062] [ 417.47274011] [-1.10670957]\n"
     ]
    },
    {
     "data": {
      "image/png": "[encoded data removed]",
      "text/plain": [
       "<matplotlib.figure.Figure at 0x7f19e1708a90>"
      ]
     },
     "metadata": {},
     "output_type": "display_data"
    }
   ],
   "source": [
    "import numpy as np\n",
    "import numpy.linalg as LA\n",
    "import matplotlib.pyplot as plt\n",
    "%matplotlib inline\n",
    "first_line = np.load('./data/P1.npy')\n",
    "second_line = np.load('./data/Q1.npy')\n",
    "compute_parallel_lines(first_line, second_line)"
   ]
  },
  {
   "cell_type": "code",
   "execution_count": null,
   "metadata": {
    "collapsed": true
   },
   "outputs": [],
   "source": []
  }
 ],
 "metadata": {
  "kernelspec": {
   "display_name": "Python [Root]",
   "language": "python",
   "name": "Python [Root]"
  },
  "language_info": {
   "codemirror_mode": {
    "name": "ipython",
    "version": 2
   },
   "file_extension": ".py",
   "mimetype": "text/x-python",
   "name": "python",
   "nbconvert_exporter": "python",
   "pygments_lexer": "ipython2",
   "version": "2.7.12"
  }
 },
 "nbformat": 4,
 "nbformat_minor": 0
}
