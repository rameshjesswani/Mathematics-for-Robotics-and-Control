{
 "cells": [
  {
   "cell_type": "markdown",
   "metadata": {},
   "source": [
    "<style type=\"text/css\">\n",
    ".time_spent {\n",
    "    width: 3em;\n",
    "    border-style: none;\n",
    "    background-color: silver;\n",
    "    font-weight: bold;\n",
    "    padding-left: 5px;\n",
    "}\n",
    "</style>"
   ]
  },
  {
   "cell_type": "markdown",
   "metadata": {},
   "source": [
    "# Mathematics for Robotics and Control SS2016\n",
    "## Assignment 8: Laplace Transforms"
   ]
  },
  {
   "cell_type": "code",
   "execution_count": 1,
   "metadata": {
    "collapsed": false
   },
   "outputs": [
    {
     "name": "stderr",
     "output_type": "stream",
     "text": [
      "/home/ramesh/anaconda2/lib/python2.7/site-packages/matplotlib/font_manager.py:273: UserWarning: Matplotlib is building the font cache using fc-list. This may take a moment.\n",
      "  warnings.warn('Matplotlib is building the font cache using fc-list. This may take a moment.')\n"
     ]
    },
    {
     "name": "stdout",
     "output_type": "stream",
     "text": [
      "Populating the interactive namespace from numpy and matplotlib\n"
     ]
    }
   ],
   "source": [
    "import IPython.core.display\n",
    "import sys\n",
    "if not \"win\" in sys.platform and not \"linux\" in sys.platform:\n",
    "    %pylab\n",
    "else:\n",
    "    %pylab inline"
   ]
  },
  {
   "cell_type": "code",
   "execution_count": null,
   "metadata": {
    "collapsed": false
   },
   "outputs": [],
   "source": []
  },
  {
   "cell_type": "markdown",
   "metadata": {},
   "source": [
    "---"
   ]
  },
  {
   "cell_type": "markdown",
   "metadata": {},
   "source": [
    "#### Assignment 8.2 **<span style=\"color: orange;\">L2</span>**"
   ]
  },
  {
   "cell_type": "markdown",
   "metadata": {},
   "source": [
    "Find the Laplace transform Y(s) of the following functions:\n",
    "    \n",
    "1. $y(t) = e^{-2 \\cdot t} \\cdot u(t) + e^{-3 \\cdot t} \\cdot u(t)$\n",
    "2. $y(t) = e^{-3 \\cdot t} \\cdot u(t) + e^{2 \\cdot t} \\cdot u(-t)$\n",
    "3. $y(t) = e^{2 \\cdot t} \\cdot u(t) + e^{-3 \\cdot t} \\cdot u(-t)$\n",
    "\n",
    "Figure out how to obtain the Laplace transforms inside this notebook, without doing it manually."
   ]
  },
  {
   "cell_type": "code",
   "execution_count": 160,
   "metadata": {
    "collapsed": false
   },
   "outputs": [
    {
     "name": "stdout",
     "output_type": "stream",
     "text": [
      "((2*s + 5)/((s + 2)*(s + 3)), 0, True)\n"
     ]
    }
   ],
   "source": [
    "#1. y(t)=e^(−2⋅t)⋅u(t)(+e^(−3⋅t)⋅u(t) \n",
    "import sympy as sp\n",
    "sp.init_printing()\n",
    "from sympy import laplace_transform\n",
    "from sympy import inverse_laplace_transform\n",
    "from sympy.abc import t,s,a\n",
    "\n",
    "f = sp.Function('f')(t)\n",
    "#since step function is defined as 1 when t > 0 and 0 then t < 0\n",
    "step = sp.symbols('step')\n",
    "step = 1\n",
    "laplace = laplace_transform(sp.exp(-2*t)*step +sp.exp(-3*t)*step,t,s)\n",
    "print laplace\n"
   ]
  },
  {
   "cell_type": "code",
   "execution_count": 159,
   "metadata": {
    "collapsed": false
   },
   "outputs": [
    {
     "data": {
      "text/plain": [
       "(1/(s + 3), 0, True)"
      ]
     },
     "execution_count": 159,
     "metadata": {},
     "output_type": "execute_result"
    }
   ],
   "source": [
    "import sympy as sp\n",
    "sp.init_printing()\n",
    "from sympy import laplace_transform\n",
    "from sympy.abc import t,s,a,u\n",
    "f = sp.Function('f')(t)\n",
    "#since step function is defined as 1 when t > 0 and 0 then t < 0\n",
    "laplace = laplace_transform(sp.exp(-3*t)*1 +sp.exp(2*t)*0,t,s)\n",
    "laplace"
   ]
  },
  {
   "cell_type": "code",
   "execution_count": 41,
   "metadata": {
    "collapsed": false
   },
   "outputs": [
    {
     "data": {
      "image/png": "[encoded data removed]",
      "text/latex": [
       "$$\\left ( \\frac{1}{s - 2}, \\quad 2, \\quad \\frac{s}{2} \\neq 1\\right )$$"
      ],
      "text/plain": [
       "⎛  1       s    ⎞\n",
       "⎜─────, 2, ─ ≠ 1⎟\n",
       "⎝s - 2     2    ⎠"
      ]
     },
     "execution_count": 41,
     "metadata": {},
     "output_type": "execute_result"
    }
   ],
   "source": [
    "import sympy as sp\n",
    "sp.init_printing()\n",
    "from sympy import laplace_transform\n",
    "from sympy.abc import t,s,a,u\n",
    "f = sp.Function('f')(t)\n",
    "laplace = laplace_transform(sp.exp(2*t)*1 +sp.exp(-3*t)*0,t,s)\n",
    "laplace"
   ]
  },
  {
   "cell_type": "markdown",
   "metadata": {},
   "source": [
    "---"
   ]
  },
  {
   "cell_type": "markdown",
   "metadata": {},
   "source": [
    "Assignment 8.3 **<span style=\"color: red;\">L3</span>**"
   ]
  },
  {
   "cell_type": "markdown",
   "metadata": {},
   "source": [
    "# Application of Laplace Transform to solve ODE\n",
    "\n",
    "The Laplace transform can be applied to solve initial value problem that contains\n",
    "homogeneous and non-homogeneous linear differential equations.\n",
    "\n",
    "ODE -> (Laplace Transform) -> Solve the laplace equations -> (Inverse Transform) -> ODE solution\n",
    "\n",
    "Solve the below ODE using laplace transform K\n",
    "\n",
    "1. $ \\ddot{y}(t) -2\\dot{y}(t) + y(t) = e^{2t} $ ,  $ y(0) = \\dot{y}(0) = 0 $\n",
    "2. $  \\frac{d^2y}{dt^2} + y = t $ , $ y(0) = 1, y'(0) = 2 $"
   ]
  },
  {
   "cell_type": "markdown",
   "metadata": {
    "collapsed": false
   },
   "source": [
    "#### Solution 8.3\n",
    "### ...\n",
    "1. $ \\ddot{y}(t) -2\\dot{y}(t) + y(t) = e^{2t} $ ,  $ y(0) = \\dot{y}(0) = 0 $\n",
    "\n",
    "Applying laplace transform on both sides, we have \n",
    "\n",
    "$$s^2Y(s) - sy(0) - y'(0) - 2(sY(s) - y(0)) + Y(s) = \\frac{1}{s-2}$$\n",
    "\n",
    "Applying initial conditions, we have :\n",
    "\n",
    "$$s^2Y(s) - 2sY(s) + Y(s) = \\frac{1}{s-2}$$\n",
    "\n",
    "$$Y(s) = \\frac{1}{(s-2)(s^2 - 2s + 1)}$$\n",
    "\n",
    "Applying inverse laplace, using sympy , we have"
   ]
  },
  {
   "cell_type": "code",
   "execution_count": 8,
   "metadata": {
    "collapsed": false
   },
   "outputs": [
    {
     "data": {
      "image/png": "[encoded data removed]",
      "text/latex": [
       "$$\\left(- t + e^{t} - 1\\right) e^{t} \\theta\\left(t\\right)$$"
      ],
      "text/plain": [
       "⎛      t    ⎞  t             \n",
       "⎝-t + ℯ  - 1⎠⋅ℯ ⋅Heaviside(t)"
      ]
     },
     "execution_count": 8,
     "metadata": {},
     "output_type": "execute_result"
    }
   ],
   "source": [
    "import sympy as sp\n",
    "from sympy import *\n",
    "sp.init_printing()\n",
    "from sympy.abc import s,t,y\n",
    "\n",
    "laplace = laplace_transform(sp.Derivative(y(t),t,t) - 2*sp.Derivative(y(t),t) + y(t) - sp.exp(2*t),t,s)\n",
    "#Taking Partial fraction of Y(s) we get\n",
    "partial_fraction = sp.apart(1/((s-2)*(s**2 - 2*s + 1)))\n",
    "inverse = (inverse_laplace_transform(partial_fraction,s,t))\n",
    "\n",
    "inverse"
   ]
  },
  {
   "cell_type": "markdown",
   "metadata": {},
   "source": [
    "Therefore, inverse laplace of above equation is : \n",
    "\n",
    "$$y(t)= (e^{2t} - te^{t} - e^{t})\\theta(t)$$\n",
    "\n",
    "where $\\theta(t)$ is heaviside function\n"
   ]
  },
  {
   "cell_type": "markdown",
   "metadata": {},
   "source": [
    "2*. $  \\frac{d^2y}{dt^2} + y = t $ , $ y(0) = 1, y'(0) = 2 $\n",
    "\n",
    "Applying Laplace transform on both sides, we have :\n",
    "\n",
    "$$s^2 Y(s) - sy(0) - y'(0) + Y(s) = \\frac{1}{s^2}$$\n",
    "\n",
    "Applying initial condtions : y(0) = 1 , y'(0) = 2 , we get \n",
    "\n",
    "$$s^2 Y(s) - s - 2 + Y(s) = \\frac{1}{s^2}$$\n",
    "\n",
    "$$Y(s)(s^2 + 1) = \\frac{s^3 + 2s^2 + 1}{s^2}$$\n",
    "\n",
    "$$Y(s) = \\frac{s^3 + 2s^2 + 1}{s^2(s^2+1)}$$\n",
    "\n",
    "It can be re-written as :\n",
    "\n",
    "$$ Y(s) = \\frac{s}{s^{2} + 1} + \\frac{2}{s^{2} + 1} + \\frac{1}{s^{2} \\left(s^{2} + 1\\right)} $$\n"
   ]
  },
  {
   "cell_type": "code",
   "execution_count": 14,
   "metadata": {
    "collapsed": false
   },
   "outputs": [
    {
     "data": {
      "image/png": "[encoded data removed]",
      "text/latex": [
       "$$\\left(t - \\sin{\\left (t \\right )}\\right) \\theta\\left(t\\right) + 2 \\sin{\\left (t \\right )} \\theta\\left(t\\right) + \\cos{\\left (t \\right )} \\theta\\left(t\\right)$$"
      ],
      "text/plain": [
       "(t - sin(t))⋅Heaviside(t) + 2⋅sin(t)⋅Heaviside(t) + cos(t)⋅Heaviside(t)"
      ]
     },
     "execution_count": 14,
     "metadata": {},
     "output_type": "execute_result"
    }
   ],
   "source": [
    "import sympy as sp\n",
    "from sympy import *\n",
    "sp.init_printing()\n",
    "from sympy.abc import s,t,y\n",
    "y =  s/(s**2 +1) + 2/(s**2 + 1) + (1/s**2)/(s**2 + 1)\n",
    "#take inverse laplace of y, we have \n",
    "inverse = inverse_laplace_transform(y,s,t)\n",
    "inverse"
   ]
  },
  {
   "cell_type": "markdown",
   "metadata": {},
   "source": [
    "Therefore, inverse laplace of above equation is : \n",
    "\n",
    "$$y(t)= \\left(t - \\sin{\\left (t \\right )}\\right) \\theta\\left(t\\right) + 2 \\sin{\\left (t \\right )} \\theta\\left(t\\right) + \\cos{\\left (t \\right )} \\theta\\left(t\\right)$$\n",
    "\n",
    "where $\\theta(t)$ is heaviside function\n"
   ]
  },
  {
   "cell_type": "markdown",
   "metadata": {},
   "source": [
    "---"
   ]
  },
  {
   "cell_type": "markdown",
   "metadata": {},
   "source": [
    "#### Assignment 8.4 **<span style=\"color: green;\">L1</span>**"
   ]
  },
  {
   "cell_type": "markdown",
   "metadata": {},
   "source": [
    "**control** library can be used to create a model by specifying the statespace equations.\n",
    "(control state space )[http://python-control.readthedocs.io/en/latest/generated/control.StateSpace.html]\n",
    "\n",
    "For the state space equations from the previous assignment (MRC_A_007, Exercise 1 and 2) please create the state space models.\n",
    "\n",
    "Determine the Poles and Zeros for all the state space models.\n"
   ]
  },
  {
   "cell_type": "code",
   "execution_count": 157,
   "metadata": {
    "collapsed": false
   },
   "outputs": [
    {
     "name": "stdout",
     "output_type": "stream",
     "text": [
      "[  4.44089210e-17]\n",
      "[-0.5+1.32287566j -0.5-1.32287566j]\n"
     ]
    }
   ],
   "source": [
    "import numpy as np\n",
    "import control\n",
    "A = np.array([[0, 1],[-2, -1]])\n",
    "\n",
    "B = np.array([[0],[5]])\n",
    "\n",
    "C = np.array([0, 1])\n",
    "\n",
    "D = np.array([0])\n",
    "\n",
    "state_space_model =control.ss(A,B,C,D)\n",
    "zeros = state_space_model.zero()\n",
    "print zeros\n",
    "poles = state_space_model.pole()\n",
    "print poles\n",
    "\n"
   ]
  },
  {
   "cell_type": "code",
   "execution_count": 6,
   "metadata": {
    "collapsed": false
   },
   "outputs": [
    {
     "name": "stdout",
     "output_type": "stream",
     "text": [
      "[ 1.00000657 +0.00000000e+00j  0.99999671 +5.69145455e-06j\n",
      "  0.99999671 -5.69145455e-06j]\n"
     ]
    },
    {
     "ename": "NotImplementedError",
     "evalue": "StateSpace.zeros is currently implemented only for SISO systems.",
     "output_type": "error",
     "traceback": [
      "\u001b[1;31m---------------------------------------------------------------------------\u001b[0m",
      "\u001b[1;31mNotImplementedError\u001b[0m                       Traceback (most recent call last)",
      "\u001b[1;32m<ipython-input-6-1d50ce0be9f0>\u001b[0m in \u001b[0;36m<module>\u001b[1;34m()\u001b[0m\n\u001b[0;32m     15\u001b[0m \u001b[1;32mprint\u001b[0m \u001b[0mpoles\u001b[0m\u001b[1;33m\u001b[0m\u001b[0m\n\u001b[0;32m     16\u001b[0m \u001b[1;31m#since for zeros it gives error as it can only determine for single input single output.\u001b[0m\u001b[1;33m\u001b[0m\u001b[1;33m\u001b[0m\u001b[0m\n\u001b[1;32m---> 17\u001b[1;33m \u001b[0mzeros\u001b[0m \u001b[1;33m=\u001b[0m \u001b[0mstate_space_model\u001b[0m\u001b[1;33m.\u001b[0m\u001b[0mzero\u001b[0m\u001b[1;33m(\u001b[0m\u001b[1;33m)\u001b[0m\u001b[1;33m\u001b[0m\u001b[0m\n\u001b[0m\u001b[0;32m     18\u001b[0m \u001b[1;32mprint\u001b[0m \u001b[0mzeros\u001b[0m\u001b[1;33m\u001b[0m\u001b[0m\n",
      "\u001b[1;32m/home/ramesh/anaconda2/lib/python2.7/site-packages/control/statesp.pyc\u001b[0m in \u001b[0;36mzero\u001b[1;34m(self)\u001b[0m\n\u001b[0;32m    431\u001b[0m         \u001b[1;32mif\u001b[0m \u001b[0mself\u001b[0m\u001b[1;33m.\u001b[0m\u001b[0minputs\u001b[0m \u001b[1;33m>\u001b[0m \u001b[1;36m1\u001b[0m \u001b[1;32mor\u001b[0m \u001b[0mself\u001b[0m\u001b[1;33m.\u001b[0m\u001b[0moutputs\u001b[0m \u001b[1;33m>\u001b[0m \u001b[1;36m1\u001b[0m\u001b[1;33m:\u001b[0m\u001b[1;33m\u001b[0m\u001b[0m\n\u001b[0;32m    432\u001b[0m             raise NotImplementedError(\"StateSpace.zeros is currently \\\n\u001b[1;32m--> 433\u001b[1;33m implemented only for SISO systems.\")\n\u001b[0m\u001b[0;32m    434\u001b[0m \u001b[1;33m\u001b[0m\u001b[0m\n\u001b[0;32m    435\u001b[0m         \u001b[0mden\u001b[0m \u001b[1;33m=\u001b[0m \u001b[0mpoly1d\u001b[0m\u001b[1;33m(\u001b[0m\u001b[0mpoly\u001b[0m\u001b[1;33m(\u001b[0m\u001b[0mself\u001b[0m\u001b[1;33m.\u001b[0m\u001b[0mA\u001b[0m\u001b[1;33m)\u001b[0m\u001b[1;33m)\u001b[0m\u001b[1;33m\u001b[0m\u001b[0m\n",
      "\u001b[1;31mNotImplementedError\u001b[0m: StateSpace.zeros is currently implemented only for SISO systems."
     ]
    }
   ],
   "source": [
    "import numpy as np\n",
    "import control\n",
    "import sympy as sp\n",
    "\n",
    "A = np.array([[1, 0, 0],[0, 1, 0],[0,0,1]])\n",
    "\n",
    "B = np.array([[1],[0],[0]])\n",
    "\n",
    "C = np.array([[0,0,1],[1,4,0]])\n",
    "\n",
    "D = np.array([[0],[0]])\n",
    "\n",
    "state_space_model =control.ss(A,B,C,D) \n",
    "poles = state_space_model.pole()\n",
    "print poles\n",
    "#since for zeros it gives error as it can only determine for single input single output.\n",
    "zeros = state_space_model.zero()\n",
    "print zeros"
   ]
  },
  {
   "cell_type": "code",
   "execution_count": 161,
   "metadata": {
    "collapsed": false
   },
   "outputs": [
    {
     "name": "stdout",
     "output_type": "stream",
     "text": [
      "[-2.61803399 -0.38196601]\n"
     ]
    },
    {
     "ename": "NotImplementedError",
     "evalue": "StateSpace.zeros is currently implemented only for SISO systems.",
     "output_type": "error",
     "traceback": [
      "\u001b[1;31m---------------------------------------------------------------------------\u001b[0m",
      "\u001b[1;31mNotImplementedError\u001b[0m                       Traceback (most recent call last)",
      "\u001b[1;32m<ipython-input-161-8f4d6d703171>\u001b[0m in \u001b[0;36m<module>\u001b[1;34m()\u001b[0m\n\u001b[0;32m     10\u001b[0m \u001b[1;32mprint\u001b[0m \u001b[0mpoles\u001b[0m\u001b[1;33m\u001b[0m\u001b[0m\n\u001b[0;32m     11\u001b[0m \u001b[1;31m#since for zeros it gives error as it can only determine for single input single output.\u001b[0m\u001b[1;33m\u001b[0m\u001b[1;33m\u001b[0m\u001b[0m\n\u001b[1;32m---> 12\u001b[1;33m \u001b[0mzeros\u001b[0m \u001b[1;33m=\u001b[0m \u001b[0mstate_space_model\u001b[0m\u001b[1;33m.\u001b[0m\u001b[0mzero\u001b[0m\u001b[1;33m(\u001b[0m\u001b[1;33m)\u001b[0m\u001b[1;33m\u001b[0m\u001b[0m\n\u001b[0m\u001b[0;32m     13\u001b[0m \u001b[1;32mprint\u001b[0m \u001b[0mzeros\u001b[0m\u001b[1;33m\u001b[0m\u001b[0m\n",
      "\u001b[1;32m/home/ramesh/anaconda2/lib/python2.7/site-packages/control/statesp.pyc\u001b[0m in \u001b[0;36mzero\u001b[1;34m(self)\u001b[0m\n\u001b[0;32m    431\u001b[0m         \u001b[1;32mif\u001b[0m \u001b[0mself\u001b[0m\u001b[1;33m.\u001b[0m\u001b[0minputs\u001b[0m \u001b[1;33m>\u001b[0m \u001b[1;36m1\u001b[0m \u001b[1;32mor\u001b[0m \u001b[0mself\u001b[0m\u001b[1;33m.\u001b[0m\u001b[0moutputs\u001b[0m \u001b[1;33m>\u001b[0m \u001b[1;36m1\u001b[0m\u001b[1;33m:\u001b[0m\u001b[1;33m\u001b[0m\u001b[0m\n\u001b[0;32m    432\u001b[0m             raise NotImplementedError(\"StateSpace.zeros is currently \\\n\u001b[1;32m--> 433\u001b[1;33m implemented only for SISO systems.\")\n\u001b[0m\u001b[0;32m    434\u001b[0m \u001b[1;33m\u001b[0m\u001b[0m\n\u001b[0;32m    435\u001b[0m         \u001b[0mden\u001b[0m \u001b[1;33m=\u001b[0m \u001b[0mpoly1d\u001b[0m\u001b[1;33m(\u001b[0m\u001b[0mpoly\u001b[0m\u001b[1;33m(\u001b[0m\u001b[0mself\u001b[0m\u001b[1;33m.\u001b[0m\u001b[0mA\u001b[0m\u001b[1;33m)\u001b[0m\u001b[1;33m)\u001b[0m\u001b[1;33m\u001b[0m\u001b[0m\n",
      "\u001b[1;31mNotImplementedError\u001b[0m: StateSpace.zeros is currently implemented only for SISO systems."
     ]
    }
   ],
   "source": [
    "import numpy as np\n",
    "import control\n",
    "A = np.array([[0, 1],[-1, -3]])\n",
    "B = np.array([[0,0],[2,4]])\n",
    "\n",
    "C = np.array([1, 0])\n",
    "D = np.array([0,1])\n",
    "state_space_model =control.ss(A,B,C,D) \n",
    "poles = state_space_model.pole()\n",
    "print poles\n",
    "#since for zeros it gives error as it can only determine for single input single output.\n",
    "zeros = state_space_model.zero()\n",
    "print zeros"
   ]
  },
  {
   "cell_type": "code",
   "execution_count": 15,
   "metadata": {
    "collapsed": false
   },
   "outputs": [
    {
     "data": {
      "image/png": "[encoded data removed]",
      "text/latex": [
       "$$\\left[\\begin{matrix}\\frac{1}{m s \\left(\\frac{c}{m} + \\frac{k}{m s} + s\\right)}\\end{matrix}\\right]$$"
      ],
      "text/plain": [
       "⎡        1        ⎤\n",
       "⎢─────────────────⎥\n",
       "⎢    ⎛c    k     ⎞⎥\n",
       "⎢m⋅s⋅⎜─ + ─── + s⎟⎥\n",
       "⎣    ⎝m   m⋅s    ⎠⎦"
      ]
     },
     "execution_count": 15,
     "metadata": {},
     "output_type": "execute_result"
    }
   ],
   "source": [
    "#Transfer function for Mass Damper system\n",
    "\n",
    "import control \n",
    "import numpy as np\n",
    "import sympy as sp\n",
    "\n",
    "sp.init_printing()\n",
    "k,m,c,s = sp.symbols('k,m,c,s')\n",
    "#to convert state space into transfer function we have,\n",
    "# T(s) = C([sI-A]^-1)B+D\n",
    "A = sp.Matrix([[0,1],[-k/m, -c/m]])\n",
    "B = sp.Matrix([[0],[1/m]])\n",
    "C = sp.Matrix([[1,0]])\n",
    "D = sp.Matrix([0])\n",
    "#To compute transfer function , formula is used as :\n",
    "# Transfer function = C*((SI - A)^-1)*B + D\n",
    "identity_matrix = sp.Matrix([[1,0],[0,1]])\n",
    "\n",
    "Identity_s = s*identity_matrix\n",
    "\n",
    "subtract_SI_A = Identity_s-A\n",
    "inverse = subtract_SI_A.inv()\n",
    "product_c_with_inverse = C*inverse\n",
    "transfer_function = product_c_with_inverse*B + D\n",
    "transfer_function"
   ]
  },
  {
   "cell_type": "code",
   "execution_count": 151,
   "metadata": {
    "collapsed": false
   },
   "outputs": [
    {
     "data": {
      "image/png": "[encoded data removed]",
      "text/latex": [
       "$$\\left[\\begin{matrix}\\frac{L c s^{2}}{L c s^{2} + R c s + 1}\\end{matrix}\\right]$$"
      ],
      "text/plain": [
       "⎡           2      ⎤\n",
       "⎢      L⋅c⋅s       ⎥\n",
       "⎢──────────────────⎥\n",
       "⎢     2            ⎥\n",
       "⎣L⋅c⋅s  + R⋅c⋅s + 1⎦"
      ]
     },
     "execution_count": 151,
     "metadata": {},
     "output_type": "execute_result"
    }
   ],
   "source": [
    "#Transfer function for RLC circuit\n",
    "\n",
    "import numpy as np\n",
    "import control\n",
    "sp.init_printing()\n",
    "import sympy as sp\n",
    "L,C,R,c,s =  sp.symbols('L,C,R,c,s')\n",
    "\n",
    "A = sp.Matrix([[0,1/c],[-1/L, -R/L]])\n",
    "B = sp.Matrix([[0],[1/L]])\n",
    "C = sp.Matrix([[-1, -R]])\n",
    "D = sp.Matrix([1])\n",
    "#To compute transfer function , formula is used as :\n",
    "# Transfer function = C*((SI - A)^-1)*B + D\n",
    "I = sp.Matrix([[1,0],[0,1]])\n",
    "SI = s*I\n",
    "subtract_SI_A = SI-A\n",
    "inverse = subtract_SI_A.inv()\n",
    "product_c_with_inverse = C*inverse\n",
    "transfer_function = sp.simplify(product_c_with_inverse*B + D)\n",
    "transfer_function"
   ]
  },
  {
   "cell_type": "code",
   "execution_count": null,
   "metadata": {
    "collapsed": true
   },
   "outputs": [],
   "source": []
  }
 ],
 "metadata": {
  "anaconda-cloud": {},
  "kernelspec": {
   "display_name": "Python [Root]",
   "language": "python",
   "name": "Python [Root]"
  },
  "language_info": {
   "codemirror_mode": {
    "name": "ipython",
    "version": 2
   },
   "file_extension": ".py",
   "mimetype": "text/x-python",
   "name": "python",
   "nbconvert_exporter": "python",
   "pygments_lexer": "ipython2",
   "version": "2.7.12"
  }
 },
 "nbformat": 4,
 "nbformat_minor": 0
}
