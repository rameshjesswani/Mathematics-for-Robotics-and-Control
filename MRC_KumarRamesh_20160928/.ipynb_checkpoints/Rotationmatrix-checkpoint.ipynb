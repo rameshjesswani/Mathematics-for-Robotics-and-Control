{
 "cells": [
  {
   "cell_type": "code",
   "execution_count": 1,
   "metadata": {
    "collapsed": true
   },
   "outputs": [],
   "source": [
    "import numpy as np\n"
   ]
  },
  {
   "cell_type": "code",
   "execution_count": 2,
   "metadata": {
    "collapsed": false
   },
   "outputs": [],
   "source": [
    "theta = np.radians(90)\n",
    "rot = np.array([[1,0,0],\n",
    "                [0,np.cos(theta),-np.sin(theta)],\n",
    "                [0,np.sin(theta),np.cos(theta)]])\n"
   ]
  },
  {
   "cell_type": "code",
   "execution_count": 3,
   "metadata": {
    "collapsed": false
   },
   "outputs": [],
   "source": [
    "def rotation_matrix(rot):\n",
    "\n",
    "    trace = np.trace(rot)\n",
    "    #print trace\n",
    "    angle = np.rad2deg(np.arccos((trace-1)/2))\n",
    "    print angle\n",
    "    euc = np.sqrt((rot[2][1]-rot[1][2])**2 + (rot[0][2]-rot[2][0])**2 + (rot[1][0]-rot[0][1])**2)\n",
    "    #print euc\n",
    "    x = np.array(rot[2][1]-rot[1][2])/euc\n",
    "    y = np.array(rot[0][2]-rot[2][0])/euc\n",
    "    z = np.array(rot[1][0]-rot[0][1])/euc\n",
    "    #print x\n",
    "    #print y\n",
    "    #print z\n",
    "    x_axis = \"x-axis\"\n",
    "    y_axis = \"y-axis\"\n",
    "    z_axis = \"z-axis\"\n",
    "\n",
    "    if (abs(x) == 1):\n",
    "        return x_axis\n",
    "       \n",
    "    if (abs(y) == 1):\n",
    "        return y_axis\n",
    "        \n",
    "    if (abs(z) == 1):\n",
    "        return z_axis\n",
    "        \n"
   ]
  },
  {
   "cell_type": "code",
   "execution_count": 4,
   "metadata": {
    "collapsed": false
   },
   "outputs": [
    {
     "name": "stdout",
     "output_type": "stream",
     "text": [
      "90.0\n"
     ]
    },
    {
     "data": {
      "text/plain": [
       "'x-axis'"
      ]
     },
     "execution_count": 4,
     "metadata": {},
     "output_type": "execute_result"
    }
   ],
   "source": [
    "rotation_matrix(rot)"
   ]
  },
  {
   "cell_type": "code",
   "execution_count": 5,
   "metadata": {
    "collapsed": true
   },
   "outputs": [],
   "source": [
    "import numpy as np\n"
   ]
  },
  {
   "cell_type": "code",
   "execution_count": 6,
   "metadata": {
    "collapsed": false
   },
   "outputs": [
    {
     "name": "stdout",
     "output_type": "stream",
     "text": [
      "90.0\n",
      "2.0\n",
      "-1.0\n",
      "0.0\n",
      "0.0\n"
     ]
    },
    {
     "ename": "SyntaxError",
     "evalue": "'return' outside function (<ipython-input-6-b81d143b3d60>, line 20)",
     "output_type": "error",
     "traceback": [
      "\u001b[1;36m  File \u001b[1;32m\"<ipython-input-6-b81d143b3d60>\"\u001b[1;36m, line \u001b[1;32m20\u001b[0m\n\u001b[1;33m    return x_axis\u001b[0m\n\u001b[1;31mSyntaxError\u001b[0m\u001b[1;31m:\u001b[0m 'return' outside function\n"
     ]
    }
   ],
   "source": [
    "theta = np.radians(90)\n",
    "rot1 = np.array([[1,0,0],\n",
    "                [0,np.cos(theta),np.sin(theta)],\n",
    "                [0,-np.sin(theta),np.cos(theta)]])\n",
    "trace = np.trace(rot1)\n",
    "angle = np.rad2deg(np.arccos((trace-1)/2))\n",
    "print angle\n",
    "euc = np.sqrt((rot1[2][1]-rot1[1][2])**2 + (rot1[0][2]-rot1[2][0])**2 + (rot1[1][0]-rot1[0][1])**2 )\n",
    "print euc\n",
    "x = (rot1[2][1]-rot1[1][2])/euc\n",
    "print x\n",
    "y = (rot1[2][0]-rot1[0][2])/euc\n",
    "print y\n",
    "z = (rot1[1][0]-rot1[0][1])/euc\n",
    "print z\n",
    "x_axis = \"x-axix\"\n",
    "y_axis = \"y-axis\"\n",
    "z_axis = \"z-axis\"\n",
    "if (abs(x) == 1):\n",
    "    return x_axis\n",
    "       \n",
    "if (abs(y) == 1):\n",
    "    return y_axis\n",
    "        \n",
    "if (abs(z) == 1):\n",
    "    return z_axis"
   ]
  },
  {
   "cell_type": "code",
   "execution_count": null,
   "metadata": {
    "collapsed": false
   },
   "outputs": [],
   "source": [
    "theta = np.radians(90)\n",
    "rot1 = np.array([[1,0,0],\n",
    "                [0,np.cos(theta),-np.sin(theta)],\n",
    "                [0,np.sin(theta),np.cos(theta)]])\n",
    "rot1"
   ]
  },
  {
   "cell_type": "code",
   "execution_count": null,
   "metadata": {
    "collapsed": true
   },
   "outputs": [],
   "source": [
    "def rotation1(rot1):\n",
    "    \n",
    "    trace = np.trace(rot1)\n",
    "    angle = np.rad2deg(np.arccos((trace-1)/2))\n",
    "    print angle\n",
    "    euc = np.sqrt((rot1[2][1]-rot1[1][2])**2 + (rot1[0][2]-rot1[2][0])**2 + (rot1[1][0]-rot1[0][1])**2 )\n",
    "    #print euc\n",
    "    x = (rot1[2][1]-rot1[1][2])/euc\n",
    "    y = (rot1[2][0]-rot1[0][2])/euc\n",
    "    z = (rot1[1][0]-rot1[0][1])/euc\n",
    "    \n",
    "    x_axis = \"x-axix\"\n",
    "    y_axis = \"y-axis\"\n",
    "    z_axis = \"z-axis\"\n",
    "    \n",
    "    \n",
    "    if (abs(x)==1):\n",
    "        return x_axis\n",
    "    if (abs(y)==1):\n",
    "        return y_axis\n",
    "    if (abs(z)==1):\n",
    "        return z_axis"
   ]
  },
  {
   "cell_type": "raw",
   "metadata": {},
   "source": []
  },
  {
   "cell_type": "code",
   "execution_count": 7,
   "metadata": {
    "collapsed": false
   },
   "outputs": [
    {
     "ename": "NameError",
     "evalue": "name 'rotation1' is not defined",
     "output_type": "error",
     "traceback": [
      "\u001b[1;31m---------------------------------------------------------------------------\u001b[0m",
      "\u001b[1;31mNameError\u001b[0m                                 Traceback (most recent call last)",
      "\u001b[1;32m<ipython-input-7-91813b638983>\u001b[0m in \u001b[0;36m<module>\u001b[1;34m()\u001b[0m\n\u001b[1;32m----> 1\u001b[1;33m \u001b[0mrotation1\u001b[0m\u001b[1;33m(\u001b[0m\u001b[0mrot1\u001b[0m\u001b[1;33m)\u001b[0m\u001b[1;33m\u001b[0m\u001b[0m\n\u001b[0m",
      "\u001b[1;31mNameError\u001b[0m: name 'rotation1' is not defined"
     ]
    }
   ],
   "source": [
    "rotation1(rot1)"
   ]
  },
  {
   "cell_type": "code",
   "execution_count": 8,
   "metadata": {
    "collapsed": false
   },
   "outputs": [
    {
     "data": {
      "text/plain": [
       "Matrix([\n",
       "[  0.97960534859202, 0.200622117011937, 0.0111412376132973,     1.26378962688298],\n",
       "[-0.200622117011937, 0.973519087391822,   0.10959631676951,               -0.319],\n",
       "[0.0111412376132972, -0.10959631676951,  0.993913738799802, 0.000946772698371512],\n",
       "[                 0,                 0,                  0,                    1]])"
      ]
     },
     "execution_count": 8,
     "metadata": {},
     "output_type": "execute_result"
    }
   ],
   "source": [
    "import sympy as sp\n",
    "import numpy as np\n",
    "import sympy.physics.mechanics as spm\n",
    "#from sympy.physics.mechanics import ReferenceFrame\n",
    "B = spm.ReferenceFrame('B')\n",
    "C = spm.ReferenceFrame('C')\n",
    "D = spm.ReferenceFrame('D')\n",
    "\n",
    "#Transform B to C\n",
    "B.orient(C,'Body',[0,np.radians(28.647),0],'zyx')\n",
    "Rotation = C.dcm(B)\n",
    "translation_C_B = sp.Matrix([[-0.176], [0.035], [0.563]])\n",
    "col_stuck = Rotation.row_join(translation_C_B)\n",
    "Transform_B_C = col_stuck.col_join(sp.Matrix([[0,0,0,1]]))\n",
    "\n",
    "#Transform D to C\n",
    "C.orient(D,'Body',[np.radians(-13.215),np.radians(-28.647), 0],'zyx')\n",
    "rotation_D_C = D.dcm(C)\n",
    "translation_D_C = sp.Matrix([[1.533], [-0.354], [0.197]])\n",
    "col_stuck1 = rotation_D_C.row_join(translation_D_C)\n",
    "Transform_D_C = col_stuck1.col_join(sp.Matrix([[0,0,0,1]]))\n",
    "\n",
    "#Transform D to B \n",
    "Transform_D_B = Transform_B_C * Transform_D_C\n",
    "Transform_D_B"
   ]
  },
  {
   "cell_type": "code",
   "execution_count": 24,
   "metadata": {
    "collapsed": false
   },
   "outputs": [
    {
     "name": "stdout",
     "output_type": "stream",
     "text": [
      "Matrix([\n",
      "[0.877590006870609, 0, -0.479411910407788, 1.124],\n",
      "[                0, 1,                  0, -0.06],\n",
      "[0.479411910407788, 0,  0.877590006870609, 0.473],\n",
      "[                0, 0,                  0,     1]])\n"
     ]
    }
   ],
   "source": [
    "import numpy as np\n",
    "import sympy as sp\n",
    "import sympy.physics.mechanics as spm\n",
    "from sympy.physics.mechanics import ReferenceFrame\n",
    "\n",
    "B = spm.ReferenceFrame('B')\n",
    "C = spm.ReferenceFrame('C')\n",
    "D = spm.ReferenceFrame('D')\n",
    "E = spm.ReferenceFrame('E')\n",
    "P = spm.ReferenceFrame('P')\n",
    "\n",
    "\n",
    "#Transform D to C\n",
    "C.orient(D,'Body',[np.radians(-13.215),np.radians(-28.647), 0],'zyx')\n",
    "rotation_D_C = D.dcm(C)\n",
    "translation_D_C = sp.Matrix([[1.533], [-0.354], [0.197]])\n",
    "col_stuck1 = rotation_D_C.row_join(translation_D_C)\n",
    "Transform_D_C = col_stuck1.col_join(sp.Matrix([[0,0,0,1]]))\n",
    "\n",
    "#Transform P to C\n",
    "C.orient(P,'Body',[0,np.radians(-28.647), 0],'zyx')\n",
    "rotation_P_C = P.dcm(C)\n",
    "translation_P_C = sp.Matrix([1.124, -0.060, 0.473])\n",
    "col_stuck2 = rotation_P_C.row_join(translation_P_C)\n",
    "Transform_P_C = col_stuck2.col_join(sp.Matrix([[0,0,0,1]]))\n",
    "print Transform_P_C\n",
    "#Transform C to B\n",
    "\n",
    "B.orient(C,'Body',[0,np.radians(28.647),0],'zyx')\n",
    "Rotation = C.dcm(B)\n",
    "translation_C_B = sp.Matrix([[-0.176], [0.035], [0.563]])\n",
    "col_stuck3 = Rotation.row_join(translation_C_B)\n",
    "Transform_C_B = col_stuck3.col_join(sp.Matrix([[0,0,0,1]]))\n",
    "#print Transform_C_B\n",
    "#Compute inverse transform_E_B\n",
    "B.orient(E,'Body',[0,np.radians(90), 0],'zyx')\n",
    "rotation_E_B = E.dcm(B)\n",
    "Translation_E_B =  Translation_E_B = sp.Matrix([0.679, -0.019, 0.445])\n",
    "rotation_E_B = rotation_E_B.transpose()\n",
    "dp = -(rotation_E_B * Translation_E_B)\n",
    "col_stuck = rotation_E_B.row_join(dp)\n",
    "Inverse_transform_E_B = col_stuck.col_join(sp.Matrix([[0,0,0,1]]))\n",
    "#Inverse_transform_E_B\n",
    "Tranform_E_P = Inverse_transform_E_B*Transform_C_B*Transform_P_C\n",
    "nump = np.array(Tranform_E_P)\n"
   ]
  },
  {
   "cell_type": "code",
   "execution_count": 28,
   "metadata": {
    "collapsed": false
   },
   "outputs": [
    {
     "data": {
      "text/plain": [
       "array([[  1.00000000e+00,   0.00000000e+00,   0.00000000e+00],\n",
       "       [  0.00000000e+00,   6.12323400e-17,  -1.00000000e+00],\n",
       "       [  0.00000000e+00,   1.00000000e+00,   6.12323400e-17]])"
      ]
     },
     "execution_count": 28,
     "metadata": {},
     "output_type": "execute_result"
    }
   ],
   "source": [
    "import numpy as np\n",
    "theta = np.radians(90)\n",
    "rot = np.array([[1,0,0],\n",
    "                [0,np.cos(theta),-np.sin(theta)],\n",
    "                [0,np.sin(theta),np.cos(theta)]])\n",
    "rot"
   ]
  },
  {
   "cell_type": "code",
   "execution_count": 27,
   "metadata": {
    "collapsed": true
   },
   "outputs": [],
   "source": [
    "trace_of_matrix = np.trace(rot)\n",
    "angle = np.rad2deg(np.arccos((trace-1)/2))\n",
    "euc = np.sqrt((rot[2][1] - rot[1][2])**2 + (rot[2][0]-rot[1][2])"
   ]
  },
  {
   "cell_type": "code",
   "execution_count": null,
   "metadata": {
    "collapsed": true
   },
   "outputs": [],
   "source": []
  }
 ],
 "metadata": {
  "kernelspec": {
   "display_name": "Python [Root]",
   "language": "python",
   "name": "Python [Root]"
  },
  "language_info": {
   "codemirror_mode": {
    "name": "ipython",
    "version": 2
   },
   "file_extension": ".py",
   "mimetype": "text/x-python",
   "name": "python",
   "nbconvert_exporter": "python",
   "pygments_lexer": "ipython2",
   "version": "2.7.12"
  }
 },
 "nbformat": 4,
 "nbformat_minor": 0
}
