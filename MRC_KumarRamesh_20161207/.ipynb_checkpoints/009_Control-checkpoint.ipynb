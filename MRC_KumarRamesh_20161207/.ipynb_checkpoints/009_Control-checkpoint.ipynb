{
 "cells": [
  {
   "cell_type": "markdown",
   "metadata": {},
   "source": [
    "<style type=\"text/css\">\n",
    ".time_spent {\n",
    "    width: 3em;\n",
    "    border-style: none;\n",
    "    background-color: silver;\n",
    "    font-weight: bold;\n",
    "    padding-left: 5px;\n",
    "}\n",
    "</style>"
   ]
  },
  {
   "cell_type": "markdown",
   "metadata": {},
   "source": [
    "# [SS16] Mathematics for Robotics and Control Assignment 009 - Control"
   ]
  },
  {
   "cell_type": "code",
   "execution_count": 4,
   "metadata": {
    "collapsed": false
   },
   "outputs": [
    {
     "name": "stdout",
     "output_type": "stream",
     "text": [
      "Populating the interactive namespace from numpy and matplotlib\n"
     ]
    }
   ],
   "source": [
    "import IPython.core.display\n",
    "import sys\n",
    "if not \"win\" in sys.platform and not \"linux\" in sys.platform:\n",
    "    %pylab\n",
    "else:\n",
    "    %pylab inline"
   ]
  },
  {
   "cell_type": "markdown",
   "metadata": {},
   "source": [
    "---"
   ]
  },
  {
   "cell_type": "markdown",
   "metadata": {},
   "source": [
    "### Assignment 9.1 <span style=\"color: green;\">[L1]</span>"
   ]
  },
  {
   "cell_type": "markdown",
   "metadata": {},
   "source": [
    "Answer the following questions:\n",
    "\n",
    "1. What is open-loop control?\n",
    "2. What is closed-loop control?\n",
    "3. What is a transfer function?\n",
    "4. What is the difference between the open and closed transfer function?\n",
    "5. What are poles, what are zeros of a transfer function?\n",
    "6. Given that the numerator and denominator polynomials of a transfer function have real coefficients, what does that mean for the poles of the transfer function (mathematically)? What does it mean for the zeros?\n",
    "7. What is the order of a system? How can you determine it, given the different system representations you know?\n",
    "8. Imagine you have a system description made up of several ODEs, how would you obtain a system representation that you can easily analyze/simulate/control on a computer?\n",
    "9. What is the steady-state response of a system?\n",
    "10. What is the transient response of a system?\n",
    "11. What is the homogenuous response of a system?\n",
    "12. What is the step response of a system?\n",
    "13. What is the impulse response of a system?\n",
    "14. For each response, describe it's usefulness / applications. Why are we interested in the different responses? What do they tell us?\n",
    "15. Describe the transient response and it's importance in your own words.\n",
    "16. What are the properties of the transient response? How can you determine each of the properties given a system's description?"
   ]
  },
  {
   "cell_type": "markdown",
   "metadata": {},
   "source": [
    "# Solution 9.1\n",
    "1. ...\n",
    "2. ...\n",
    "3. ...\n",
    "4. ...\n",
    "5. ...\n",
    "6. ...\n",
    "7. ...\n",
    "8. ...\n",
    "9. ...\n",
    "10. ...\n",
    "11. ...\n",
    "12. ...\n",
    "13. ...\n",
    "14. ...\n",
    "15. ...\n",
    "16. ..."
   ]
  },
  {
   "cell_type": "markdown",
   "metadata": {},
   "source": [
    "---"
   ]
  },
  {
   "cell_type": "markdown",
   "metadata": {},
   "source": [
    "### Assignment 9.2 <span style=\"color: green;\">[L1]</span>"
   ]
  },
  {
   "cell_type": "markdown",
   "metadata": {},
   "source": [
    " You know that given a transfer function\n",
    "\n",
    "$H(s) = \\frac{1}{(s+a) \\cdot (s+b) \\cdot (s+c)}$\n",
    "\n",
    "you can decompose the denominator into\n",
    "\n",
    "$H(s) = \\frac{K_1}{(s+a)} + \\frac{K_2}{(s+b)} + \\frac{K_3}{(s+c)}$\n",
    "\n",
    "for some gain values $K_1, K_2$ and $K_3$, using partial fraction expansion. This was also covered in the lecture on the Laplace transform given by your fellow student last week. \n",
    "\n",
    "1. Apply the inverse Laplace transformation to each of the components factored out in the example above. What is the result?\n",
    "2. What are $a$, $b$ and $c$ in the example above, i.e. what is their type?\n",
    "3. You know by now that the transfer function $H(s)$ characterizes the behavior of a system. How do components such as those given in the example above influence the behavior of the system? What can you tell about each component given the values for $a$, $b$ and $c$? How does the range of each value for $a$, $b$ and $c$ influence the component?\n",
    "4. What influence does each $K$ have?"
   ]
  },
  {
   "cell_type": "markdown",
   "metadata": {},
   "source": [
    "# Solution 9.2\n",
    "\n"
   ]
  },
  {
   "cell_type": "markdown",
   "metadata": {},
   "source": [
    "---"
   ]
  },
  {
   "cell_type": "markdown",
   "metadata": {},
   "source": [
    "### Assignment 9.3 <span style=\"color: green;\">[L1]</span>"
   ]
  },
  {
   "cell_type": "markdown",
   "metadata": {},
   "source": [
    "Assume you are given a transfer function\n",
    "\n",
    "$H(s) = \\frac{2 \\cdot s + 1}{s^2 + 3 \\cdot s + 2}$"
   ]
  },
  {
   "cell_type": "markdown",
   "metadata": {},
   "source": [
    "Partial fraction expansion yields:\n",
    "$H(s) = -\\frac{1}{s+1} + \\frac{3}{s+2}$"
   ]
  },
  {
   "cell_type": "markdown",
   "metadata": {},
   "source": [
    "Now, you want to obtain a pole-zero plot of the transfer function in order to evaluate the underlying system's properties. Using the Python control library you installed in a previous assignment, we can do the following. Note how the coefficients are used to create a transfer function:"
   ]
  },
  {
   "cell_type": "code",
   "execution_count": 1,
   "metadata": {
    "collapsed": false
   },
   "outputs": [
    {
     "name": "stdout",
     "output_type": "stream",
     "text": [
      "\n",
      "   2 s + 1\n",
      "-------------\n",
      "s^2 + 3 s + 2\n",
      "\n"
     ]
    }
   ],
   "source": [
    "import control\n",
    "tf = control.tf( [2, 1], [1, 3, 2])\n",
    "print tf"
   ]
  },
  {
   "cell_type": "markdown",
   "metadata": {},
   "source": [
    "Now, obtain a pole/zero plot of the transfer function:"
   ]
  },
  {
   "cell_type": "code",
   "execution_count": 30,
   "metadata": {
    "collapsed": false
   },
   "outputs": [
    {
     "data": {
      "text/plain": [
       "(array([-2., -1.]), array([-0.5]))"
      ]
     },
     "execution_count": 30,
     "metadata": {},
     "output_type": "execute_result"
    },
    {
     "data": {
      "image/png": "[encoded data removed]",
      "text/plain": [
       "<matplotlib.figure.Figure at 0x49d0650>"
      ]
     },
     "metadata": {},
     "output_type": "display_data"
    }
   ],
   "source": [
    "control.pzmap.pzmap(tf)"
   ]
  },
  {
   "cell_type": "markdown",
   "metadata": {},
   "source": [
    "** 9.3.1 : Factor the transfer functions denominator and compare the result with the plot above. Is the result as you would expect? Discuss.**"
   ]
  },
  {
   "cell_type": "code",
   "execution_count": 36,
   "metadata": {
    "collapsed": false
   },
   "outputs": [
    {
     "name": "stdout",
     "output_type": "stream",
     "text": [
      "(s + 1)⋅(s + 2)\n"
     ]
    }
   ],
   "source": [
    "import sympy\n",
    "\n",
    "s = sympy.Symbol(\"s\")\n",
    "denominator = s**2 + 3*s + 2\n",
    "sympy.pretty_print( sympy.factor(denominator) )"
   ]
  },
  {
   "cell_type": "markdown",
   "metadata": {},
   "source": [
    "#### Answer 9.3.1 ...\n",
    "\n",
    "\n",
    "...\n",
    "\n",
    "\n"
   ]
  },
  {
   "cell_type": "markdown",
   "metadata": {},
   "source": [
    "If you want to obtain the poles and zeros as numeric values, use the **pole** and **zero** functions of the control module:"
   ]
  },
  {
   "cell_type": "code",
   "execution_count": 2,
   "metadata": {
    "collapsed": false
   },
   "outputs": [
    {
     "name": "stdout",
     "output_type": "stream",
     "text": [
      "Poles: [-2. -1.]\n",
      "Zeros: [-0.5]\n"
     ]
    }
   ],
   "source": [
    "print \"Poles:\", control.pole(tf)\n",
    "print \"Zeros:\", control.zero(tf)"
   ]
  },
  {
   "cell_type": "markdown",
   "metadata": {},
   "source": [
    "...although for a simple, factored TF like the one given here, you could immediately obtain the results just by looking at it's definition of course. Now, let's look at the behavior of the system in more detail. Here is it's impulse response:"
   ]
  },
  {
   "cell_type": "code",
   "execution_count": 5,
   "metadata": {
    "collapsed": false
   },
   "outputs": [
    {
     "name": "stdout",
     "output_type": "stream",
     "text": [
      "\n",
      "   2 s + 1\n",
      "-------------\n",
      "s^2 + 3 s + 2\n",
      "\n"
     ]
    },
    {
     "data": {
      "text/plain": [
       "[<matplotlib.lines.Line2D at 0x7f942793afd0>]"
      ]
     },
     "execution_count": 5,
     "metadata": {},
     "output_type": "execute_result"
    },
    {
     "data": {
      "image/png": "[encoded data removed]",
      "text/plain": [
       "<matplotlib.figure.Figure at 0x7f942798b610>"
      ]
     },
     "metadata": {},
     "output_type": "display_data"
    }
   ],
   "source": [
    "print tf\n",
    "t, y = control.impulse_response(tf)\n",
    "plot(t, y, \"b-\")"
   ]
  },
  {
   "cell_type": "markdown",
   "metadata": {},
   "source": [
    "** 9.3.2 Apply the inverse Laplace transform to each of the components of the transfer function above. Create a function h(t) in Python, apply it to the values of t obtained in the code snippet above and plot the result. Compare the resulting plot to the plot above. Discuss the result.**"
   ]
  },
  {
   "cell_type": "code",
   "execution_count": 7,
   "metadata": {
    "collapsed": false
   },
   "outputs": [],
   "source": [
    "# Answer 9.3.2\n",
    "h = lambda t: 0 # Modify this\n",
    "# ..."
   ]
  },
  {
   "cell_type": "markdown",
   "metadata": {},
   "source": [
    "** 9.3.3 How to obtain the natural response of a system?**"
   ]
  },
  {
   "cell_type": "markdown",
   "metadata": {},
   "source": [
    "#### Answer 9.3.3..."
   ]
  },
  {
   "cell_type": "markdown",
   "metadata": {},
   "source": [
    "Now, take the transfer function as given above and gradually move the pole at -1 closer and finally into the right half plane. What do you notice?\n",
    "\n",
    "1. How does this movement influence the behavior of the transfer function?\n",
    "2. What can you say about how that affects the homogenous / natural response of the system?\n",
    "3. Can you derive any criteria that would allow you to immediately characterize the behavior of a system / some important aspects of the system's behavior just by looking at the location of the poles and zeros, i.e. it's pole/zero plot?"
   ]
  },
  {
   "cell_type": "markdown",
   "metadata": {},
   "source": [
    "---"
   ]
  }
 ],
 "metadata": {
  "kernelspec": {
   "display_name": "Python 2",
   "language": "python",
   "name": "python2"
  },
  "language_info": {
   "codemirror_mode": {
    "name": "ipython",
    "version": 2
   },
   "file_extension": ".py",
   "mimetype": "text/x-python",
   "name": "python",
   "nbconvert_exporter": "python",
   "pygments_lexer": "ipython2",
   "version": "2.7.11"
  }
 },
 "nbformat": 4,
 "nbformat_minor": 0
}
