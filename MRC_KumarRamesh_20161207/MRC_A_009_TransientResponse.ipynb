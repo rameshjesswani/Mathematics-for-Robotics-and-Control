{
 "cells": [
  {
   "cell_type": "markdown",
   "metadata": {},
   "source": [
    "# Assignment 9.1"
   ]
  },
  {
   "cell_type": "markdown",
   "metadata": {},
   "source": [
    "Let $T_p$ (peak time) be the time required by the output signal to reach its maximum value.\n",
    "For a second order system:\n",
    "$$T_p = \\frac{\\pi}{\\omega _n \\sqrt{1- \\zeta ^2} } $$\n",
    "\n",
    "Let $\\%OS$ (percentage overshoot) be given by the equation below, where smax is the maximum value of the output signal ’s’ and sfinal is the final (steady state) value of ’s’.\n",
    "$$ \\%OS = \\frac{s_{max} − s_{final}}{s_{final}} × 100 $$\n",
    "The damping ratio is related to $\\%OS$ as following:\n",
    "\n",
    "$$ \\zeta = \\frac{−\\ln\\frac{\\%OS}{100}}{\\sqrt {\\pi^2 + \\ln^2(\\frac{ \\%OS}{100} ) }}$$\n",
    "1. Consider the step response of a second order system below.Use this response and the equations above to find the (approximate) transfer function expression for the second order system. ![](images/Fig_1.png)\n",
    "2. Simulate your transfer function using python control and verify your result."
   ]
  },
  {
   "cell_type": "markdown",
   "metadata": {
    "collapsed": true
   },
   "source": [
    "From the figure, we can assume that, \n",
    "$$s_{max} = 1.3$$\n",
    "\n",
    "$$s_{final} = 1$$\n",
    "\n",
    "$$T_{p} = 1.3$$\n",
    "\n",
    "Overshoots can be computed from :\n",
    "\n",
    "$$ \\%OS = \\frac{s_{max} − s_{final}}{s_{final}} × 100 $$\n",
    "\n",
    "Substituting values of $s_{max}$ and $s_{final}$ we get \n",
    "\n",
    "$$ \\%OS = 0.3 * 100 = 30\\%$$\n",
    "\n",
    "Damping ratio can be computed from :\n",
    "\n",
    "$$ \\zeta = \\frac{−\\ln\\frac{\\%OS}{100}}{\\sqrt {\\pi^2 + \\ln^2(\\frac{ \\%OS}{100} ) }}$$\n",
    "\n",
    "Substituting value of $\\%OS$ in above formula,  \n",
    "\n",
    "$$ \\zeta = 0.358 $$\n",
    "\n",
    "Similarly $\\omega_{n}$ can be computed by using this formula :\n",
    "$$T_p = \\frac{\\pi}{\\omega _n \\sqrt{1- \\zeta ^2} } $$\n",
    "\n",
    "substituting values of $T_{p}$, $\\omega_n$ can be computed as :\n",
    "\n",
    "$$\\omega_n = 2.586$$\n",
    "\n",
    "Therefore, Transfer function of second order system is :\n",
    "\n",
    "$$ T (s) = \\frac{6.687}{s^2 + 1.852s + 6.687} $$"
   ]
  },
  {
   "cell_type": "code",
   "execution_count": 1,
   "metadata": {
    "collapsed": false
   },
   "outputs": [
    {
     "name": "stderr",
     "output_type": "stream",
     "text": [
      "/home/ramesh/anaconda2/lib/python2.7/site-packages/matplotlib/font_manager.py:273: UserWarning: Matplotlib is building the font cache using fc-list. This may take a moment.\n",
      "  warnings.warn('Matplotlib is building the font cache using fc-list. This may take a moment.')\n"
     ]
    },
    {
     "data": {
      "text/plain": [
       "[<matplotlib.lines.Line2D at 0x7fb2ea308d50>]"
      ]
     },
     "execution_count": 1,
     "metadata": {},
     "output_type": "execute_result"
    },
    {
     "data": {
      "image/png": "[encoded data removed]",
      "text/plain": [
       "<matplotlib.figure.Figure at 0x7fb2ea45fc50>"
      ]
     },
     "metadata": {},
     "output_type": "display_data"
    }
   ],
   "source": [
    "# Solution Here \n",
    "import control \n",
    "import numpy\n",
    "import sympy\n",
    "import matplotlib.pyplot as plt\n",
    "%matplotlib inline\n",
    "num = [6.687]\n",
    "den = [1,1.852,6.687]\n",
    "transferfunction = control.TransferFunction(num,den)\n",
    "stepresponse, time = control.matlab.step(transferfunction)\n",
    "desiredoutput = numpy.ones(len(time))\n",
    "plt.plot(time,desiredoutput,color='r')\n",
    "plt.plot(time,stepresponse,color = 'g')"
   ]
  },
  {
   "cell_type": "markdown",
   "metadata": {},
   "source": [
    "# Assignment 9.2"
   ]
  },
  {
   "cell_type": "markdown",
   "metadata": {},
   "source": [
    "A transfer function of a second order system is given in the equation below:\n",
    "$$ T (s) = \\frac{24.542}{s^2 + 4s + 24.542} $$\n",
    "Simulate the step response of this simple system in python. Also simulate the step\n",
    "responses of the following third order systems:\n",
    "$$T_1(s) = \\frac{73.626}{(s + 3)(s^2 + 4s + 24.542)} $$\n",
    "$$ T_2(s) = \\frac{245.42}{(s + 10)(s^2 + 4s + 24.542)} $$\n",
    "$$ T_3(s) = \\frac{490.84}{(s + 20)(s^2 + 4s + 24.542)} $$\n",
    "\n",
    "Among the above third order systems which system can be best approximated by T (s) and\n",
    "why?"
   ]
  },
  {
   "cell_type": "code",
   "execution_count": 2,
   "metadata": {
    "collapsed": false
   },
   "outputs": [
    {
     "data": {
      "text/plain": [
       "[<matplotlib.lines.Line2D at 0x7fb31942b9d0>]"
      ]
     },
     "execution_count": 2,
     "metadata": {},
     "output_type": "execute_result"
    },
    {
     "data": {
      "image/png": "[encoded data removed]",
      "text/plain": [
       "<matplotlib.figure.Figure at 0x7fb319498dd0>"
      ]
     },
     "metadata": {},
     "output_type": "display_data"
    }
   ],
   "source": [
    "# Solution here\n",
    "import control \n",
    "import numpy\n",
    "import sympy\n",
    "import matplotlib.pyplot as plt\n",
    "%matplotlib inline\n",
    "num = [24.542]\n",
    "den = [1,4,24.542]\n",
    "transferfunction = control.TransferFunction(num,den)\n",
    "stepresponse_t, time = control.matlab.step(transferfunction)\n",
    "desiredoutput = numpy.ones(len(time))\n",
    "plt.plot(time,desiredoutput,color='r')\n",
    "plt.plot(time,stepresponse_t,color = 'b')"
   ]
  },
  {
   "cell_type": "code",
   "execution_count": 3,
   "metadata": {
    "collapsed": false
   },
   "outputs": [
    {
     "name": "stdout",
     "output_type": "stream",
     "text": [
      "\n",
      "            73.63\n",
      "-----------------------------\n",
      "s^3 + 7 s^2 + 36.54 s + 73.63\n",
      "\n"
     ]
    },
    {
     "data": {
      "text/plain": [
       "[<matplotlib.lines.Line2D at 0x7fb31942b0d0>]"
      ]
     },
     "execution_count": 3,
     "metadata": {},
     "output_type": "execute_result"
    },
    {
     "data": {
      "image/png": "[encoded data removed]",
      "text/plain": [
       "<matplotlib.figure.Figure at 0x7fb31942b8d0>"
      ]
     },
     "metadata": {},
     "output_type": "display_data"
    }
   ],
   "source": [
    "#T1(s)\n",
    "import control\n",
    "from control import *\n",
    "import numpy\n",
    "import sympy\n",
    "import matplotlib.pyplot as plt\n",
    "%matplotlib inline\n",
    "num1 = [73.626]\n",
    "den1 = [1,3]\n",
    "num2 = [1]\n",
    "den2 = [1,4,24.542]\n",
    "transfer_function1 = control.TransferFunction(num1,den1)\n",
    "transfer_function2 = control.TransferFunction(num2,den2)\n",
    "final_transferfunction = control.series(transfer_function1,transfer_function2)\n",
    "print final_transferfunction\n",
    "stepresponse_t1,time = step(final_transferfunction)\n",
    "desired_response = numpy.ones(len(time))\n",
    "plt.plot(time,desired_response)\n",
    "plt.plot(time,stepresponse_t1)"
   ]
  },
  {
   "cell_type": "code",
   "execution_count": null,
   "metadata": {
    "collapsed": false
   },
   "outputs": [],
   "source": []
  },
  {
   "cell_type": "code",
   "execution_count": 4,
   "metadata": {
    "collapsed": false
   },
   "outputs": [
    {
     "name": "stdout",
     "output_type": "stream",
     "text": [
      "\n",
      "             245.4\n",
      "------------------------------\n",
      "s^3 + 14 s^2 + 64.54 s + 245.4\n",
      "\n"
     ]
    },
    {
     "data": {
      "text/plain": [
       "[<matplotlib.lines.Line2D at 0x7fb2e76fde50>]"
      ]
     },
     "execution_count": 4,
     "metadata": {},
     "output_type": "execute_result"
    },
    {
     "data": {
      "image/png": "[encoded data removed]",
      "text/plain": [
       "<matplotlib.figure.Figure at 0x7fb3194472d0>"
      ]
     },
     "metadata": {},
     "output_type": "display_data"
    }
   ],
   "source": [
    "#3rd part\n",
    "#T2(s)\n",
    "import control \n",
    "from control import *\n",
    "import numpy\n",
    "import sympy\n",
    "import matplotlib.pyplot as plt\n",
    "%matplotlib inline\n",
    "num1 = [1]\n",
    "den1 = [1,10]\n",
    "num2 = [245.42]\n",
    "den2 = [1,4,24.542]\n",
    "transfer_function1 = control.TransferFunction(num1,den1)\n",
    "transfer_function2 = control.TransferFunction(num2,den2)\n",
    "final_transferfunction = control.series(transfer_function1,transfer_function2)\n",
    "print final_transferfunction\n",
    "stepresponse_t2,time = step(final_transferfunction)\n",
    "desired_response = numpy.ones(len(time))\n",
    "plt.plot(time,desired_response)\n",
    "plt.plot(time,stepresponse_t2)"
   ]
  },
  {
   "cell_type": "code",
   "execution_count": 5,
   "metadata": {
    "collapsed": false
   },
   "outputs": [
    {
     "name": "stdout",
     "output_type": "stream",
     "text": [
      "\n",
      "             490.8\n",
      "------------------------------\n",
      "s^3 + 24 s^2 + 104.5 s + 490.8\n",
      "\n"
     ]
    },
    {
     "data": {
      "text/plain": [
       "[<matplotlib.lines.Line2D at 0x7fb2e7851110>]"
      ]
     },
     "execution_count": 5,
     "metadata": {},
     "output_type": "execute_result"
    },
    {
     "data": {
      "image/png": "[encoded data removed]",
      "text/plain": [
       "<matplotlib.figure.Figure at 0x7fb2ea388350>"
      ]
     },
     "metadata": {},
     "output_type": "display_data"
    }
   ],
   "source": [
    "#T3 \n",
    "import control \n",
    "from control import *\n",
    "import numpy\n",
    "import sympy\n",
    "import matplotlib.pyplot as plt\n",
    "%matplotlib inline\n",
    "num1 = [1]\n",
    "den1 = [1,20]\n",
    "num2 = [490.84]\n",
    "den2 = [1,4,24.542]\n",
    "transfer_function1 = control.TransferFunction(num1,den1)\n",
    "transfer_function2 = control.TransferFunction(num2,den2)\n",
    "final_transferfunction = control.series(transfer_function1,transfer_function2)\n",
    "print final_transferfunction\n",
    "stepresponse_t3,time = step(final_transferfunction)\n",
    "desired_response = numpy.ones(len(time))\n",
    "plt.plot(time,desired_response)\n",
    "plt.plot(time,stepresponse_t3,color = 'y')"
   ]
  },
  {
   "cell_type": "markdown",
   "metadata": {},
   "source": [
    "Comparing step response of all provided systems, response of T3(s) can be best approximated to T(s) as transient response of both the systems is almost similar, while difference between responses of  T1(s) and T2(s) as compare to T(s) is more than T3(s).\n",
    "Comparison of responses of all systems is shown below on single plot.\n",
    "\n",
    "1. As number of poles are increasing, transient response also increases. \n",
    "2. Dominant poles leads to higher transient response.\n",
    "\n",
    "The slowest poles of a system (those closest to the imaginary axis in the s-plane) give\n",
    "rise to the longest lasting terms in the transient response of the system.\n",
    "o If a pole or set of poles are very slow compared to others in the transfer function, then\n",
    "they may dominate the transient response.\n",
    "o If we plot the transient response of the system without accounting for the transient\n",
    "response of the fastest poles, we may find little difference from the transient response\n",
    "of the original system."
   ]
  },
  {
   "cell_type": "code",
   "execution_count": 6,
   "metadata": {
    "collapsed": false
   },
   "outputs": [
    {
     "data": {
      "text/plain": [
       "[<matplotlib.lines.Line2D at 0x7fb2e74b5850>]"
      ]
     },
     "execution_count": 6,
     "metadata": {},
     "output_type": "execute_result"
    },
    {
     "data": {
      "image/png": "[encoded data removed]",
      "text/plain": [
       "<matplotlib.figure.Figure at 0x7fb2e778ea50>"
      ]
     },
     "metadata": {},
     "output_type": "display_data"
    }
   ],
   "source": [
    "desired_response = numpy.ones(len(time))\n",
    "\n",
    "plt.plot(time,stepresponse_t,color = 'g')\n",
    "plt.plot(time,stepresponse_t1,color='b')\n",
    "plt.plot(time,stepresponse_t2,color = 'r')\n",
    "plt.plot(time,stepresponse_t3,color = 'y')"
   ]
  },
  {
   "cell_type": "markdown",
   "metadata": {},
   "source": [
    "# Assignment 9.3"
   ]
  },
  {
   "cell_type": "markdown",
   "metadata": {},
   "source": [
    "The system in Fig. 2 is a unity feedback system with a compensator.![](images/Fig_2.png) Let\n",
    "the transfer function of the block named ’plant’ be given by following expression:\n",
    "$$ G(s) = \\frac{1} {(s + 1)(s + 2)(s + 10)} $$\n",
    "1. Let the gain of the compensator be 100 and simulate the system.\n",
    "2.  Let the complete transfer function of the ’compensator’ be C(s), where: $$ C(s) = \\frac{100(s + 0.1)}{s} $$\n",
    " Simulate the system and compare your result with the result of part (1).\n",
    " \n",
    "3. A model of the system is shown in ![Fig. 3](images/Fig_3.png). Let $K_1$ = 100 and $K_2$ = 10. Simulate the system with following transfer functions for $C_1$ and $C_2$ :\n",
    "$$ C_1(s) = K_1 $$\n",
    "$$ C_2(s) = \\frac{K_2}{s}$$\n",
    "Compare the result with the result of part (2). How do  $C_1(s)$ and $C_2(s)$ relate\n",
    "to $C(s)$ in part 2?\n",
    "\n",
    "4. Let the transfer function of the compensator in Fig.2 be following:\n",
    " $$ C(s) = \\frac{100(s + 0.111)}{(s + 0.01)} $$\n",
    "Simulate the system and compare the result with the result of part (2).\n",
    "5. Briefly summarize your results (part (1) to (4)) in plain english by commenting on the compensator(s) and their role in the system response. "
   ]
  },
  {
   "cell_type": "code",
   "execution_count": 24,
   "metadata": {
    "collapsed": false
   },
   "outputs": [
    {
     "name": "stdout",
     "output_type": "stream",
     "text": [
      "\n",
      "           100\n",
      "------------------------\n",
      "s^3 + 13 s^2 + 32 s + 20\n",
      "\n"
     ]
    },
    {
     "data": {
      "text/plain": [
       "[<matplotlib.lines.Line2D at 0x7fb2e684bf10>]"
      ]
     },
     "execution_count": 24,
     "metadata": {},
     "output_type": "execute_result"
    },
    {
     "data": {
      "image/png": "[encoded data removed]",
      "text/plain": [
       "<matplotlib.figure.Figure at 0x7fb2e688a3d0>"
      ]
     },
     "metadata": {},
     "output_type": "display_data"
    }
   ],
   "source": [
    "# Solution here\n",
    "# Part 1\n",
    "import control\n",
    "import numpy\n",
    "from control import *\n",
    "import matplotlib.pyplot as plt\n",
    "compensator_num = [100]\n",
    "compensator_den = [1]\n",
    "compensator = control.TransferFunction(compensator_num,compensator_den)\n",
    "num_plant = [1]\n",
    "#solve denominator part manually we have\n",
    "den_plant = [1,13,32,20]\n",
    "plant = control.TransferFunction(num_plant,den_plant)\n",
    "G = control.series(compensator,plant)\n",
    "print G\n",
    "feedback_1 = control.feedback(G,1)\n",
    "step_response_part1, time1 = step(feedback_1)\n",
    "desired_response = numpy.ones(len(time1))\n",
    "plt.plot(time1,desired_response)\n",
    "plt.plot(time1,step_response_part1)\n"
   ]
  },
  {
   "cell_type": "code",
   "execution_count": null,
   "metadata": {
    "collapsed": false
   },
   "outputs": [],
   "source": []
  },
  {
   "cell_type": "code",
   "execution_count": 26,
   "metadata": {
    "collapsed": false
   },
   "outputs": [
    {
     "name": "stdout",
     "output_type": "stream",
     "text": [
      "\n",
      "         100 s + 10\n",
      "----------------------------\n",
      "s^4 + 13 s^3 + 32 s^2 + 20 s\n",
      "\n"
     ]
    },
    {
     "data": {
      "text/plain": [
       "[<matplotlib.lines.Line2D at 0x7fb2e6663710>]"
      ]
     },
     "execution_count": 26,
     "metadata": {},
     "output_type": "execute_result"
    },
    {
     "data": {
      "image/png": "[encoded data removed]",
      "text/plain": [
       "<matplotlib.figure.Figure at 0x7fb2e65efc50>"
      ]
     },
     "metadata": {},
     "output_type": "display_data"
    }
   ],
   "source": [
    "# part 2\n",
    "# Solution here\n",
    "import control\n",
    "from control import *\n",
    "import matplotlib.pyplot as plt\n",
    "compensator_num = [100,10]\n",
    "compensator_den = [1,0]\n",
    "compensator = control.TransferFunction(compensator_num,compensator_den)\n",
    "num_plant = [1]\n",
    "#solve denominator part manually we have\n",
    "den_plant = [1,13,32,20]\n",
    "plant = control.TransferFunction(num_plant,den_plant)\n",
    "G = control.series(compensator,plant)\n",
    "print G\n",
    "feedback_2 = control.feedback(G,1)\n",
    "step_response_part2, time2 = step(feedback_2)\n",
    "desired_response = numpy.ones(len(time))\n",
    "plt.plot(time,desired_response)\n",
    "plt.plot(time,step_response_part2)"
   ]
  },
  {
   "cell_type": "code",
   "execution_count": 29,
   "metadata": {
    "collapsed": false
   },
   "outputs": [
    {
     "data": {
      "text/plain": [
       "[<matplotlib.lines.Line2D at 0x7fb2e63da950>]"
      ]
     },
     "execution_count": 29,
     "metadata": {},
     "output_type": "execute_result"
    },
    {
     "data": {
      "image/png": "[encoded data removed]",
      "text/plain": [
       "<matplotlib.figure.Figure at 0x7fb2e63dab10>"
      ]
     },
     "metadata": {},
     "output_type": "display_data"
    }
   ],
   "source": [
    "#Comparing responses of 1 and 2.\n",
    "plt.plot(time1,step_response_part1)\n",
    "plt.plot(time2,step_response_part2)"
   ]
  },
  {
   "cell_type": "markdown",
   "metadata": {},
   "source": [
    "By looking at the responses of 1 and 2, it is clear that both the system has same number of poles with same values but system 1 has larger overshoots than system 2. Moreover, rise time and settling time of 2 is much lesser than 1. Lastly, by adding compensator, it is clear that we can approach to the desired response while on the other hand, 1 is no way approaching the desired response."
   ]
  },
  {
   "cell_type": "code",
   "execution_count": null,
   "metadata": {
    "collapsed": false
   },
   "outputs": [],
   "source": []
  },
  {
   "cell_type": "code",
   "execution_count": null,
   "metadata": {
    "collapsed": false
   },
   "outputs": [],
   "source": []
  },
  {
   "cell_type": "code",
   "execution_count": 25,
   "metadata": {
    "collapsed": false
   },
   "outputs": [
    {
     "name": "stdout",
     "output_type": "stream",
     "text": [
      "\n",
      "         100 s + 10\n",
      "----------------------------\n",
      "s^4 + 13 s^3 + 32 s^2 + 20 s\n",
      "\n"
     ]
    },
    {
     "data": {
      "text/plain": [
       "[<matplotlib.lines.Line2D at 0x7fb2e6735690>]"
      ]
     },
     "execution_count": 25,
     "metadata": {},
     "output_type": "execute_result"
    },
    {
     "data": {
      "image/png": "[encoded data removed]",
      "text/plain": [
       "<matplotlib.figure.Figure at 0x7fb2e67410d0>"
      ]
     },
     "metadata": {},
     "output_type": "display_data"
    }
   ],
   "source": [
    "# part 3\n",
    "# Solution here\n",
    "import control\n",
    "from control import *\n",
    "import matplotlib.pyplot as plt\n",
    "compensator_num = [100,10]\n",
    "compensator_den = [1,0]\n",
    "compensator = control.TransferFunction(compensator_num,compensator_den)\n",
    "num_plant = [1]\n",
    "#solve denominator part manually we have\n",
    "den_plant = [1,13,32,20]\n",
    "plant = control.TransferFunction(num_plant,den_plant)\n",
    "G = control.series(compensator,plant)\n",
    "print G\n",
    "feedback = control.feedback(G,1)\n",
    "step_response, time3 = step(feedback)\n",
    "desired_response = numpy.ones(len(time3))\n",
    "plt.plot(time3,desired_response)\n",
    "plt.plot(time3,step_response)"
   ]
  },
  {
   "cell_type": "markdown",
   "metadata": {},
   "source": [
    "Responses of system 2 and 3 are exactly same as transfer function of both the system is same. On the other hand, $C_{1}(s)$ and $C_{2}(s)$ are parallel in C(s). Therefore, $C(s) = C_{1}(s) + C_{2}(s)$"
   ]
  },
  {
   "cell_type": "code",
   "execution_count": 31,
   "metadata": {
    "collapsed": false
   },
   "outputs": [
    {
     "name": "stdout",
     "output_type": "stream",
     "text": [
      "\n",
      "                100 s + 11.1\n",
      "-------------------------------------------\n",
      "s^4 + 13.01 s^3 + 32.13 s^2 + 20.32 s + 0.2\n",
      "\n"
     ]
    },
    {
     "data": {
      "text/plain": [
       "[<matplotlib.lines.Line2D at 0x7fb2e6382410>]"
      ]
     },
     "execution_count": 31,
     "metadata": {},
     "output_type": "execute_result"
    },
    {
     "data": {
      "image/png": "[encoded data removed]",
      "text/plain": [
       "<matplotlib.figure.Figure at 0x7fb2e639a250>"
      ]
     },
     "metadata": {},
     "output_type": "display_data"
    }
   ],
   "source": [
    "# part 4\n",
    "# Solution here\n",
    "import control\n",
    "from control import *\n",
    "import matplotlib.pyplot as plt\n",
    "compensator_num = [100,11.1]\n",
    "compensator_den = [1,0.01]\n",
    "compensator = control.TransferFunction(compensator_num,compensator_den)\n",
    "num_plant = [1]\n",
    "#solve denominator part manually we have\n",
    "den_plant = [1,13,32,20]\n",
    "plant = control.TransferFunction(num_plant,den_plant)\n",
    "G = control.series(compensator,plant)\n",
    "print G\n",
    "feedback = control.feedback(G,1)\n",
    "step_response_4, time4 = step(feedback)\n",
    "desired_response = numpy.ones(len(time4))\n",
    "plt.plot(time4,desired_response)\n",
    "plt.plot(time4,step_response_4)"
   ]
  },
  {
   "cell_type": "code",
   "execution_count": 33,
   "metadata": {
    "collapsed": false
   },
   "outputs": [
    {
     "data": {
      "text/plain": [
       "[<matplotlib.lines.Line2D at 0x7fb2e60624d0>]"
      ]
     },
     "execution_count": 33,
     "metadata": {},
     "output_type": "execute_result"
    },
    {
     "data": {
      "image/png": "[encoded data removed]",
      "text/plain": [
       "<matplotlib.figure.Figure at 0x7fb2e6062990>"
      ]
     },
     "metadata": {},
     "output_type": "display_data"
    }
   ],
   "source": [
    "#Summaries\n",
    "plt.plot(time2,step_response_part2,color='r')\n",
    "plt.plot(time4,step_response_4,color = 'g')"
   ]
  },
  {
   "cell_type": "markdown",
   "metadata": {},
   "source": [
    "By comparing result of system 2 and system 4, it can be concluded that,peak value of system  2 is little higher than  system 4 and system 2 achieves desired response i.e. 1 , while system 4 doesnot approaches to desired response. While both the system are stable and transient response of both the system is almost similar. "
   ]
  },
  {
   "cell_type": "markdown",
   "metadata": {},
   "source": [
    "Compensator plays vital role in the control system. A compensator can be used in control system in order to achieve the desired performance of system. It can compensate a unstable system to stable. Furthermore, it can also reduces the overshoots of the system.Moreover, this can also change the performace of system by adding poles or zeros in the system. \n",
    "\n",
    "Therefore, in above example, we can see that initially system has no compensator so desired response was not achieved, but after inserting compensator our output seems improved due to less number of overshoot, less transient response and desired response is achieved easily."
   ]
  },
  {
   "cell_type": "markdown",
   "metadata": {},
   "source": [
    "# Assignment 9.4"
   ]
  },
  {
   "cell_type": "markdown",
   "metadata": {},
   "source": [
    "Again consider the system in ![Fig.2](images/Fig_2.png). Let the transfer function of the plant be G(s), where:\n",
    "$$ G(s) = \\frac{1}{s(s + 4)(s + 6)} $$\n",
    "1) Let the gain of the compensator be 25. Simulate.\n",
    "\n",
    "2) Let the complete transfer function of the compensator block be C(s), where:\n",
    "$$ C(s) = 25(s + 3.006)$$\n",
    "Simulate the system and compare your result with the result of part (1).\n",
    "\n",
    "3) See ![Fig.3](images/Fig_3.png). Let $K_1$ = 75.15 and $K_2$ = 25. Simulate the system with following transfer functions for $C_1$ and $C_2$:\n",
    "$$ C_1(s) = K_1 $$\n",
    "$$ C_2(s) = K_2s $$\n",
    "Compare the result with the result of part (2). How do $C_1(s)$ and $C_2(s)$ relate to\n",
    "C(s) in part 2?\n",
    "\n",
    "4) Briefly summarize your results (part (1) to (3)) in plain english by commenting on\n",
    "the compensator(s) and their role in the system response."
   ]
  },
  {
   "cell_type": "code",
   "execution_count": 34,
   "metadata": {
    "collapsed": false
   },
   "outputs": [
    {
     "name": "stdout",
     "output_type": "stream",
     "text": [
      "\n",
      "         25\n",
      "-------------------\n",
      "s^3 + 10 s^2 + 24 s\n",
      "\n"
     ]
    },
    {
     "data": {
      "text/plain": [
       "[<matplotlib.lines.Line2D at 0x7fb2e6056d50>]"
      ]
     },
     "execution_count": 34,
     "metadata": {},
     "output_type": "execute_result"
    },
    {
     "data": {
      "image/png": "[encoded data removed]",
      "text/plain": [
       "<matplotlib.figure.Figure at 0x7fb2e6056dd0>"
      ]
     },
     "metadata": {},
     "output_type": "display_data"
    }
   ],
   "source": [
    "# Solution here\n",
    "# Part 1\n",
    "import control\n",
    "from control import *\n",
    "import matplotlib.pyplot as plt\n",
    "compensator_num = [25]\n",
    "compensator_den = [1]\n",
    "compensator = control.TransferFunction(compensator_num,compensator_den)\n",
    "num_plant = [1]\n",
    "#solve denominator part manually we have\n",
    "den_plant = [1,10,24,0]\n",
    "plant = control.TransferFunction(num_plant,den_plant)\n",
    "G = control.series(compensator,plant)\n",
    "print G\n",
    "feedback = control.feedback(G,1)\n",
    "step_response_1, time1 = step(feedback)\n",
    "desired_response = numpy.ones(len(time1))\n",
    "plt.plot(time1,desired_response)\n",
    "plt.plot(time1,step_response_1)\n",
    "\n"
   ]
  },
  {
   "cell_type": "code",
   "execution_count": 35,
   "metadata": {
    "collapsed": false
   },
   "outputs": [
    {
     "name": "stdout",
     "output_type": "stream",
     "text": [
      "\n",
      "    25 s + 75.15\n",
      "-------------------\n",
      "s^3 + 10 s^2 + 24 s\n",
      "\n",
      "\n",
      "        25 s + 75.15\n",
      "---------------------------\n",
      "s^3 + 10 s^2 + 49 s + 75.15\n",
      "\n"
     ]
    },
    {
     "data": {
      "text/plain": [
       "[<matplotlib.lines.Line2D at 0x7fb2e5ee9250>]"
      ]
     },
     "execution_count": 35,
     "metadata": {},
     "output_type": "execute_result"
    },
    {
     "data": {
      "image/png": "[encoded data removed]",
      "text/plain": [
       "<matplotlib.figure.Figure at 0x7fb2e5ee9290>"
      ]
     },
     "metadata": {},
     "output_type": "display_data"
    }
   ],
   "source": [
    "# Solution here\n",
    "# Part 2\n",
    "import control\n",
    "from control import *\n",
    "import matplotlib.pyplot as plt\n",
    "compensator_num = [25,75.15]\n",
    "compensator_den = [1]\n",
    "compensator = control.TransferFunction(compensator_num,compensator_den)\n",
    "num_plant = [1]\n",
    "#solve denominator part manually we have\n",
    "den_plant = [1,10,24,0]\n",
    "plant = control.TransferFunction(num_plant,den_plant)\n",
    "G = control.series(compensator,plant)\n",
    "print G\n",
    "feedback = control.feedback(G,1)\n",
    "print feedback\n",
    "step_response_2, time2 = step(feedback)\n",
    "desired_response = numpy.ones(len(time2))\n",
    "plt.plot(time2,desired_response)\n",
    "plt.plot(time2,step_response_2)"
   ]
  },
  {
   "cell_type": "code",
   "execution_count": 36,
   "metadata": {
    "collapsed": false
   },
   "outputs": [
    {
     "data": {
      "text/plain": [
       "[<matplotlib.lines.Line2D at 0x7fb2e5f75a90>]"
      ]
     },
     "execution_count": 36,
     "metadata": {},
     "output_type": "execute_result"
    },
    {
     "data": {
      "image/png": "[encoded data removed]",
      "text/plain": [
       "<matplotlib.figure.Figure at 0x7fb2e5f75750>"
      ]
     },
     "metadata": {},
     "output_type": "display_data"
    }
   ],
   "source": [
    "plt.plot(time1,step_response_1,color='r')\n",
    "plt.plot(time2,step_response_2)"
   ]
  },
  {
   "cell_type": "markdown",
   "metadata": {},
   "source": [
    "By comparing above two system responses, It is clear that by adding zero with the help of compensator in system 2, system response has largely improved as transient response is less and system achieves stability fast. While system 1, only has gain therefore transient response is not better as compared to system 2.\n"
   ]
  },
  {
   "cell_type": "code",
   "execution_count": 37,
   "metadata": {
    "collapsed": false
   },
   "outputs": [
    {
     "name": "stdout",
     "output_type": "stream",
     "text": [
      "\n",
      "    25 s + 75.15\n",
      "-------------------\n",
      "s^3 + 10 s^2 + 24 s\n",
      "\n"
     ]
    },
    {
     "data": {
      "text/plain": [
       "[<matplotlib.lines.Line2D at 0x7fb2e5e92c90>]"
      ]
     },
     "execution_count": 37,
     "metadata": {},
     "output_type": "execute_result"
    },
    {
     "data": {
      "image/png": "[encoded data removed]",
      "text/plain": [
       "<matplotlib.figure.Figure at 0x7fb2e5d5a850>"
      ]
     },
     "metadata": {},
     "output_type": "display_data"
    }
   ],
   "source": [
    "# Solution here\n",
    "# Part 3\n",
    "#C1 and C2 are to parallel\n",
    "import control\n",
    "from control import *\n",
    "import matplotlib.pyplot as plt\n",
    "compensator_num = [25,75.15]\n",
    "compensator_den = [1]\n",
    "compensator = control.TransferFunction(compensator_num,compensator_den)\n",
    "num_plant = [1]\n",
    "#solve denominator part manually we have\n",
    "den_plant = [1,10,24,0]\n",
    "plant = control.TransferFunction(num_plant,den_plant)\n",
    "G = control.series(compensator,plant)\n",
    "print G\n",
    "feedback = control.feedback(G,1)\n",
    "step_response_3, time3 = step(feedback)\n",
    "desired_response = numpy.ones(len(time3))\n",
    "plt.plot(time3,desired_response)\n",
    "plt.plot(time3,step_response_3)"
   ]
  },
  {
   "cell_type": "code",
   "execution_count": 38,
   "metadata": {
    "collapsed": false
   },
   "outputs": [
    {
     "data": {
      "text/plain": [
       "[<matplotlib.lines.Line2D at 0x7fb2e5d34d10>]"
      ]
     },
     "execution_count": 38,
     "metadata": {},
     "output_type": "execute_result"
    },
    {
     "data": {
      "image/png": "[encoded data removed]",
      "text/plain": [
       "<matplotlib.figure.Figure at 0x7fb2e5d34dd0>"
      ]
     },
     "metadata": {},
     "output_type": "display_data"
    }
   ],
   "source": [
    "plt.plot(time2,step_response_2)\n",
    "plt.plot(time3,step_response_3)"
   ]
  },
  {
   "cell_type": "markdown",
   "metadata": {},
   "source": [
    "Responses of system 2 and 3 are exactly same as transfer function of both the system is same. On the other hand, $C_{1}(s)$ and $C_{2}(s)$ are parallel in C(s). Therefore, $C(s) = C_{1}(s) + C_{2}(s)$"
   ]
  },
  {
   "cell_type": "markdown",
   "metadata": {},
   "source": [
    "By comparing above two system responses, It is clear that by adding zero with the help of compensator in system 3, system response has largely improved as transient response is less and system achieves stability fast. While system 1, only has gain therefore transient response is not better as compared to system 3.\n",
    "\n",
    "Compensator plays vital role in the control system. A compensator can be used in control system in order to achieve the desired performance of system. It can compensate a unstable system to stable. Furthermore, it can also reduces the overshoots of the system.Moreover, this can also change the performace of system by adding poles or zeros in the system. "
   ]
  },
  {
   "cell_type": "markdown",
   "metadata": {},
   "source": [
    "# Assignment 9.5 "
   ]
  },
  {
   "cell_type": "markdown",
   "metadata": {},
   "source": [
    "Once again consider the system in ![Fig.2](images/Fig_2.png). Let the transfer function of the plant be G(s),\n",
    "where:\n",
    "$$ G(s) = \\frac{s + 8}{(s + 3)(s + 6)(s + 10)} $$\n",
    "\n",
    "1) Let the gain of the compensator be 121.5. Simulate.\n",
    "\n",
    "2) Let the complete transfer function of the compensator block be C(s), where:\n",
    "$$ C(s) = \\frac{4.6(s + 55.92)(s + 0.5)}{s}$$\n",
    "Simulate the system and compare your result with the result of part (1).\n",
    "\n",
    "3) See ![Fig.4](images/Fig_4.png). Let $K_1$ = 259.532, $K_2$ = 128.616 and $K_3$ = 4.6. Simulate the system with following transfer functions for $C_1$, $C_2$ and $C_3$:\n",
    "$$ C_1(s) = K_1$$\n",
    "$$ C_2(s) = \\frac{K_2}{s} $$\n",
    "$$ C_3(s) = K_3s $$\n",
    "Compare the result with the result of part (2). How do $C_1(s)$, $C_2(s)$ and $C_3$ relate\n",
    "to C(s) in part 2?\n",
    "\n",
    "4) Briefly summarize your results (part (1) to (3)) in plain english by commenting on the compensator(s) and their role in the system response."
   ]
  },
  {
   "cell_type": "code",
   "execution_count": 39,
   "metadata": {
    "collapsed": false
   },
   "outputs": [
    {
     "name": "stdout",
     "output_type": "stream",
     "text": [
      "\n",
      "       121.5 s + 972\n",
      "--------------------------\n",
      "s^3 + 19 s^2 + 108 s + 180\n",
      "\n"
     ]
    },
    {
     "data": {
      "text/plain": [
       "[<matplotlib.lines.Line2D at 0x7fb2e5c78d10>]"
      ]
     },
     "execution_count": 39,
     "metadata": {},
     "output_type": "execute_result"
    },
    {
     "data": {
      "image/png": "[encoded data removed]",
      "text/plain": [
       "<matplotlib.figure.Figure at 0x7fb2e649d210>"
      ]
     },
     "metadata": {},
     "output_type": "display_data"
    }
   ],
   "source": [
    "# Solution here\n",
    "# Part 1\n",
    "import control\n",
    "from control import *\n",
    "import matplotlib.pyplot as plt\n",
    "compensator_num = [121.5]\n",
    "compensator_den = [1]\n",
    "compensator = control.TransferFunction(compensator_num,compensator_den)\n",
    "num_plant = [1,8]\n",
    "#solve denominator part manually we have\n",
    "den_plant = [1,19,108,180]\n",
    "plant = control.TransferFunction(num_plant,den_plant)\n",
    "G = control.series(compensator,plant)\n",
    "print G\n",
    "feedback = control.feedback(G,1)\n",
    "step_response_1, time1 = step(feedback)\n",
    "desired_response = numpy.ones(len(time1))\n",
    "plt.plot(time1,desired_response)\n",
    "plt.plot(time1,step_response_1)"
   ]
  },
  {
   "cell_type": "code",
   "execution_count": 40,
   "metadata": {
    "collapsed": false
   },
   "outputs": [
    {
     "name": "stdout",
     "output_type": "stream",
     "text": [
      "\n",
      "4.6 s^3 + 296.3 s^2 + 2205 s + 1029\n",
      "-----------------------------------\n",
      "   s^4 + 19 s^3 + 108 s^2 + 180 s\n",
      "\n"
     ]
    },
    {
     "data": {
      "text/plain": [
       "[<matplotlib.lines.Line2D at 0x7fb2e5c17310>]"
      ]
     },
     "execution_count": 40,
     "metadata": {},
     "output_type": "execute_result"
    },
    {
     "data": {
      "image/png": "[encoded data removed]",
      "text/plain": [
       "<matplotlib.figure.Figure at 0x7fb2e5bbdcd0>"
      ]
     },
     "metadata": {},
     "output_type": "display_data"
    }
   ],
   "source": [
    "# Solution here\n",
    "# Part 2\n",
    "import control\n",
    "from control import *\n",
    "import matplotlib.pyplot as plt\n",
    "compensator_num = [4.6,259.532,128.616]\n",
    "compensator_den = [1,0]\n",
    "compensator = control.TransferFunction(compensator_num,compensator_den)\n",
    "num_plant = [1,8]\n",
    "#solve denominator part manually we have\n",
    "den_plant = [1,19,108,180]\n",
    "plant = control.TransferFunction(num_plant,den_plant)\n",
    "G = control.series(compensator,plant)\n",
    "print G\n",
    "feedback = control.feedback(G,1)\n",
    "step_response_2, time2 = step(feedback)\n",
    "desired_response = numpy.ones(len(time2))\n",
    "plt.plot(time2,desired_response)\n",
    "plt.plot(time2,step_response_2)"
   ]
  },
  {
   "cell_type": "code",
   "execution_count": 41,
   "metadata": {
    "collapsed": false
   },
   "outputs": [
    {
     "data": {
      "text/plain": [
       "[<matplotlib.lines.Line2D at 0x7fb2e629ab90>]"
      ]
     },
     "execution_count": 41,
     "metadata": {},
     "output_type": "execute_result"
    },
    {
     "data": {
      "image/png": "[encoded data removed]",
      "text/plain": [
       "<matplotlib.figure.Figure at 0x7fb2e5ed4710>"
      ]
     },
     "metadata": {},
     "output_type": "display_data"
    }
   ],
   "source": [
    "plt.plot(time1,step_response_1,color='r')\n",
    "plt.plot(time2,step_response_2)"
   ]
  },
  {
   "cell_type": "markdown",
   "metadata": {},
   "source": [
    "By looking at the responses of 1 and 2, it is clear that both the system has same number of poles with same values but system 2 has larger overshoot value than system 1. Lastly, by adding compensator, it is clear that system 2 approaches to the desired response while on the other hand, system 1 is not approaching the desired response.\n"
   ]
  },
  {
   "cell_type": "code",
   "execution_count": 42,
   "metadata": {
    "collapsed": false
   },
   "outputs": [
    {
     "name": "stdout",
     "output_type": "stream",
     "text": [
      "\n",
      "4.6 s^3 + 296.3 s^2 + 2205 s + 1029\n",
      "-----------------------------------\n",
      "   s^4 + 19 s^3 + 108 s^2 + 180 s\n",
      "\n"
     ]
    },
    {
     "data": {
      "text/plain": [
       "[<matplotlib.lines.Line2D at 0x7fb2e5b06d90>]"
      ]
     },
     "execution_count": 42,
     "metadata": {},
     "output_type": "execute_result"
    },
    {
     "data": {
      "image/png": "[encoded data removed]",
      "text/plain": [
       "<matplotlib.figure.Figure at 0x7fb2e5aed8d0>"
      ]
     },
     "metadata": {},
     "output_type": "display_data"
    }
   ],
   "source": [
    "# Solution here\n",
    "# Part 3\n",
    "import control\n",
    "from control import *\n",
    "#c1,c2, and c3 are parallel\n",
    "import matplotlib.pyplot as plt\n",
    "compensator_num = [4.6,259.532,128.616]\n",
    "compensator_den = [1,0]\n",
    "compensator = control.TransferFunction(compensator_num,compensator_den)\n",
    "num_plant = [1,8]\n",
    "#solve denominator part manually we have\n",
    "den_plant = [1,19,108,180]\n",
    "plant = control.TransferFunction(num_plant,den_plant)\n",
    "G = control.series(compensator,plant)\n",
    "print G\n",
    "feedback = control.feedback(G,1)\n",
    "step_response_3, time3 = step(feedback)\n",
    "desired_response = numpy.ones(len(time3))\n",
    "plt.plot(time3,desired_response)\n",
    "plt.plot(time3,step_response_3)\n",
    "\n"
   ]
  },
  {
   "cell_type": "code",
   "execution_count": 43,
   "metadata": {
    "collapsed": false
   },
   "outputs": [
    {
     "data": {
      "text/plain": [
       "[<matplotlib.lines.Line2D at 0x7fb2e5c22a90>]"
      ]
     },
     "execution_count": 43,
     "metadata": {},
     "output_type": "execute_result"
    },
    {
     "data": {
      "image/png": "[encoded data removed]",
      "text/plain": [
       "<matplotlib.figure.Figure at 0x7fb2e617bd50>"
      ]
     },
     "metadata": {},
     "output_type": "display_data"
    }
   ],
   "source": [
    "plt.plot(time2,step_response_2,color='r')\n",
    "plt.plot(time3,step_response_3)"
   ]
  },
  {
   "cell_type": "markdown",
   "metadata": {},
   "source": [
    "Responses of system 2 and 3 are exactly same as transfer function of both the system is same. On the other hand, $C_{1}(s)$, $C_{2}(s)$, and $C_{3}(s)$ are parallel in C(s). Therefore, $C(s) = C_{1}(s) + C_{2}(s)+C_{3}(s)$"
   ]
  },
  {
   "cell_type": "markdown",
   "metadata": {},
   "source": [
    "By comparing above two system responses, It is clear that by adding zero with the help of compensator in system 3, system response has largely improved as transient response is less and system achieves stability fast. While system 1, only has gain therefore transient response is not better as compared to system 3.\n",
    "\n",
    "Compensator plays vital role in the control system. A compensator can be used in control system in order to achieve the desired performance of system. It can compensate a unstable system to stable. Furthermore, it can also reduces the overshoots of the system.Moreover, this can also change the performace of system by adding poles or zeros in the system. "
   ]
  },
  {
   "cell_type": "markdown",
   "metadata": {},
   "source": [
    "# Assignment 9.6"
   ]
  },
  {
   "cell_type": "markdown",
   "metadata": {},
   "source": [
    "A second order system is given by the following transfer function:\n",
    "$$ G(s) = \\frac{361}{s^2 + 16s + 361} $$\n",
    "\n",
    "Without the help of python , using the formulas in Assignment 9.1 find $T_p$ and $\\%OS$ for this system."
   ]
  },
  {
   "cell_type": "markdown",
   "metadata": {
    "collapsed": true
   },
   "source": [
    "The standard form of second order system is :\n",
    "\n",
    "$$G(s) = \\frac{\\omega^2_{n}}{s^2 + 2 \\zeta \\omega_{n}s + \\omega^2_{n}}$$\n",
    "\n",
    "By comparing given equation with standard form, we have :\n",
    "\n",
    "$$ \\omega^2_{n} = 361 $$\n",
    "\n",
    "Therefore, \n",
    "\n",
    "$$\\omega_{n} = 19 $$\n",
    "\n",
    "Similarly \n",
    "\n",
    "$$ 2 \\zeta \\omega_{n}s = 16s$$ \n",
    "\n",
    "Therefore, $ \\zeta $ can be computed as :\n",
    "\n",
    "$$ \\zeta = \\frac{16}{2*19} = 0.42 $$\n",
    "\n",
    "As we know, $ T_{p} $ is defined as :\n",
    "\n",
    "$$T_p = \\frac{\\pi}{\\omega _n \\sqrt{1- \\zeta ^2} } $$\n",
    "\n",
    "substituting values for $ \\omega_{n}$ and $\\zeta$ in above equation, \n",
    "\n",
    "$$T_p = \\frac{\\pi}{19 \\sqrt{1-\\zeta ^2} } = 0.182 $$\n",
    "\n",
    "As we know, $\\zeta$ is related to %OS as : \n",
    "$$ \\zeta = \\frac{−\\ln\\frac{\\%OS}{100}}{\\sqrt {\\pi^2 + \\ln^2(\\frac{ \\%OS}{100} ) }}$$\n",
    "\n",
    "Therfore %OS can be defined as : \n",
    "\n",
    "$$ \\%OS =100\\cdot e^{{\\left({{\\frac  {-\\zeta \\pi }{{\\sqrt  {1-\\zeta ^{2}}}}}}\\right)}}$$\n",
    "\n",
    "substitute $\\zeta$ in above equation we get \n",
    "\n",
    "$$ \\%OS = 100 * 0.2336 $$\n",
    "\n",
    "$$ \\%OS = 23.36\\% $$\n"
   ]
  },
  {
   "cell_type": "code",
   "execution_count": null,
   "metadata": {
    "collapsed": true
   },
   "outputs": [],
   "source": []
  }
 ],
 "metadata": {
  "anaconda-cloud": {},
  "kernelspec": {
   "display_name": "Python [Root]",
   "language": "python",
   "name": "Python [Root]"
  },
  "language_info": {
   "codemirror_mode": {
    "name": "ipython",
    "version": 2
   },
   "file_extension": ".py",
   "mimetype": "text/x-python",
   "name": "python",
   "nbconvert_exporter": "python",
   "pygments_lexer": "ipython2",
   "version": "2.7.12"
  }
 },
 "nbformat": 4,
 "nbformat_minor": 0
}
