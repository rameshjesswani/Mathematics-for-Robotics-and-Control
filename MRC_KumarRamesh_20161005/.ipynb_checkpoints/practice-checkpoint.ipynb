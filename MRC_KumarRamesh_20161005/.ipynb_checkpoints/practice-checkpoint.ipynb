{
 "cells": [
  {
   "cell_type": "code",
   "execution_count": 14,
   "metadata": {
    "collapsed": true
   },
   "outputs": [],
   "source": [
    "import numpy as np\n",
    "import numpy.linalg as LA\n",
    "import scipy.spatial\n",
    "from scipy import spatial\n",
    "from scipy.cluster.vq import vq\n",
    "import numpy.linalg as LA"
   ]
  },
  {
   "cell_type": "code",
   "execution_count": 3,
   "metadata": {
    "collapsed": false
   },
   "outputs": [
    {
     "data": {
      "text/plain": [
       "(219435, 3)"
      ]
     },
     "execution_count": 3,
     "metadata": {},
     "output_type": "execute_result"
    }
   ],
   "source": [
    "point_cloud = np.loadtxt('./data/cloud.asc')\n",
    "point_3d = np.array(point_cloud)\n",
    "point_3d.shape"
   ]
  },
  {
   "cell_type": "code",
   "execution_count": 15,
   "metadata": {
    "collapsed": false
   },
   "outputs": [],
   "source": [
    "tree = scipy.spatial.cKDTree(point_3d)\n",
    "fin = np.empty((0,6))"
   ]
  },
  {
   "cell_type": "code",
   "execution_count": 16,
   "metadata": {
    "collapsed": false
   },
   "outputs": [
    {
     "name": "stdout",
     "output_type": "stream",
     "text": [
      "(219435,)\n"
     ]
    }
   ],
   "source": [
    "nbhd = tree.query_ball_point(point_3d,0.04,2)\n",
    "print nbhd.shape"
   ]
  },
  {
   "cell_type": "code",
   "execution_count": 17,
   "metadata": {
    "collapsed": false
   },
   "outputs": [
    {
     "name": "stdout",
     "output_type": "stream",
     "text": [
      "(4, 3)\n"
     ]
    }
   ],
   "source": [
    "print point_cloud[nbhd[0]].shape\n"
   ]
  },
  {
   "cell_type": "code",
   "execution_count": null,
   "metadata": {
    "collapsed": true
   },
   "outputs": [],
   "source": [
    "for i in range(len(nbhd)):\n",
    "    if (len[nbhd[k]]) > 1:\n",
    "        array = np.array(point_cloud[nbhd[k]])\n",
    "        \n",
    "        covariance = np.cov(array.T)\n",
    "        eigen_val,eigen_vec = LA.eig(covariance)\n",
    "        minimum_val = np.argmax(eigen_val)\n",
    "        b = eigen_vec[eigen_val]\n",
    "        z = np.array([0,0,1])\n",
    "        dotproduct = np.dot(z,b)\n",
    "        angle = np.arccos(np.absolute(dotproduct))\n",
    "        if angle == 0:\n",
    "            row = np.append([point_3d[k]],np.array([0,255,0]),axis = 1)\n",
    "            fin = np.append(fin,row,axis=0)\n",
    "        if angle > 0:\n",
    "            rowap = np.append([point_3d[k]],np.array([255,0,0]),axis = 1)\n",
    "            fin = np.append(fin,rowap,axis=1)\n",
    "            \n",
    "    else :\n",
    "        rowss = np.append([point_3d[k]],np.array([0,255,0]),axis = 1)\n",
    "        fin = np.append(fin,rowss,axis=0)\n",
    "        \n",
    "    return fin\n",
    "\n",
    "        \n",
    "            \n",
    "            \n",
    "        "
   ]
  }
 ],
 "metadata": {
  "kernelspec": {
   "display_name": "Python [Root]",
   "language": "python",
   "name": "Python [Root]"
  },
  "language_info": {
   "codemirror_mode": {
    "name": "ipython",
    "version": 2
   },
   "file_extension": ".py",
   "mimetype": "text/x-python",
   "name": "python",
   "nbconvert_exporter": "python",
   "pygments_lexer": "ipython2",
   "version": "2.7.12"
  }
 },
 "nbformat": 4,
 "nbformat_minor": 0
}
