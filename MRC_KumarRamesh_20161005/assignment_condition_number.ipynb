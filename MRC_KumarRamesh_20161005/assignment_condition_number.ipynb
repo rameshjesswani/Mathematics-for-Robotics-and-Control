{
 "cells": [
  {
   "cell_type": "markdown",
   "metadata": {},
   "source": [
    "Consider the following set of equation :\n",
    "$$ 4.5x_1 + 3.1x_2 = 19.249 $$\n",
    "$$ 1.6x_1 + 1.1x_2 = 6.843 $$\n",
    "\n",
    "1. Formulate the problem as $Ax = B $.\n",
    "2. Determine if the problem is ill-conditioned ?\n",
    "3. If Yes, how can we can we make it well-conditioned ?\n"
   ]
  },
  {
   "cell_type": "code",
   "execution_count": 6,
   "metadata": {
    "collapsed": false
   },
   "outputs": [
    {
     "name": "stdout",
     "output_type": "stream",
     "text": [
      "[[ 3.94]\n",
      " [ 0.49]]\n",
      "3362.99970265\n",
      "[[ 3.55897804  1.04295117]]\n",
      "5739.68542333\n"
     ]
    }
   ],
   "source": [
    "import numpy as np\n",
    "import numpy.linalg as LA\n",
    "a = np.array([[4.5,3.1],[1.6,1.1]])\n",
    "b = np.array([[19.249],[6.843]])\n",
    "inv_a = LA.inv(a)\n",
    "x = np.dot(inv_a,b)\n",
    "print x\n",
    "print LA.cond(a)\n",
    "#x = LA.solve(a,b)  # you can also use LA.solve to compute x value without computing inverse of a.\n",
    "#print x\n",
    "\n",
    "#Now changing value of matrix a and matrix b little bit, to check whether it is conditioned or not.\n",
    "a_new = np.array([[4.5001,3.1001],[1.6001, 1.101]])\n",
    "b_new = np.array([[19.24901], [6.84301]])\n",
    "inv_a_new = LA.inv(a_new)\n",
    "x_new = np.dot(inv_a_new,b_new)\n",
    "print x_new.T\n",
    "print LA.cond(a_new)"
   ]
  },
  {
   "cell_type": "raw",
   "metadata": {},
   "source": [
    "Question : 2\n",
    "2. Since condition matrix is greater than 1, therefore, it is ill-conditioned matrix.\n",
    "\n",
    "Question : 3\n",
    "3. \n",
    "we can make it well-condition by changing the values of matrix A and matrix B, as shows in program. When value of a and b is little bit changed result of x is drastically changing. So it can be well conditioned by changing the values of matrix a and matrix b.\n"
   ]
  },
  {
   "cell_type": "markdown",
   "metadata": {},
   "source": [
    "# Questions\n",
    "\n",
    "1. What is an *ill-conditioned* matrix/problem ?\n",
    "2. What is a condition number?\n"
   ]
  },
  {
   "cell_type": "markdown",
   "metadata": {
    "collapsed": true
   },
   "source": [
    "1. \n",
    "Answer : A matrix with higher condition number is called ill-conditioned matrices, If the condition number is greater than 1 then matrix is said be ill-conditioned matrix.\n",
    "\n",
    "2.\n",
    "Answer : A condition number measures how much value of output changes with little change in input, If the condition number is exactly 1 then it means there is no error between input and output values and matrix is called as Well-Conditioned matrix.\n"
   ]
  }
 ],
 "metadata": {
  "kernelspec": {
   "display_name": "Python [Root]",
   "language": "python",
   "name": "Python [Root]"
  },
  "language_info": {
   "codemirror_mode": {
    "name": "ipython",
    "version": 2
   },
   "file_extension": ".py",
   "mimetype": "text/x-python",
   "name": "python",
   "nbconvert_exporter": "python",
   "pygments_lexer": "ipython2",
   "version": "2.7.12"
  }
 },
 "nbformat": 4,
 "nbformat_minor": 0
}
