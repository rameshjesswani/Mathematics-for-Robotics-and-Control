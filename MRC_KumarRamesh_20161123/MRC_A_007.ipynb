{
 "cells": [
  {
   "cell_type": "markdown",
   "metadata": {},
   "source": [
    "# Mathematics for Robotics and Control SS2016\n",
    "## Assignment 7: State Space Representations "
   ]
  },
  {
   "cell_type": "markdown",
   "metadata": {},
   "source": [
    "---"
   ]
  },
  {
   "cell_type": "markdown",
   "metadata": {},
   "source": [
    "**Modules**:\n",
    "\n",
    "* control\n",
    "* numpy\n",
    "\n",
    "\n",
    "**Functions**:\n",
    "\n",
    "control:\n",
    "\n",
    "* feedback, parallel, series, tf\n"
   ]
  },
  {
   "cell_type": "markdown",
   "metadata": {},
   "source": [
    "---"
   ]
  },
  {
   "cell_type": "markdown",
   "metadata": {},
   "source": [
    "# State Space Representations"
   ]
  },
  {
   "cell_type": "markdown",
   "metadata": {},
   "source": [
    "A [state-space model](https://en.wikipedia.org/wiki/State-space_representation) is a structured form or representation of a set of differential equations. Statespace models are very useful in Control theory and design. "
   ]
  },
  {
   "cell_type": "markdown",
   "metadata": {},
   "source": [
    "# Questions :\n",
    "\n",
    "1. What are state space models ? Write the standard form for state space equation ? Explain each terms and its semantics?\n",
    "2. Why should we use them ?\n",
    "3. What are the basic properties of State space models and how do we analyse them ? \n",
    "4. [Converting ODE to state space models](http://www.sharetechnote.com/html/DE_StateSpaceModel.html) Read the following link and write the steps involved in converting ODE to state space models\n",
    "5. How many state space variables are required to describe a system fully ? (Difficult!)"
   ]
  },
  {
   "cell_type": "markdown",
   "metadata": {},
   "source": [
    "# Answers :\n",
    "\n",
    "1*.It represents mathematical model of a physical system as a set of input, output and state variables related by first-order differential equations.\n",
    "\n",
    "Standard form of state space equation :\n",
    "\n",
    "$$x\\cdot = Ax + Bu$$\n",
    "$$y = Cx + Du$$\n",
    "\n",
    "Matrix A:\n",
    "\n",
    "Matrix A is the system matrix, and relates how the current state affects the state change x' . If the state change is not dependent on the current state, A will be the zero matrix. \n",
    "\n",
    "Matrix B:\n",
    "\n",
    "Matrix B is the control matrix, and determines how the system input affects the state change. If the state change is not dependent on the system input, then B will be the zero matrix.\n",
    "\n",
    "\n",
    "Matrix C:\n",
    "\n",
    "Matrix C is the output matrix, and determines the relationship between the system state and the system output.\n",
    "\n",
    "Matrix D:\n",
    "\n",
    "Matrix D is the feed-forward matrix, and allows for the system input to affect the system output directly. A basic feedback system like those we have previously considered do not have a feed-forward element, and therefore for most of the systems we have already considered, the D matrix is the zero matrix.\n",
    "\n",
    "\n",
    "\n",
    "2*. \n",
    "State space models are useful because it helps to represent more complex systems having single or multiple inputs, just with single first order matrix differential equation. Furthermore, transfer functions and response of complex systems can easily be computed with the help of state space models.\n",
    "\n",
    "3*.The basic properties of state space models are stability, observability and controllability.\n",
    "\n",
    "Controllability : It refers to the ability of a controller to arbitrarily alter the functionality of the system plant. A system with internal state vector x is called controllable if and only if the system states can be changed by changing the system input.\n",
    "\n",
    "Observability :\n",
    "It describes whether the internal state variables of the system can be externally measured.\n",
    "A system with an initial state, ${x(t_{0})}$ is observable if and only if the value of the initial state can be determined from the system output y(t) that has been observed through the time interval ${ t_{0}<t<t_{f}}$ $t_{0}<t<t_{f}$. If the initial state cannot be so determined, the system is unobservable.\n",
    "\n",
    "Stability : \n",
    "\n",
    "The stability of a time-invariant state-space model can be determined by looking at the system's transfer function in factored form. It will then look something like this:\n",
    "\n",
    "$${G}(s)=k{\\frac {(s-z_{1})(s-z_{2})(s-z_{3})}{(s-p_{1})(s-p_{2})(s-p_{3})(s-p_{4})}}$$\n",
    "\n",
    "Where roots of denominator are poles and roots of numerator are zeros. Therefore, poles can  can be used to analyze whether the system is asymptotically stable or marginally stable. An alternative approach to determining stability, which does not involve calculating eigenvalues, is to analyze the system's Lyapunov stability.\n",
    "\n",
    "\n",
    "4*.\n",
    "Let's say that we have a general 3rd order differential equation in terms of input u(t) and output y(t):\n",
    "$$  \\frac{d^3y(t)}{dt^3} + a_2\\frac{d^2y(t)}{dt^2} + a_1\\frac{dy(t)}{dt} + a_0y(t) = u(t) $$\n",
    "\n",
    "We can create the state variable vector x in the following manner:\n",
    "\n",
    "$$x_1 = y(t)$$\n",
    "$$x_2 = \\frac{dy(t)}{dt}$$\n",
    "$$x_3 = \\frac{d^2y(t)}{dt^2}$$\n",
    "Which now leaves us with the following 3 first-order equations:\n",
    "$$x_1' = x_2$$\n",
    "$$x_2' = x_3$$\n",
    "$$x_3' = \\frac{d^3y(t)}{dt^3}$$\n",
    "\n",
    "Now, we can define the state vector x in terms of the individual x components, and we can create the future state vector as well:\n",
    "\n",
    "$$x = \\begin{bmatrix}x_1 \\\\ x_2 \\\\ x_3 \\end{bmatrix}, {\\displaystyle x'={\\begin{bmatrix}x_{1}'\\\\x_{2}'\\\\x_{3}'\\end{bmatrix}}} $$\n",
    "\n",
    "And with that, we can assemble the state-space equations for the system:\n",
    "\n",
    "$$ x' = \\begin{bmatrix}\n",
    "               0 & 1 & 0 \\\\\n",
    "               0 & 0 & 1 \\\\\n",
    "               -a_0 & -a_1 & -a_2               \n",
    "            \\end{bmatrix} x(t) + \n",
    "            \\begin{bmatrix} \n",
    "               0 \\\\ \n",
    "               0 \\\\ \n",
    "               1 \n",
    "            \\end{bmatrix} u(t)$$\n",
    "            \n",
    "$$y(t) = \\begin{bmatrix}\n",
    "                1 & 0 & 0\n",
    "              \\end{bmatrix} x(t) $$\n",
    "\n",
    "5*. The minimum number of state variables required to represent a given system,n, is usually equal to the order of the system's defining differential equation. If the system is represented in transfer function form, the minimum number of state variables is equal to the order of the transfer function's denominator after it has been reduced to a proper fraction. In case of RLC circuit, number of state variables can be decided according to energy storing elements in the circuit. Therefore, number of state variables  depends upon the differential equation defining the system or transfer function of the system."
   ]
  },
  {
   "cell_type": "markdown",
   "metadata": {},
   "source": [
    "References :\n",
    "\n",
    "https://en.wikipedia.org/wiki/State-space_representation\n",
    "\n",
    "https://en.wikibooks.org/wiki/Control_Systems/State-Space_Equations\n",
    "\n",
    "http://lpsa.swarthmore.edu/Representations/SysRepSS.html"
   ]
  },
  {
   "cell_type": "markdown",
   "metadata": {},
   "source": [
    "# Exercise 1.1\n",
    "\n",
    "Given the following system :\n",
    "$$\\dot{x_1} = x_2 $$\n",
    "$$ \\dot{x_2} = -2x_1 - x_2 + 5u $$\n",
    "$$ y = x_2 $$\n",
    "\n",
    "Set the system on the following state space form :\n",
    "$$ \\dot{x} = A x + B u $$\n",
    "$$ y = Cx + Du $$\n",
    "\n",
    "write the A,B, C and D matrix"
   ]
  },
  {
   "cell_type": "code",
   "execution_count": 2,
   "metadata": {
    "collapsed": false
   },
   "outputs": [
    {
     "data": {
      "text/plain": [
       "\n",
       "    5 s\n",
       "-----------\n",
       "s^2 + s + 2"
      ]
     },
     "execution_count": 2,
     "metadata": {},
     "output_type": "execute_result"
    }
   ],
   "source": [
    "import numpy as np\n",
    "import control\n",
    "A = np.array([[0, 1],[-2, -1]])\n",
    "B = np.array([[0],[5]])\n",
    "C = np.array([0, 1])\n",
    "D = np.array([0])\n",
    "state_space_model =control.ss(A,B,C,D) \n",
    "#state_space_model\n",
    "transfer_fucntion = control.ss2tf(state_space_model)\n",
    "transfer_fucntion\n",
    "#transfer_fucntion\n",
    "#print A.shape, B.shape, C.shape"
   ]
  },
  {
   "cell_type": "markdown",
   "metadata": {},
   "source": [
    "\n",
    "# Exercise 1.2\n",
    "\n",
    "Given the following system :\n",
    "$$\\dot{x_1} = x_1 + u $$\n",
    "$$\\dot{x_2} = x_2  $$\n",
    "$$\\dot{x_3} = x_3  $$\n",
    "$$y_1 = x_3  $$\n",
    "$$y_2 = x_1  + 2 x_2 + 2 x_2 $$\n",
    "\n",
    "Set the system on the following state space form :\n",
    "$$ \\dot{x} = A x + B u $$\n",
    "$$ y = Cx + Du $$\n",
    "\n",
    "write the A,B, C and D matrix"
   ]
  },
  {
   "cell_type": "code",
   "execution_count": 2,
   "metadata": {
    "collapsed": false
   },
   "outputs": [
    {
     "data": {
      "text/plain": [
       "A = [[1 0 0]\n",
       " [0 1 0]\n",
       " [0 0 1]]\n",
       "\n",
       "B = [[1]\n",
       " [0]\n",
       " [0]]\n",
       "\n",
       "C = [[0 0 1]\n",
       " [1 4 0]]\n",
       "\n",
       "D = [[0]\n",
       " [0]]"
      ]
     },
     "execution_count": 2,
     "metadata": {},
     "output_type": "execute_result"
    }
   ],
   "source": [
    "import numpy as np\n",
    "import control\n",
    "A = np.array([[1, 0, 0],[0, 1, 0],[0,0,1]])\n",
    "B = np.array([[1],[0],[0]])\n",
    "C = np.array([[0,0,1],[1,4,0]])\n",
    "D = np.array([[0],[0]])\n",
    "state_space_model =control.ss(A,B,C,D)\n",
    "\n",
    "state_space_model"
   ]
  },
  {
   "cell_type": "markdown",
   "metadata": {},
   "source": [
    "\n",
    "# Exercise 1.3\n",
    "\n",
    "Given the following system :\n",
    "$$\\dot{x_1} = x_2  $$\n",
    "$$\\dot{x_2} = -x_1 -3x_2 + 2u_1 + 4u_2 $$\n",
    "$$y = x_1 + u_2 $$\n",
    "\n",
    "Set the system on the following state space form :\n",
    "$$ \\dot{x} = A x + B u $$\n",
    "$$ y = Cx + Du $$\n",
    "\n",
    "write the A,B, C and D matrix"
   ]
  },
  {
   "cell_type": "code",
   "execution_count": 3,
   "metadata": {
    "collapsed": false
   },
   "outputs": [
    {
     "data": {
      "text/plain": [
       "A = [[ 0  1]\n",
       " [-1 -3]]\n",
       "\n",
       "B = [[0 0]\n",
       " [2 4]]\n",
       "\n",
       "C = [[1 0]]\n",
       "\n",
       "D = [[0 1]]"
      ]
     },
     "execution_count": 3,
     "metadata": {},
     "output_type": "execute_result"
    }
   ],
   "source": [
    "import numpy as np\n",
    "import control\n",
    "A = np.array([[0, 1],[-1, -3]])\n",
    "B = np.array([[0,0],[2,4]])\n",
    "\n",
    "C = np.array([1, 0])\n",
    "D = np.array([0,1])\n",
    "state_space_model =control.ss(A,B,C,D) \n",
    "state_space_model"
   ]
  },
  {
   "cell_type": "markdown",
   "metadata": {},
   "source": [
    "# Exercise 2.1\n",
    "\n",
    "## Mass Spring Damper system\n",
    "\n",
    "Given a mass spring damper system :\n",
    "\n",
    "![](images/mass-spring-damper.png)\n",
    "\n",
    "Using Netwons Second Law :\n",
    "    $$ \\sum{F} = m a $$\n",
    "    \n",
    "The model of the system can be described as :\n",
    "       $$ \\ddot{x} = \\frac{1}{m} ( F - c\\dot{x} - kx )$$\n",
    "       \n",
    "where :\n",
    "x - position , $\\dot{x}$ - speed/velocity , $\\ddot{x} - acceleration$ \n",
    "c - damping constant, m - mass, k - spring constant, F - force\n",
    "\n",
    "\n",
    "Set the system on the following state space form :\n",
    "$$ \\dot{x} = A x + B u $$\n",
    "$$ y = Cx + Du $$\n",
    "\n",
    "write the A,B, C and D matrix\n",
    "Assume the control signal u is equal to the force F and that we only measure position"
   ]
  },
  {
   "cell_type": "code",
   "execution_count": 1,
   "metadata": {
    "collapsed": false
   },
   "outputs": [
    {
     "name": "stderr",
     "output_type": "stream",
     "text": [
      "/home/ramesh/anaconda2/lib/python2.7/site-packages/matplotlib/font_manager.py:273: UserWarning: Matplotlib is building the font cache using fc-list. This may take a moment.\n",
      "  warnings.warn('Matplotlib is building the font cache using fc-list. This may take a moment.')\n"
     ]
    },
    {
     "name": "stdout",
     "output_type": "stream",
     "text": [
      "(1, 2)\n"
     ]
    }
   ],
   "source": [
    "import control \n",
    "import numpy as np\n",
    "import sympy as sp\n",
    "k,m,c,s = sp.symbols('k,m,c,s')\n",
    "A = np.array([[0,1],[-k/m, -c/m]])\n",
    "B = np.array([[0],[1/m]])\n",
    "# if output is x\n",
    "C = np.array([[1, 0]])\n",
    "print C.shape\n",
    "D = np.array([0])\n",
    "state_space_equation = control.ss(A,B,C,D)\n",
    "\n",
    "#Convert state space into transfer function \n",
    "\n"
   ]
  },
  {
   "cell_type": "markdown",
   "metadata": {},
   "source": [
    "# Exercise 2.2\n",
    "\n",
    "## RLC Circuit\n",
    "\n",
    "Find the state space equation for the following RLC circuit \n",
    "\n",
    "![](images/rlc.png)"
   ]
  },
  {
   "cell_type": "markdown",
   "metadata": {},
   "source": [
    "Applying KVL, we get :\n",
    "$$u_1(t) = R i(t) + u_c + L\\frac{di}{dt}----- (1)$$ \n",
    "$$u_L(t) = L\\frac{di}{dt} ---- (2)$$ \n",
    "\n",
    "State variables can be considered as : \n",
    "\n",
    "$$x_1 = u_c$$ \n",
    "$$x_2 = i_L$$\n",
    "\n",
    "Since current in series circuit same, $i_L = i(t)$\n",
    "Take derivative of state variables, we have \n",
    "\n",
    "$$\\dot{x_1} = \\dot{u_c} = \\frac{1}{C}.x_2$$ \n",
    "$$\\dot{x_2} = \\frac{di}{dt} $$\n",
    "\n",
    "substitue values of $\\dot{x_1}$ and $\\dot{x_2}$ in equation 1 and 2, and solve for $\\dot{x_2}$ , we have :\n",
    "\n",
    "$$\\dot{x_2} = \\frac{u_1(t)}{L} - \\frac{R}{L}x_2 - \\frac{x_1}{L}$$\n",
    "\n",
    "$$ y = L\\dot{x_2} $$\n",
    "\n",
    "substitue value of $\\dot{x_2}$ we have\n",
    "$$y = -Rx_2 - x_1 + u_1(t)$$"
   ]
  },
  {
   "cell_type": "code",
   "execution_count": 4,
   "metadata": {
    "collapsed": false
   },
   "outputs": [
    {
     "data": {
      "text/plain": [
       "A = [[0 1/C]\n",
       " [-1/L -R/L]]\n",
       "\n",
       "B = [[0]\n",
       " [1/L]]\n",
       "\n",
       "C = [[-1 -R]]\n",
       "\n",
       "D = [[1]]"
      ]
     },
     "execution_count": 4,
     "metadata": {},
     "output_type": "execute_result"
    }
   ],
   "source": [
    "import numpy as np\n",
    "import control\n",
    "L,C,R =  sp.symbols('L,C,R')\n",
    "A = np.array([[0,1/C],[-1/L, -R/L]])\n",
    "B = np.array([[0],[1/L]])\n",
    "C = np.array([[-1, -R]])\n",
    "D = np.array([1])\n",
    "state_space_equation = control.ss(A,B,C,D)\n"
   ]
  },
  {
   "cell_type": "markdown",
   "metadata": {},
   "source": [
    "<style type=\"text/css\">\n",
    ".time_spent {\n",
    "    width: 3em;\n",
    "    border-style: none;\n",
    "    background-color: silver;\n",
    "    font-weight: bold;\n",
    "    padding-left: 5px;\n",
    "}\n",
    "</style>"
   ]
  },
  {
   "cell_type": "code",
   "execution_count": 8,
   "metadata": {
    "collapsed": false
   },
   "outputs": [
    {
     "name": "stdout",
     "output_type": "stream",
     "text": [
      "Populating the interactive namespace from numpy and matplotlib\n"
     ]
    }
   ],
   "source": [
    "import IPython.core.display\n",
    "import sys\n",
    "if not \"win\" in sys.platform and not \"linux\" in sys.platform:\n",
    "    %pylab\n",
    "else:\n",
    "    %pylab inline"
   ]
  },
  {
   "cell_type": "markdown",
   "metadata": {},
   "source": [
    "# Exercise 3"
   ]
  },
  {
   "cell_type": "markdown",
   "metadata": {},
   "source": [
    "Go to  [http://python-control.readthedocs.io/en/latest/intro.html](http://python-control.readthedocs.io/en/latest/intro.html)and install the **python-control** library. Use Anaconda's **pip** to install the library into your local Anaconda environment. Familiarize yourself with pip [here](http://www.pip-installer.org/en/latest/). Please note that a version of pip is *already installed* in your Anaconda environment.\n",
    "\n",
    "**Familiarize yourself with the control packages. Use control.parallel, control.series, control.feedback and control.tf to model the system depicted below. Obtain a SINGLE transfer function that is equivalent to the complete system, i.e. REDUCE the block diagram to a single transfer function.**"
   ]
  },
  {
   "cell_type": "code",
   "execution_count": 35,
   "metadata": {
    "collapsed": false
   },
   "outputs": [
    {
     "data": {
      "image/png": "[encoded data removed]",
      "text/plain": [
       "<IPython.core.display.Image object>"
      ]
     },
     "execution_count": 35,
     "metadata": {},
     "output_type": "execute_result"
    }
   ],
   "source": [
    "IPython.core.display.Image(r\"images/bdiag0002.png\", embed=True)"
   ]
  },
  {
   "cell_type": "code",
   "execution_count": 50,
   "metadata": {
    "collapsed": false
   },
   "outputs": [
    {
     "name": "stdout",
     "output_type": "stream",
     "text": [
      "\n",
      "       400\n",
      "----------------\n",
      "s^2 + 16 s + 400\n",
      "\n"
     ]
    }
   ],
   "source": [
    "import control\n",
    "#s = sp.symbols('s')\n",
    "#since 10 and 10 are in parallel\n",
    "sys1 = control.parallel(10,10)\n",
    "#print sys1\n",
    "#Compute transfer function.\n",
    "num1  = [1]\n",
    "den1  = [1, 12]\n",
    "sys2 = control.tf(num1,den1)\n",
    "#compute  transfer function\n",
    "num2 = [20]\n",
    "den2 = [1, 0]\n",
    "sys3 = control.tf(num2,den2)\n",
    "#since sys1 and sy2 are in series .\n",
    "sys_series = control.series(sys2,sys3)\n",
    "#compute transfer function of 0.2s\n",
    "num3 = [0.2, 0]\n",
    "den3 = [1]\n",
    "sys4 = control.tf(num3,den3)\n",
    "#Now sys_series and sys3 are in feedback .\n",
    "feedback_section = control.feedback(sys_series,sys4)\n",
    "#print feedback_section\n",
    "#now sys1 and feedback_section are in series. \n",
    "system = control.series(sys1,feedback_section)\n",
    "\n",
    "#print system\n",
    "#now solve final feedback.\n",
    "#first compute transfer function of feedback section\n",
    "num4 = [1]\n",
    "den4 = [1]\n",
    "sys5 = control.tf(num4,den4)\n",
    "#Since system and sys5 are in feedback.\n",
    "final_feedback = control.feedback(system,sys5)\n",
    "print final_feedback"
   ]
  },
  {
   "cell_type": "markdown",
   "metadata": {},
   "source": [
    "---"
   ]
  },
  {
   "cell_type": "markdown",
   "metadata": {},
   "source": [
    "\n",
    "# Exercise 4"
   ]
  },
  {
   "cell_type": "markdown",
   "metadata": {},
   "source": [
    "From previous exercise determine block diagram and the transfer function for the ** Mass Spring Damper System ** \n",
    "and the ** RLC ** circuit\n"
   ]
  },
  {
   "cell_type": "code",
   "execution_count": 31,
   "metadata": {
    "collapsed": false
   },
   "outputs": [
    {
     "data": {
      "image/png": "[encoded data removed]",
      "text/latex": [
       "$$\\left[\\begin{matrix}\\frac{1}{m s \\left(\\frac{c}{m} + \\frac{k}{m s} + s\\right)}\\end{matrix}\\right]$$"
      ],
      "text/plain": [
       "⎡        1        ⎤\n",
       "⎢─────────────────⎥\n",
       "⎢    ⎛c    k     ⎞⎥\n",
       "⎢m⋅s⋅⎜─ + ─── + s⎟⎥\n",
       "⎣    ⎝m   m⋅s    ⎠⎦"
      ]
     },
     "execution_count": 31,
     "metadata": {},
     "output_type": "execute_result"
    }
   ],
   "source": [
    "#Mass Spring Damper System\n",
    "\n",
    "import control \n",
    "import numpy as np\n",
    "import sympy as sp\n",
    "\n",
    "sp.init_printing()\n",
    "k,m,c,s = sp.symbols('k,m,c,s')\n",
    "#to convert state space into transfer function we have,\n",
    "# T(s) = C([sI-A]^-1)B+D\n",
    "A = sp.Matrix([[0,1],[-k/m, -c/m]])\n",
    "B = sp.Matrix([[0],[1/m]])\n",
    "C = sp.Matrix([[1,0]])\n",
    "D = sp.Matrix([0])\n",
    "\n",
    "identity_matrix = sp.Matrix([[1,0],[0,1]])\n",
    "\n",
    "Identity_s = s*identity_matrix\n",
    "    \n",
    "subtract_SI_A = Identity_s-A\n",
    "inverse = subtract_SI_A.inv()\n",
    "product_c_with_inverse = C*inverse\n",
    "transfer_function = product_c_with_inverse*B + D\n",
    "transfer_function\n",
    "\n"
   ]
  },
  {
   "cell_type": "code",
   "execution_count": 10,
   "metadata": {
    "collapsed": false
   },
   "outputs": [
    {
     "data": {
      "image/jpeg": "[encoded data removed]",
      "text/plain": [
       "<IPython.core.display.Image object>"
      ]
     },
     "execution_count": 10,
     "metadata": {},
     "output_type": "execute_result"
    }
   ],
   "source": [
    "IPython.core.display.Image(r\"images/dampersystem.jpg\", embed=True)"
   ]
  },
  {
   "cell_type": "code",
   "execution_count": 6,
   "metadata": {
    "collapsed": false
   },
   "outputs": [
    {
     "data": {
      "image/png": "[encoded data removed]",
      "text/latex": [
       "$$\\left[\\begin{matrix}\\frac{L c s^{2}}{L c s^{2} + R c s + 1}\\end{matrix}\\right]$$"
      ],
      "text/plain": [
       "⎡           2      ⎤\n",
       "⎢      L⋅c⋅s       ⎥\n",
       "⎢──────────────────⎥\n",
       "⎢     2            ⎥\n",
       "⎣L⋅c⋅s  + R⋅c⋅s + 1⎦"
      ]
     },
     "execution_count": 6,
     "metadata": {},
     "output_type": "execute_result"
    }
   ],
   "source": [
    "import numpy as np\n",
    "import control\n",
    "sp.init_printing()\n",
    "import sympy as sp\n",
    "L,C,R,c,s =  sp.symbols('L,C,R,c,s')\n",
    "\n",
    "\n",
    "A = sp.Matrix([[0,1/c],[-1/L, -R/L]])\n",
    "\n",
    "B = sp.Matrix([[0],[1/L]])\n",
    "\n",
    "C = sp.Matrix([[-1, -R]])\n",
    "D = sp.Matrix([1])\n",
    "\n",
    "I = sp.Matrix([[1,0],[0,1]])\n",
    "SI = s*I\n",
    "subtract_SI_A = SI-A\n",
    "inverse = subtract_SI_A.inv()\n",
    "product_c_with_inverse = C*inverse\n",
    "transfer_function = sp.simplify(product_c_with_inverse*B + D)\n",
    "transfer_function"
   ]
  },
  {
   "cell_type": "code",
   "execution_count": 12,
   "metadata": {
    "collapsed": false
   },
   "outputs": [
    {
     "data": {
      "image/jpeg": "[encoded data removed]",
      "text/plain": [
       "<IPython.core.display.Image object>"
      ]
     },
     "execution_count": 12,
     "metadata": {},
     "output_type": "execute_result"
    }
   ],
   "source": [
    "IPython.core.display.Image(r\"images/RLC.jpg\", embed=True)"
   ]
  },
  {
   "cell_type": "markdown",
   "metadata": {},
   "source": [
    "---"
   ]
  },
  {
   "cell_type": "markdown",
   "metadata": {},
   "source": [
    "# Exercise 5\n",
    "\n",
    "## Differential drive robot \n",
    "\n",
    "Find the state space model of a differntial drive robot where $v_r$ and $v_l$ are the velocities of the robot left and right wheel,  the location of the robot is given by $x$, $y$ and $\\theta$ . Velocities is given by $\\dot{x}, \\dot{y}$ . Angular velocity of the robot is $\\dot{\\theta}$ "
   ]
  },
  {
   "cell_type": "markdown",
   "metadata": {
    "collapsed": true
   },
   "source": [
    "The velocities of robot is given by : \n",
    "\n",
    "$$\\dot{x} = \\frac{(v_{r} + v_{l})cos\\phi}{2}$$\n",
    "$$\\dot{y} = \\frac{(v_{r} + v_{l})sin\\phi}{2}$$\n",
    "$$\\dot{\\phi} = \\frac{(v_{r} - v_{l})}{l}$$  where l is distance between two wheels\n",
    "\n",
    "\n",
    "\n",
    "\n"
   ]
  },
  {
   "cell_type": "markdown",
   "metadata": {},
   "source": [
    "State variable equation can be written as : \n",
    "\n",
    "$\\begin{bmatrix}\n",
    "\\dot{x} \\\\\n",
    "\\dot{y} \\\\\n",
    "\\dot{\\theta} \n",
    "\\end{bmatrix} $ = $\\begin{bmatrix}\n",
    "0 & 0 & 0 \\\\\n",
    "0 & 0 & 0  \\\\\n",
    "0 & 0 & 0 \n",
    "\\end{bmatrix} $ $\\begin{bmatrix}\n",
    "{x} \\\\\n",
    "{y} \\\\\n",
    "{\\theta}\n",
    "\\end{bmatrix} $ + $\\begin{bmatrix}\n",
    "cos(\\theta) & -sin(\\theta) & 0 \\\\\n",
    "sin(\\theta) & cos(\\theta) & 0  \\\\\n",
    "0 & 0 & 1 \n",
    "\\end{bmatrix} $ $\\begin{bmatrix}\n",
    "\\frac{1}{2} & \\frac{1}{2}  \\\\\n",
    "0 & 0   \\\\\n",
    "\\frac{1}{L} & -\\frac{1}{L}  \n",
    "\\end{bmatrix} $ $\\begin{bmatrix}\n",
    "v_{r} \\\\\n",
    "v_{l} \n",
    "\\end{bmatrix} $\n",
    "\n",
    "where Rotation matrix is : $\\begin{bmatrix}\n",
    "cos(\\theta) & -sin(\\theta) & 0 \\\\\n",
    "sin(\\theta) & cos(\\theta) & 0  \\\\\n",
    "0 & 0 & 1 \n",
    "\\end{bmatrix} $\n",
    "\n",
    "So, B = $\\begin{bmatrix}\n",
    "cos(\\theta) & -sin(\\theta) & 0 \\\\\n",
    "sin(\\theta) & cos(\\theta) & 0  \\\\\n",
    "0 & 0 & 1 \n",
    "\\end{bmatrix} $ $\\begin{bmatrix}\n",
    "\\frac{1}{2} & \\frac{1}{2}  \\\\\n",
    "0 & 0   \\\\\n",
    "\\frac{1}{L} & -\\frac{1}{L}  \n",
    "\\end{bmatrix} $ \n",
    "\n",
    "A = $\\begin{bmatrix}\n",
    "0 & 0 & 0 \\\\\n",
    "0 & 0 & 0  \\\\\n",
    "0 & 0 & 0 \n",
    "\\end{bmatrix} $\n",
    "\n",
    "\n",
    "Since output are x, y and $\\theta$ therefore, output can be written as :\n",
    "\n",
    "$\\begin{bmatrix}\n",
    "{x} \\\\\n",
    "{y} \\\\\n",
    "{\\theta}\n",
    "\\end{bmatrix} $ = $\\begin{bmatrix}\n",
    "1 & 0 & 0 \\\\\n",
    "0 & 1 & 0  \\\\\n",
    "0 & 0 & 1 \n",
    "\\end{bmatrix} $ $\\begin{bmatrix}\n",
    "{x} \\\\\n",
    "{y} \\\\\n",
    "{\\theta}\n",
    "\\end{bmatrix} $ + $\\begin{bmatrix}\n",
    "0 & 0  \\\\\n",
    "0 & 0   \\\\\n",
    "0 & 0  \n",
    "\\end{bmatrix} $ $\\begin{bmatrix}\n",
    "v_{r} \\\\\n",
    "v_{l} \n",
    "\\end{bmatrix} $\n",
    "\n",
    "where  C = $\\begin{bmatrix}\n",
    "1 & 0 & 0 \\\\\n",
    "0 & 1 & 0  \\\\\n",
    "0 & 0 & 1 \n",
    "\\end{bmatrix} $\n",
    "\n",
    "and D = $\\begin{bmatrix}\n",
    "0 & 0  \\\\\n",
    "0 & 0   \\\\\n",
    "0 & 0  \n",
    "\\end{bmatrix} $"
   ]
  },
  {
   "cell_type": "code",
   "execution_count": 2,
   "metadata": {
    "collapsed": false
   },
   "outputs": [
    {
     "data": {
      "image/png": "[encoded data removed]",
      "text/latex": [
       "$$\\left[\\begin{matrix}0 & 0\\\\0 & 0\\\\\\frac{1}{L} & - \\frac{1}{L}\\end{matrix}\\right]$$"
      ],
      "text/plain": [
       "⎡0   0 ⎤\n",
       "⎢      ⎥\n",
       "⎢0   0 ⎥\n",
       "⎢      ⎥\n",
       "⎢1  -1 ⎥\n",
       "⎢─  ───⎥\n",
       "⎣L   L ⎦"
      ]
     },
     "execution_count": 2,
     "metadata": {},
     "output_type": "execute_result"
    }
   ],
   "source": [
    "import sympy as sp\n",
    "sp.init_printing()\n",
    "theta, L = sp.symbols('theta,L')\n",
    "A = sp.Matrix([[0,0,0],[0,0,0],\n",
    "              [0,0,0]])\n",
    "B = sp.Matrix([[1/2, 1/2],[0,0],[1/L,-1/L]])\n",
    "Rotation_matrix = sp.Matrix([[sp.cos(theta), -sp.sin(theta),0],\n",
    "                            [sp.sin(theta),sp.cos(theta),0],\n",
    "                            [0,0,1]])\n",
    "C = sp.Matrix([[1,0,0],[0,1,0],[0,0,1]])\n",
    "D = sp.Matrix([[0,0],[0,0],[0,0]])\n",
    "B = Rotation_matrix * B\n",
    "B"
   ]
  },
  {
   "cell_type": "code",
   "execution_count": null,
   "metadata": {
    "collapsed": true
   },
   "outputs": [],
   "source": []
  },
  {
   "cell_type": "code",
   "execution_count": null,
   "metadata": {
    "collapsed": true
   },
   "outputs": [],
   "source": []
  }
 ],
 "metadata": {
  "anaconda-cloud": {},
  "kernelspec": {
   "display_name": "Python [Root]",
   "language": "python",
   "name": "Python [Root]"
  },
  "language_info": {
   "codemirror_mode": {
    "name": "ipython",
    "version": 2
   },
   "file_extension": ".py",
   "mimetype": "text/x-python",
   "name": "python",
   "nbconvert_exporter": "python",
   "pygments_lexer": "ipython2",
   "version": "2.7.12"
  },
  "name": "_merged"
 },
 "nbformat": 4,
 "nbformat_minor": 0
}
