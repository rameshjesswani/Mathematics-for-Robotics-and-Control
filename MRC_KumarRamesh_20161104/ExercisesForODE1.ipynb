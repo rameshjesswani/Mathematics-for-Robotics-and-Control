{
 "cells": [
  {
   "cell_type": "markdown",
   "metadata": {},
   "source": [
    "<style type=\"text/css\">\n",
    ".time_spent {\n",
    "    width: 3em;\n",
    "    border-style: none;\n",
    "    background-color: silver;\n",
    "    font-weight: bold;\n",
    "    padding-left: 5px;\n",
    "}\n",
    "</style>"
   ]
  },
  {
   "cell_type": "markdown",
   "metadata": {},
   "source": [
    "# Mathematics for Robotics and Control - Assignment 5: Jacobians"
   ]
  },
  {
   "cell_type": "markdown",
   "metadata": {},
   "source": [
    "Solve Exercise 1 of Assignment 6 using any Iterative method.\n",
    "\n"
   ]
  },
  {
   "cell_type": "code",
   "execution_count": 25,
   "metadata": {
    "collapsed": false
   },
   "outputs": [],
   "source": [
    "# You solution here \n",
    "\n",
    "def update_position(distances):\n",
    "    # Determine robot position\n",
    "    # ...\n",
    "    # <your code here>\n",
    "    #position of sensors\n",
    "    %matplotlib inline   \n",
    "    import matplotlib.pyplot as plt\n",
    "    from matplotlib import pyplot as plt\n",
    "    \n",
    "    import sympy as sp\n",
    "    import numpy as np\n",
    "    \n",
    "    sp.init_printing()\n",
    "    %matplotlib inline   \n",
    "    x,y,z = sp.symbols('x,y,z')\n",
    "    #Create array of sensors.\n",
    "    sensor1 = np.array([0,0,5.3])\n",
    "    sensor2 = np.array([6,0,5.3])\n",
    "    sensor3 = np.array([6,4.5,5.3])\n",
    "    sensor4 = np.array([0,4.5,5.3])\n",
    "    \n",
    "    \n",
    "    fig = plt.figure()\n",
    "    for i in  range(len(distances)):\n",
    "       \n",
    "        radius = distances[i]\n",
    "        #Take values of r1,r2,r3 and r4 from distances file.\n",
    "        \n",
    "        r1 = radius[0]\n",
    "        r2 = radius[1]\n",
    "        r3 = radius[2]\n",
    "        r4 = radius[3]\n",
    "        \n",
    "        #create matrix of all three sensor, sensor1, sensor2 \n",
    "        #and sensor3 with given values.\n",
    "        G = sp.Matrix([[x**2+y**2+z**2 - 10.6*z + 28.09 - r1**2],\n",
    "                     [x**2+y**2+z**2 - 12*x-10.6*z + 64.09 - r2**2],\n",
    "                     [x**2+y**2+z**2-12*x-9*y-10.6*z+84.34-r3**2]])\n",
    "        \n",
    "        #Create matrix of unknown variables.\n",
    "        unknown = sp.Matrix([x,y,z])\n",
    "        #print unknown.shape\n",
    "        #Compute jacobian of unknown .\n",
    "        jacobian = G.jacobian(unknown)\n",
    "        \n",
    "        #Take initial values of x, y and z to compute x0,y0, and z0 \n",
    "        x_initial = 6\n",
    "        y_initial = 4.5\n",
    "        z_initial = 5.3\n",
    "        \n",
    "        #Create equation of sphere for x0, y0 and z0\n",
    "        \n",
    "        x0 = sp.sqrt((r1**2 - (y_initial**2) - (z_initial**2)+ \n",
    "                      (10.6*z_initial)  - 28.09))\n",
    "        y0 = sp.sqrt((r2**2 - (x_initial**2) - (z_initial**2) + \n",
    "                      (12*x_initial) + (10.6*z_initial) - 64.09))\n",
    "        z0 = sp.sqrt((r3**2 - (x_initial**2) -(y_initial**2) + \n",
    "                      (10.6*z_initial)+ \n",
    "                      (12*x_initial) + (9*y_initial)  - 84.34))\n",
    "        \n",
    "        \n",
    "        #For loop to run the number of iteration to converge x, y and z\n",
    "        for i in range(20):\n",
    "            \n",
    "            G_new = G.subs({x:x0,y:y0,z:z0})\n",
    "            jacobian_new = jacobian.subs({x:x0,y:y0,z:z0})\n",
    "            \n",
    "            x_old = sp.Matrix([x0,y0,z0])\n",
    "            #Compute d with product of -(jacobian inverse and G)\n",
    "            d = jacobian_new.inv() * (-G_new) \n",
    "            #compute new value of x.\n",
    "            x_new = x_old + d\n",
    "            #Take x,y and z from x_new\n",
    "            x0 = x_new[0]\n",
    "            y0 = x_new[1]\n",
    "            z0 = x_new[2]\n",
    "            \n",
    "            \n",
    "        #Plot converged x0 and y0    \n",
    "        plt.scatter(x0,y0)"
   ]
  },
  {
   "cell_type": "code",
   "execution_count": 26,
   "metadata": {
    "collapsed": false
   },
   "outputs": [
    {
     "name": "stderr",
     "output_type": "stream",
     "text": [
      "/home/ramesh/anaconda2/lib/python2.7/site-packages/matplotlib/font_manager.py:273: UserWarning: Matplotlib is building the font cache using fc-list. This may take a moment.\n",
      "  warnings.warn('Matplotlib is building the font cache using fc-list. This may take a moment.')\n"
     ]
    },
    {
     "name": "stdout",
     "output_type": "stream",
     "text": [
      "(3, 1)\n",
      "(3, 1)\n",
      "(3, 1)\n",
      "(3, 1)\n",
      "(3, 1)\n",
      "(3, 1)\n",
      "(3, 1)\n",
      "(3, 1)\n",
      "(3, 1)\n",
      "(3, 1)\n",
      "(3, 1)\n",
      "(3, 1)\n",
      "(3, 1)\n",
      "(3, 1)\n",
      "(3, 1)\n",
      "(3, 1)\n",
      "(3, 1)\n",
      "(3, 1)\n",
      "(3, 1)\n",
      "(3, 1)\n",
      "(3, 1)\n",
      "(3, 1)\n",
      "(3, 1)\n",
      "(3, 1)\n",
      "(3, 1)\n",
      "(3, 1)\n",
      "(3, 1)\n",
      "(3, 1)\n",
      "(3, 1)\n",
      "(3, 1)\n",
      "(3, 1)\n",
      "(3, 1)\n",
      "(3, 1)\n",
      "(3, 1)\n",
      "(3, 1)\n",
      "(3, 1)\n",
      "(3, 1)\n",
      "(3, 1)\n",
      "(3, 1)\n",
      "(3, 1)\n",
      "(3, 1)\n",
      "(3, 1)\n",
      "(3, 1)\n",
      "(3, 1)\n",
      "(3, 1)\n",
      "(3, 1)\n",
      "(3, 1)\n",
      "(3, 1)\n",
      "(3, 1)\n",
      "(3, 1)\n",
      "(3, 1)\n",
      "(3, 1)\n",
      "(3, 1)\n",
      "(3, 1)\n",
      "(3, 1)\n",
      "(3, 1)\n",
      "(3, 1)\n",
      "(3, 1)\n",
      "(3, 1)\n",
      "(3, 1)\n"
     ]
    },
    {
     "data": {
      "image/png": "[encoded data removed]",
      "text/plain": [
       "<matplotlib.figure.Figure at 0x7fdb5e2d7550>"
      ]
     },
     "metadata": {},
     "output_type": "display_data"
    }
   ],
   "source": [
    "import sympy as sp\n",
    "import numpy as np\n",
    "distances = np.load(\"./distances.npy\")\n",
    " \n",
    "update_position(distances)"
   ]
  },
  {
   "cell_type": "markdown",
   "metadata": {},
   "source": [
    "# Mathematics for Robotics and Control - Assignment 6: Ordinary Differential Equations"
   ]
  },
  {
   "cell_type": "markdown",
   "metadata": {},
   "source": [
    "For this assignment, you will be working with symbolic mathematics using the SymPy package for Python. In order to be able to work with the package efficiently, please familiarize yourself with SymPy by working through the tutorial:\n",
    "\n",
    "[SymPy Tutorial](http://docs.sympy.org/dev/tutorial/tutorial.en.html#tutorial)\n",
    "        \n",
    "Also, make sure you know how SymPy differes from other CAS like Maple or Mathematica, which you may be familiar with. This information is detailed in the following document:\n",
    "    \n",
    "[SymPy Gotchas](http://docs.sympy.org/dev/gotchas.html)\n",
    "        \n",
    "There is also an FAQ:\n",
    "    \n",
    "[SymPy FAQ](https://github.com/sympy/sympy/wiki/Faq)\n"
   ]
  },
  {
   "cell_type": "markdown",
   "metadata": {},
   "source": [
    "Also, be sure to read the documentation/help on SymPy's ODE module. Simply evaluate the code in the next cell to obtain said documentation. Note that using ? allows you to obtain help on any function, module etc. when used in IPython."
   ]
  },
  {
   "cell_type": "code",
   "execution_count": 4,
   "metadata": {
    "collapsed": false
   },
   "outputs": [],
   "source": [
    "import sympy\n",
    "?sympy.ode"
   ]
  },
  {
   "cell_type": "markdown",
   "metadata": {},
   "source": [
    "Let us now start the assignment by examining some differential equations. First, have a look at the following quick example below to see how to enter code into the IPython notebook and how to work with SymPy."
   ]
  },
  {
   "cell_type": "code",
   "execution_count": 2,
   "metadata": {
    "collapsed": false
   },
   "outputs": [],
   "source": [
    "# Enable pretty printing\n",
    "sympy.init_printing(use_latex=True)"
   ]
  },
  {
   "cell_type": "code",
   "execution_count": 3,
   "metadata": {
    "collapsed": false
   },
   "outputs": [
    {
     "data": {
      "image/png": "[encoded data removed]",
      "text/latex": [
       "$$\\int \\left(y{\\left (x \\right )} \\sin{\\left (x \\right )} + e^{x}\\right) e^{\\cos{\\left (x \\right )}}\\, dx = C_{1}$$"
      ],
      "text/plain": [
       "⌠                                   \n",
       "⎮ ⎛               x⎞  cos(x)        \n",
       "⎮ ⎝y(x)⋅sin(x) + ℯ ⎠⋅ℯ       dx = C₁\n",
       "⌡                                   "
      ]
     },
     "execution_count": 3,
     "metadata": {},
     "output_type": "execute_result"
    }
   ],
   "source": [
    "# Declare a symbolic variable x. Note that the x on the left side of the assignment is the Python variable name,\n",
    "# while the \"x\" on the right hand side denotes the symbol name. It makes a lot of sense to keep those names the same.\n",
    "from sympy import *\n",
    "x = Symbol(\"x\")\n",
    "# y is a function of x, i.e. y(x)\n",
    "y = Function(\"y\")(x)\n",
    "# We use y_ to denote y'(x), i.e. the first derivative of y w.r.t. x\n",
    "y_ = Derivative(y, x)\n",
    "# ...an alternative way of writing this would be:\n",
    "y_ = y.diff(x)\n",
    "\n",
    "# Now let's examine a differential equation\n",
    "#\n",
    "#                x   d       \n",
    "# y(x)⋅sin(x) + ℯ  = ──(y(x))\n",
    "#                    dx      \n",
    "# \n",
    "eq1 = y * sin(x) + exp(x) - y_\n",
    "\n",
    "# We now determine a solution for this differential equation\n",
    "dsolve(eq1, y)"
   ]
  },
  {
   "cell_type": "code",
   "execution_count": 8,
   "metadata": {
    "collapsed": false
   },
   "outputs": [
    {
     "data": {
      "image/png": "[encoded data removed]",
      "text/latex": [
       "$$y{\\left (x \\right )} = C_{1} e^{5 x}$$"
      ],
      "text/plain": [
       "           5⋅x\n",
       "y(x) = C₁⋅ℯ   "
      ]
     },
     "execution_count": 8,
     "metadata": {},
     "output_type": "execute_result"
    }
   ],
   "source": [
    "import sympy as sp\n",
    "sp.init_printing\n",
    "x = sp.Symbol('x')\n",
    "y = sp.Function('y')(x)\n",
    "equation = sp.Eq(5*y-y.diff())\n",
    "sp.dsolve(equation)\n",
    "\n",
    "#sp.dsolve(y.diff()-5*y,y.diff())"
   ]
  },
  {
   "cell_type": "markdown",
   "metadata": {},
   "source": [
    "For your first assignment, solve the following three ODEs *by hand* and verify your results via SymPy. Please include the steps of your solutions in the input cell below using TeX syntax. You can find an introduction to mathematical expressions in LaTeX [here](http://en.wikibooks.org/wiki/LaTeX/Mathematics). In order for the IPython notebook to evaluate your mathematical expressions, enclose them in \\$, i.e.\n",
    "\n",
    "    $ \\sum_{i=1}^{10} t_i $ \n",
    "\n",
    "will display the following expression: $\\sum_{i=1}^{10} t_i$"
   ]
  },
  {
   "cell_type": "markdown",
   "metadata": {},
   "source": [
    "---"
   ]
  },
  {
   "cell_type": "markdown",
   "metadata": {},
   "source": [
    "#### Assignment 7.1: Solve the following ordinary differential equations by hand and verify your results using SymPy."
   ]
  },
  {
   "cell_type": "markdown",
   "metadata": {},
   "source": [
    "Equation 1.1: $y^\\prime = 5 \\cdot y$\n",
    "\n"
   ]
  },
  {
   "cell_type": "markdown",
   "metadata": {},
   "source": [
    "$y^\\prime = 5 \\cdot y$\n",
    "\n",
    "Using separation of variables\n",
    "\n",
    "$\\int{\\frac{1}{y}} \\cdot dy = 5 \\cdot dt $\n",
    "\n",
    "Taking integration of above equation\n",
    "\n",
    "$lny = 5t + C $\n",
    "\n",
    "Multiplying exponential function on both sides.\n",
    "\n",
    "$ y = e^{5t+C} $\n",
    "\n",
    "or it can be written as :\n",
    "\n",
    "$y = K e^{5t} $\n"
   ]
  },
  {
   "cell_type": "markdown",
   "metadata": {},
   "source": [
    "*Insert your solution for Equation 1.1 here*"
   ]
  },
  {
   "cell_type": "code",
   "execution_count": 8,
   "metadata": {
    "collapsed": false
   },
   "outputs": [
    {
     "data": {
      "image/png": "[encoded data removed]",
      "text/latex": [
       "$$y{\\left (t \\right )} = C_{1} e^{5 t}$$"
      ],
      "text/plain": [
       "           5⋅t\n",
       "y(t) = C₁⋅ℯ   "
      ]
     },
     "execution_count": 8,
     "metadata": {},
     "output_type": "execute_result"
    }
   ],
   "source": [
    "# Insert code to verify your solution for Equation 1.1 here and evaluate it\n",
    "import sympy as sp\n",
    "sp.init_printing()\n",
    "t = sp.Symbol(\"t\")\n",
    "y = sp.Function(\"y\")(t)\n",
    "equation = sp.Eq((5*y),y.diff(t))\n",
    "equation\n",
    "sp.dsolve(equation)"
   ]
  },
  {
   "cell_type": "markdown",
   "metadata": {},
   "source": [
    "Equation 1.2: $\\frac{\\mathrm d y}{\\mathrm d x} = -2 \\cdot x \\cdot y$"
   ]
  },
  {
   "cell_type": "markdown",
   "metadata": {},
   "source": [
    "$\\frac{\\mathrm d y}{\\mathrm d x} = -2 \\cdot x \\cdot y$\n",
    "\n",
    "Using separation of variables\n",
    "\n",
    "$\\int{\\frac{1}{y}} \\cdot dy = -2 x \\cdot dx $\n",
    "\n",
    "Taking integration of above equation\n",
    "\n",
    "$lny = -x^2 + C $\n",
    "\n",
    "Multiplying exponential function on both sides.\n",
    "\n",
    "$ y = e^{-x^2+C} $\n",
    "\n",
    "or it can be written as :\n",
    "\n",
    "$y = K e^{-x^2} $\n"
   ]
  },
  {
   "cell_type": "markdown",
   "metadata": {},
   "source": [
    "*Insert your solution for Equation 1.2 here*"
   ]
  },
  {
   "cell_type": "code",
   "execution_count": 6,
   "metadata": {
    "collapsed": false
   },
   "outputs": [
    {
     "data": {
      "image/png": "[encoded data removed]",
      "text/latex": [
       "$$y{\\left (x \\right )} = C_{1} e^{- x^{2}}$$"
      ],
      "text/plain": [
       "             2\n",
       "           -x \n",
       "y(x) = C₁⋅ℯ   "
      ]
     },
     "execution_count": 6,
     "metadata": {},
     "output_type": "execute_result"
    }
   ],
   "source": [
    "# Insert code to verify your solution for Equation 1.2 here and evaluate it\n",
    "import sympy as sp\n",
    "sp.init_printing()\n",
    "x = sp.Symbol(\"x\")\n",
    "y = sp.Function(\"y\")(x)\n",
    "equation = sp.Eq((-2*x*y),y.diff(x))\n",
    "equation\n",
    "sp.dsolve(equation)"
   ]
  },
  {
   "cell_type": "code",
   "execution_count": 12,
   "metadata": {
    "collapsed": false
   },
   "outputs": [
    {
     "data": {
      "image/png": "[encoded data removed]",
      "text/latex": [
       "$$y{\\left (x \\right )} = C_{1} e^{- x^{2}}$$"
      ],
      "text/plain": [
       "             2\n",
       "           -x \n",
       "y(x) = C₁⋅ℯ   "
      ]
     },
     "execution_count": 12,
     "metadata": {},
     "output_type": "execute_result"
    }
   ],
   "source": [
    "x = sp.Symbol('x')\n",
    "sp.init_printing()\n",
    "y = sp.Function('y')(x)\n",
    "equation = sp.Eq(-2*x*y,y.diff())\n",
    "sp.dsolve(equation)"
   ]
  },
  {
   "cell_type": "markdown",
   "metadata": {},
   "source": [
    "Equation 1.3: $\\frac{\\mathrm d y}{\\mathrm d t} = y^2$"
   ]
  },
  {
   "cell_type": "markdown",
   "metadata": {},
   "source": [
    "$\\frac{\\mathrm d y}{\\mathrm d t} = y^2$\n",
    "\n",
    "Using separation of variables\n",
    "\n",
    "$\\int{\\frac{1}{y^2}} \\cdot dy = 1 \\cdot dt $\n",
    "\n",
    "Taking integration of above equation\n",
    "\n",
    "$\\frac{-1}{y} = t + C $\n",
    "\n",
    "separting y on one side.\n",
    "\n",
    "$ y = \\frac{-1}{ t + C} $\n",
    "\n",
    "or it can be written as :\n",
    "\n",
    "$ y = \\frac{1}{C - t } $"
   ]
  },
  {
   "cell_type": "code",
   "execution_count": 10,
   "metadata": {
    "collapsed": false
   },
   "outputs": [
    {
     "data": {
      "image/png": "[encoded data removed]",
      "text/latex": [
       "$$y{\\left (t \\right )} = \\frac{1}{C_{1} - t}$$"
      ],
      "text/plain": [
       "         1   \n",
       "y(t) = ──────\n",
       "       C₁ - t"
      ]
     },
     "execution_count": 10,
     "metadata": {},
     "output_type": "execute_result"
    }
   ],
   "source": [
    "# Insert code to verify your solution for Equation 1.3 here and evaluate it\n",
    "import sympy as sp\n",
    "sp.init_printing()\n",
    "t = sp.Symbol(\"t\")\n",
    "y = sp.Function(\"y\")(t)\n",
    "equation = sp.Eq((y**2),y.diff(t))\n",
    "equation\n",
    "sp.dsolve(equation)"
   ]
  },
  {
   "cell_type": "markdown",
   "metadata": {},
   "source": [
    "---"
   ]
  },
  {
   "cell_type": "markdown",
   "metadata": {},
   "source": [
    "#### Assignment 7.2: Determine if the following equations are linear and insert your solutions below."
   ]
  },
  {
   "cell_type": "markdown",
   "metadata": {},
   "source": [
    " *Note: simply stating that an equation is linear or not is not sufficient, please provide arguments/proof as to why this is the case.*"
   ]
  },
  {
   "cell_type": "markdown",
   "metadata": {},
   "source": [
    "1. $y^\\prime = sin(x) \\cdot y + e^x$\n",
    "2. $y^\\prime + x \\cdot y = e^x \\cdot y$\n",
    "3. $y^\\prime + \\frac{x}{y} = 0$\n",
    "4. $x \\cdot y^\\prime + y = \\sqrt{y}$"
   ]
  },
  {
   "cell_type": "markdown",
   "metadata": {},
   "source": [
    "#Conditions for linearity are :\n",
    "\n",
    "*i. The dependent variable y and its derivatives are of first degree; the power of each y is 1.\n",
    "\n",
    "*ii. Each coefficient depends only on the independent variable x.\n",
    "\n",
    "or if equation is represented according to standard linear equation i.e. \n",
    "\n",
    "$ \\frac{dy}{dx} + P(x)\\cdot y = Q(x) $\n",
    "\n",
    "\n",
    "*1. $y^\\prime = sin(x) \\cdot y + e^x$\n",
    "\n",
    "This equation is linear, since it can be represented by standard by standard linear equation. Furthermore, power of each y is 1 and each co-efficient depends only on x. \n",
    "\n",
    "*2. $y^\\prime + x \\cdot y = e^x \\cdot y$\n",
    "\n",
    "This equation is also linear because power of each y is 1 and each co-efficient depends only on independent variable x.\n",
    "\n",
    "*3. $y^\\prime + \\frac{x}{y} = 0$\n",
    "\n",
    "This equation is non-linear because power of y is -1.\n",
    "\n",
    "*4. $x \\cdot y^\\prime + y = \\sqrt{y}$\n",
    "\n",
    "This equation is non-linear, because y contains square root which shows power is not 1. \n",
    "\n"
   ]
  },
  {
   "cell_type": "markdown",
   "metadata": {},
   "source": [
    "---"
   ]
  },
  {
   "cell_type": "markdown",
   "metadata": {},
   "source": [
    "#### Assignment 7.3: Solve the following ordinary differential equations and specify an integrating factor. Insert your solutions below."
   ]
  },
  {
   "cell_type": "markdown",
   "metadata": {},
   "source": [
    "[Wikipedia: Integrating Factor](http://en.wikipedia.org/wiki/Integrating_factor)\n",
    "\n",
    "[Tutorial on how to use the integrating factor method to solve ODEs](http://www.cse.salford.ac.uk/profiles/gsmcdonald/H-Tutorials/ordinary-differential-equations-integrating-factor.pdf) (PDF)"
   ]
  },
  {
   "cell_type": "markdown",
   "metadata": {},
   "source": [
    "1. $y^\\prime = -3 \\cdot y + 6$\n",
    "2. $y^\\prime + \\frac{4}{x} \\cdot y = x^4$"
   ]
  },
  {
   "cell_type": "code",
   "execution_count": 17,
   "metadata": {
    "collapsed": false
   },
   "outputs": [
    {
     "data": {
      "image/png": "[encoded data removed]",
      "text/latex": [
       "$$y{\\left (x \\right )} = C_{1} e^{- 3 x} + 2$$"
      ],
      "text/plain": [
       "           -3⋅x    \n",
       "y(x) = C₁⋅ℯ     + 2"
      ]
     },
     "execution_count": 17,
     "metadata": {},
     "output_type": "execute_result"
    }
   ],
   "source": [
    "x = sp.Symbol('x')\n",
    "y = sp.Function('y')(x)\n",
    "equation = sp.Eq(-3*y+6,y.diff())\n",
    "sp.dsolve(equation)"
   ]
  },
  {
   "cell_type": "markdown",
   "metadata": {},
   "source": [
    "---"
   ]
  },
  {
   "cell_type": "markdown",
   "metadata": {},
   "source": [
    "1.\n",
    "Integral of $y^\\prime = -3 \\cdot y + 6$ :\n",
    "\n",
    "\n",
    "  $y^\\prime  + 3 \\cdot y = 6$ ... eq 1\n",
    "  \n",
    "  Integrating factor = I = $e^{\\int 3 * dx}$\n",
    "  \n",
    "  Then, taking integration :\n",
    "  ${\\int 3 * dx} = 3*x $\n",
    "  \n",
    "  Now, substituting into integration factor I = $e^{3*x}$\n",
    "  \n",
    "  Now, Multiplying integrating factor with original equation (eq1) :\n",
    "  \n",
    " $$ e^{3x}y^\\prime  + 3 e^{3x} \\cdot y = 6e^{3x}$$\n",
    " \n",
    " Taking integration of above equation :\n",
    " \n",
    "  $$ e^{3x}y = 2e^{3x} + C $$\n",
    " \n",
    " So, general equation is :\n",
    "  \n",
    "  $$ y = \\frac{2e^{3x} + C}{e^{3x}}$$\n",
    "  \n",
    "2.\n",
    "  $y^\\prime + \\frac{4}{x} \\cdot y = x^4$ :\n",
    "  \n",
    "  $y^\\prime + \\frac{4}{x} \\cdot y = x^4$ ... eq 1\n",
    "  \n",
    "  Integrating factor = I = $e^{\\int \\frac{4}{x} \\cdot dx}$\n",
    "  \n",
    "  Then, taking integration :\n",
    "  ${\\int \\frac{4}{x} \\cdot dx} = 4 \\cdot lnx = ln x^4 $\n",
    "  \n",
    "  Now, substituting into integration factor I = $e^{ln x^4} = x^4$\n",
    "  \n",
    "  Now, Multiplying integrating factor with original equation (eq1) :\n",
    "  \n",
    " $$ x^4y^\\prime  + x^4 \\frac{4}{x} \\cdot y  = x^8$$\n",
    " \n",
    " Taking integration of above equation :\n",
    " \n",
    "  $$ x^4y = \\frac{x^9}{9} + C $$\n",
    " \n",
    " So, general equation is :\n",
    "  \n",
    "  $$ y = \\frac{x^5}{9} + \\frac{C}{x^4}$$\n",
    "  \n",
    "  "
   ]
  },
  {
   "cell_type": "code",
   "execution_count": 23,
   "metadata": {
    "collapsed": false
   },
   "outputs": [
    {
     "data": {
      "image/png": "[encoded data removed]",
      "text/latex": [
       "$$y{\\left (x \\right )} = x^{4} \\left(C_{1} - x\\right)$$"
      ],
      "text/plain": [
       "        4         \n",
       "y(x) = x ⋅(C₁ - x)"
      ]
     },
     "execution_count": 23,
     "metadata": {},
     "output_type": "execute_result"
    }
   ],
   "source": [
    "x = sp.Symbol('x')\n",
    "y = sp.Function('y')(x)\n",
    "equation = sp.Eq((4*y)/x - x**4,y.diff())\n",
    "equation\n",
    "sp.dsolve(equation)\n",
    "#print equation"
   ]
  },
  {
   "cell_type": "markdown",
   "metadata": {},
   "source": [
    "\n",
    "#### Assignment 7.4: Solve the following differental equations"
   ]
  },
  {
   "cell_type": "markdown",
   "metadata": {},
   "source": [
    "Remember that a second order differential equation $y^{\\prime \\prime} + a_1 \\cdot y^\\prime + a_0 \\cdot y = 0$ with constants $a_{0, 1}$ corresponds to the characteristic equation $\\lambda^2 + a_1 \\cdot \\lambda + a_0 = 0$, which can be factored into $(\\lambda - \\lambda_1) \\cdot (\\lambda - \\lambda_2) = 0$. This is useful since the general solution of $y^{\\prime \\prime} + a_1 \\cdot y^\\prime + a_0 \\cdot y = 0$ can be obtained directly by determining the roots $\\lambda_1$ and $\\lambda_2$ if the coefficients are constant and the differential equation is linear. Determine the roots of the following differential equations and specify their solutions. See the Wikipedia article on the [characteristic equation](http://en.wikipedia.org/wiki/Characteristic_equation_(calculus)) for the three distinctive cases that determine how to obtain the solution based on what the roots are.\n",
    "\n",
    "Insert your solutions below and include code to proof your solutions are correct. Hint: use the sympy.ode.checkodesol function to validate your results."
   ]
  },
  {
   "cell_type": "markdown",
   "metadata": {},
   "source": [
    "1. $y^{\\prime \\prime} - y^\\prime - 2 \\cdot y = 0$\n",
    "2. $y^{\\prime \\prime} - 3 \\cdot y^\\prime + 4 \\cdot y = 0$\n",
    "3. $y^{\\prime \\prime} + 4 \\cdot y = 0$"
   ]
  },
  {
   "cell_type": "markdown",
   "metadata": {},
   "source": [
    "1. $y^{\\prime \\prime} - y^\\prime - 2 \\cdot y = 0$\n",
    "\n",
    "The characteristics equation of above equation can be written as :\n",
    "\n",
    "$\\lambda^2 - \\lambda -2 = 0 $\n",
    "\n",
    "Taking factors :\n",
    "\n",
    "$ \\lambda^2 - 2 \\cdot \\lambda + \\lambda -2 = 0 $\n",
    "\n",
    "Taking common :\n",
    "\n",
    "$\\lambda (\\lambda - 2) + 1(\\lambda - 2) = 0 $\n",
    "\n",
    "So, roots are :\n",
    "\n",
    "$ \\lambda = -1, 2 $\n",
    "\n",
    "Since roots are real and unequal so general equation is :\n",
    "\n",
    "$ y = c_1 e^{\\lambda_1 \\cdot x} + c_2 e^{\\lambda_2 \\cdot x} $\n",
    " \n",
    "Substituing $\\lambda$ in general equation we get :\n",
    "\n",
    "$ y = c_1 e^{-x} + c_2 e^{- x} $\n",
    "\n"
   ]
  },
  {
   "cell_type": "code",
   "execution_count": 24,
   "metadata": {
    "collapsed": false
   },
   "outputs": [
    {
     "data": {
      "text/plain": [
       "(True, 0)"
      ]
     },
     "execution_count": 24,
     "metadata": {},
     "output_type": "execute_result"
    }
   ],
   "source": [
    "# Include code here to show that your solutions are correct.\n",
    "from sympy import *\n",
    "sp.init_printing()\n",
    "\n",
    "x,c1,c2 = symbols(\"x,c1,c2\")\n",
    "y = sp.Function(\"y\")(x)\n",
    "solution = Eq(c1*exp((-x))+c2*exp(-x),y)\n",
    "solution\n",
    "checkodesol((y.diff(x).diff(x)-y.diff(x) - 2*y), solution)"
   ]
  },
  {
   "cell_type": "markdown",
   "metadata": {},
   "source": [
    "*2. $y^{\\prime \\prime} - 3 \\cdot y^\\prime + 4 \\cdot y = 0$\n"
   ]
  },
  {
   "cell_type": "markdown",
   "metadata": {},
   "source": [
    "---"
   ]
  },
  {
   "cell_type": "markdown",
   "metadata": {},
   "source": [
    "The characteristics equation of above equation can be written as :\n",
    "\n",
    "$\\lambda^2 - 3\\lambda - 4 = 0 $\n",
    "\n",
    "Taking factors by using Quadratic formula:\n",
    "\n",
    "$\\lambda =\\frac{-b\\pm\\sqrt{b^2-4ac}}{2a}$\n",
    "\n",
    "substituting values of a = 1, b = -3, and c = 4 in formula\n",
    "\n",
    "$\\lambda = \\frac{3\\pm\\sqrt{3^2-4\\cdot 1 \\cdot 4}}{2}$\n",
    "\n",
    "by solving further .\n",
    "\n",
    "$\\lambda = \\frac{3\\pm\\sqrt{7 * i}}{2}$\n",
    "\n",
    "So, roots are :\n",
    "\n",
    "$ \\lambda =  \\frac{3 + \\sqrt{7 * i}}{2} , \\frac{3 - \\sqrt{7 * i}}{2}$  \n",
    "\n",
    "Since roots are complex, alpha is real part and Beta is imaginary part so general equation is :\n",
    "\n",
    "$ y = e^{\\alpha x}(c_1 \\cos \\beta x + c_2 \\sin \\beta x) $\n",
    "\n",
    "\n",
    " \n",
    "Substituing $\\lambda$ in general equation we get :\n",
    "\n",
    "$ y = e^{\\frac{3}{2}{x}} {{(c_1 \\cos \\frac{\\sqrt{7}\\cdot i}{2}}{x}+ c_2 \\sin \\frac{\\sqrt{7}\\cdot i}{2}}{x}) $\n",
    "\n"
   ]
  },
  {
   "cell_type": "code",
   "execution_count": 67,
   "metadata": {
    "collapsed": false
   },
   "outputs": [
    {
     "data": {
      "text/plain": [
       "(True, 0)"
      ]
     },
     "execution_count": 67,
     "metadata": {},
     "output_type": "execute_result"
    }
   ],
   "source": [
    "# Include code here to show that your solutions are correct.\n",
    "from sympy import *\n",
    "sp.init_printing()\n",
    "\n",
    "x,c1,c2 = symbols(\"x,c1,c2\")\n",
    "y = sp.Function(\"y\")(x)\n",
    "#solution = Eq(c1*exp((-x))+c2*exp(-x)-y)\n",
    "\n",
    "solution = sp.Eq(exp((3*x/2))*(c1*sp.cos((sp.sqrt(7)/2)*x) \n",
    "                               + c2*sp.sin((sp.sqrt(7)/2)*x))-y)\n",
    "\n",
    "checkodesol((y.diff(x).diff(x) - 3*(y.diff(x)) + 4*y),solution)\n"
   ]
  },
  {
   "cell_type": "markdown",
   "metadata": {},
   "source": [
    "*3. $y^{\\prime \\prime} + 4 \\cdot y = 0$"
   ]
  },
  {
   "cell_type": "markdown",
   "metadata": {},
   "source": [
    "\n",
    "\n",
    "The characteristics equation of above equation can be written as :\n",
    "\n",
    "$\\lambda^2 + 4= 0 $\n",
    "\n",
    "Taking factors:\n",
    "\n",
    "$ \\lambda =  \\pm 2 i $  \n",
    "\n",
    "Since roots are complex, alpha is real part and Beta is imaginary part so general equation is :\n",
    "\n",
    "$ y = e^{\\alpha x}(c_1 \\cos \\beta x + c_2 \\sin \\beta x) $\n",
    "\n",
    "\n",
    " \n",
    "Substituing $\\lambda$ in general equation we get :\n",
    "\n",
    "$ y =  {{(c_1 \\cos {2}}{x}+ c_2 \\sin {2}}{x}) $\n",
    "\n"
   ]
  },
  {
   "cell_type": "code",
   "execution_count": 70,
   "metadata": {
    "collapsed": false
   },
   "outputs": [
    {
     "data": {
      "text/plain": [
       "(True, 0)"
      ]
     },
     "execution_count": 70,
     "metadata": {},
     "output_type": "execute_result"
    }
   ],
   "source": [
    "from sympy import *\n",
    "sp.init_printing()\n",
    "\n",
    "x,c1,c2 = symbols(\"x,c1,c2\")\n",
    "y = sp.Function(\"y\")(x)\n",
    "#solution = Eq(c1*exp((-x))+c2*exp(-x)-y)\n",
    "\n",
    "solution = sp.Eq((c1*sp.cos(2*x) + c2*sp.sin(2*x))-y)\n",
    "\n",
    "checkodesol((y.diff(x).diff(x)+ 4*y),solution)"
   ]
  },
  {
   "cell_type": "code",
   "execution_count": null,
   "metadata": {
    "collapsed": true
   },
   "outputs": [],
   "source": []
  }
 ],
 "metadata": {
  "anaconda-cloud": {},
  "kernelspec": {
   "display_name": "Python [Root]",
   "language": "python",
   "name": "Python [Root]"
  },
  "language_info": {
   "codemirror_mode": {
    "name": "ipython",
    "version": 2
   },
   "file_extension": ".py",
   "mimetype": "text/x-python",
   "name": "python",
   "nbconvert_exporter": "python",
   "pygments_lexer": "ipython2",
   "version": "2.7.12"
  }
 },
 "nbformat": 4,
 "nbformat_minor": 0
}
