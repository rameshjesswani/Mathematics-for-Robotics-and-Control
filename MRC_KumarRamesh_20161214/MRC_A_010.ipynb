{
 "cells": [
  {
   "cell_type": "markdown",
   "metadata": {},
   "source": [
    "# Exercise 1\n",
    "\n",
    "1. What is a root locus?\n",
    "2. Do the zeros of a system change with a change in gain?\n",
    "3. Where are the zeros of the closed-loop transfer function?\n",
    "4. How can you tell from the root locus if a system is unstable?\n",
    "5. How can you tell from the root locus if the settling time does not change over a region of gain?\n",
    "6. How can you tell from the root locus that the natural frequency does not change over a region of gain?\n",
    "7. Briefly describe how the zeros of the open-loop system affect the root locus and the transient response."
   ]
  },
  {
   "cell_type": "markdown",
   "metadata": {},
   "source": [
    "## Answers\n",
    "\n",
    "1. Root locus is a graphical presentation of the closed loop poles as a system parameter is varied. It is a powerful method of analysis and design for stability and transient response. In other words, it is used to describe qualitatively the performance of a system as various parameters are changed.\n",
    "2. No, number of zeros of a system remains same when gain is changed, but location of zeros is affected by changing of gain.\n",
    "3. Zeros of a closed loop transfer function are the roots of the numerator of closed loop transfer function.\n",
    "4. If any branch of root locus starts from pole that lies on positive real axis then system can be described as unstable.\n",
    "5. If any branch of root locus goes vertically then settling time does not change over a region of gain.\n",
    "6. When the root locus is circular with its origin at the center,then the natural frequency of the system does not change over the region of gain.\n",
    "7. The zeros of the open loop system help determine the root locus. The root locus ends at the zeros.Thus, the zeros are the closed-loop poles for high gain. zeros also improves transient response. "
   ]
  },
  {
   "cell_type": "markdown",
   "metadata": {},
   "source": [
    "# Exercise 2\n",
    "Given the unity feedback system ![](./images/unity-feedback.png), where\n",
    "$$ G(s) = \\frac{K}{(s + 1)(s + 3)(s + 6)^2} $$\n",
    "                    \n",
    "find the following:\n",
    "1. The value of gain, K, that will yield a settling time of 4 seconds\n",
    "2. The value of gain, K, that will yield a critically damped system\n",
    "\n",
    "PLot both the time response"
   ]
  },
  {
   "cell_type": "code",
   "execution_count": 1,
   "metadata": {
    "collapsed": false
   },
   "outputs": [
    {
     "name": "stderr",
     "output_type": "stream",
     "text": [
      "/home/ramesh/anaconda2/lib/python2.7/site-packages/matplotlib/font_manager.py:273: UserWarning: Matplotlib is building the font cache using fc-list. This may take a moment.\n",
      "  warnings.warn('Matplotlib is building the font cache using fc-list. This may take a moment.')\n"
     ]
    },
    {
     "data": {
      "text/plain": [
       "(<matplotlib.figure.Figure at 0x7fde96672d90>, None)"
      ]
     },
     "execution_count": 1,
     "metadata": {},
     "output_type": "execute_result"
    },
    {
     "name": "stdout",
     "output_type": "stream",
     "text": [
      "-------------------------\n",
      "System:\n",
      "\n",
      "                 1\n",
      "-----------------------------------\n",
      "s^4 + 16 s^3 + 87 s^2 + 180 s + 108\n",
      "\n",
      "Gain: 13.5472619197\n",
      "Pole: (-2.22580645161-0.0416666666667j)\n",
      "Damping: 0.999824830455\n",
      "Overshoot (%): 1.30585639613e-71\n",
      "Frequency (rad/s): 2.22619641343\n",
      "-------------------------\n",
      "-------------------------\n",
      "System:\n",
      "\n",
      "                 1\n",
      "-----------------------------------\n",
      "s^4 + 16 s^3 + 87 s^2 + 180 s + 108\n",
      "\n",
      "Gain: 79.8804240034\n",
      "Pole: (-1.3185483871+1.45833333333j)\n",
      "Damping: 0.67066267006\n",
      "Overshoot (%): 5.8398619088\n",
      "Frequency (rad/s): 1.96603813804\n",
      "-------------------------\n"
     ]
    }
   ],
   "source": [
    "import numpy as np\n",
    "import sympy as sp\n",
    "import control\n",
    "import matplotlib.pyplot as plt\n",
    "import rlocus2\n",
    "%matplotlib qt\n",
    "s = sp.symbols(\"s\")\n",
    "#Initially assume k = 1\n",
    "k = 1\n",
    "denominator = sp.expand((s+1)*(s+3)*(s+6)**2)\n",
    "G = control.TransferFunction([1],[1,16,87,180,108])\n",
    "rlocus2.rlocusfind(G)\n"
   ]
  },
  {
   "cell_type": "markdown",
   "metadata": {},
   "source": [
    "When value of K(gain) is 0.20, the product of frequency and damping is almost 1, which yield setting = 4. \n",
    "\n",
    "$$ T_{s} = \\frac{4}{\\zeta \\omega}$$\n",
    "\n",
    "Gain: 0.201894062195\n",
    "\n",
    "Pole: (-1.00000031407-2.00464188536e-05j)\n",
    "\n",
    "Damping: 0.999999999801\n",
    "\n",
    "Overshoot (%): 0.0\n",
    "\n",
    "Frequency (rad/s): 1.0\n",
    "\n",
    "\n",
    "Step response is given as :\n"
   ]
  },
  {
   "cell_type": "code",
   "execution_count": 2,
   "metadata": {
    "collapsed": false
   },
   "outputs": [
    {
     "data": {
      "text/plain": [
       "[<matplotlib.lines.Line2D at 0x7fe3f55591d0>]"
      ]
     },
     "execution_count": 2,
     "metadata": {},
     "output_type": "execute_result"
    },
    {
     "data": {
      "image/png": "[encoded data removed]",
      "text/plain": [
       "<matplotlib.figure.Figure at 0x7fe428580ed0>"
      ]
     },
     "metadata": {},
     "output_type": "display_data"
    }
   ],
   "source": [
    "k = 0.20\n",
    "#Since transfer function is given as \n",
    "G = control.TransferFunction([k],[1,16,87,180,108])\n",
    "#Take unity feedback\n",
    "feedback = control.feedback(G)\n",
    "#step response\n",
    "step, time = control.matlab.step(feedback)\n",
    "plt.plot(time,step)\n"
   ]
  },
  {
   "cell_type": "code",
   "execution_count": 3,
   "metadata": {
    "collapsed": false
   },
   "outputs": [
    {
     "data": {
      "text/plain": [
       "(<matplotlib.figure.Figure at 0x7fe3f4f7e710>, None)"
      ]
     },
     "execution_count": 3,
     "metadata": {},
     "output_type": "execute_result"
    },
    {
     "data": {
      "image/png": "[encoded data removed]",
      "text/plain": [
       "<matplotlib.figure.Figure at 0x7fe3f4f7e710>"
      ]
     },
     "metadata": {},
     "output_type": "display_data"
    }
   ],
   "source": [
    "%matplotlib inline\n",
    "s = sp.symbols(\"s\")\n",
    "denominator = sp.expand((s+1)*(s+3)*(s+6)**2)\n",
    "#Initially, assume k = 1 \n",
    "G = control.TransferFunction([k],[1,16,87,180,108])\n",
    "rlocus2.rlocusfind(G)"
   ]
  },
  {
   "cell_type": "markdown",
   "metadata": {},
   "source": [
    "In critical damped system, two poles always lies on same point. Since this is not possible for poles to be on same point for any value of gain. But if value of gain is 19.2 then dominate poles(poles closer to real axis) lies approximately closer to each other. "
   ]
  },
  {
   "cell_type": "code",
   "execution_count": 4,
   "metadata": {
    "collapsed": false
   },
   "outputs": [
    {
     "data": {
      "text/plain": [
       "[<matplotlib.lines.Line2D at 0x7fe3f55cce10>]"
      ]
     },
     "execution_count": 4,
     "metadata": {},
     "output_type": "execute_result"
    },
    {
     "data": {
      "image/png": "[encoded data removed]",
      "text/plain": [
       "<matplotlib.figure.Figure at 0x7fe3f4fe4050>"
      ]
     },
     "metadata": {},
     "output_type": "display_data"
    }
   ],
   "source": [
    "#step response\n",
    "k = 19.2\n",
    "G = control.TransferFunction([k],[1,16,87,180,108])\n",
    "feedback = control.feedback(G)\n",
    "step, time = control.matlab.step(feedback)\n",
    "plt.plot(time,step)"
   ]
  },
  {
   "cell_type": "markdown",
   "metadata": {},
   "source": [
    "# Exercise 3\n",
    "Industrial Manipulators like in the image are used to manipulate objects in environment. ![](images/youbot.jpeg)\n",
    "Consider a six-degrees-of-freedom industrial\n",
    "robot that can transfer objects according to a\n",
    "desired program. Assume the block diagram of\n",
    "the swing motion system shown in ![](images/swing_motion.png)\n",
    "\n",
    "If K = 64 and 510   estimate the following : \n",
    "1. Damping ratio\n",
    "2. Percent overshoot\n",
    "3. Natural frequency\n",
    "4. Settling time\n",
    "5. Peak time\n",
    "\n",
    "For which value of K is the system stable."
   ]
  },
  {
   "cell_type": "code",
   "execution_count": 5,
   "metadata": {
    "collapsed": false
   },
   "outputs": [
    {
     "name": "stdout",
     "output_type": "stream",
     "text": [
      "435.844656087132\n",
      "76.8138058709\n"
     ]
    },
    {
     "data": {
      "image/png": "[encoded data removed]",
      "text/plain": [
       "<matplotlib.figure.Figure at 0x7fe3f4ff3c50>"
      ]
     },
     "metadata": {},
     "output_type": "display_data"
    }
   ],
   "source": [
    "import control\n",
    "%matplotlib inline\n",
    "fwd = control.tf([1], [1,7,1220, 0])\n",
    "fb1 = control.tf([0.00076, 0, 0, 0],[1, 0.06])\n",
    "fb2 = control.tf([0.02, 0],[1])\n",
    "plant = control.feedback(fwd, fb1)\n",
    "plant = control.feedback(plant, fb2)\n",
    "plant = control.feedback(plant)\n",
    "plant = control.feedback(plant)\n",
    "#find root locus \n",
    "rlocus2.rlocusfind(plant)\n",
    "\n",
    "#for K = 64 \n",
    "\n",
    "#since -0.06 is dominant pole, therefore parameters computed at this pole are\n",
    "\n",
    "'''\n",
    "Gain: 64.1180112862\n",
    "Pole: (-0.0520739723108-0.00720805592008j)\n",
    "Damping: 0.9905555162\n",
    "Overshoot (%): 1.39053473793e-08\n",
    "Frequency (rad/s): 0.0525704732941\n",
    "'''\n",
    "#compute peak time and settling time \n",
    "w = 0.0525704732941\n",
    "zeta = 0.9905555162\n",
    "T_p = np.pi/((w)*sp.sqrt(1-zeta**2))\n",
    "print T_p \n",
    "settling_time = 4/((zeta*w))\n",
    "print settling_time"
   ]
  },
  {
   "cell_type": "markdown",
   "metadata": {},
   "source": [
    "Computed parameters are : \n",
    "\n",
    "\n",
    "Gain: 64.1180112862\n",
    "\n",
    "Pole: (-0.0520739723108-0.00720805592008j)\n",
    "\n",
    "Damping: 0.9905555162\n",
    "\n",
    "Overshoot (%): 1.39053473793e-08\n",
    "\n",
    "Frequency (rad/s): 0.0525704732941\n",
    "\n",
    "settling time : 76.8138058709 s\n",
    "\n",
    "peak time : 435.844656087132 s"
   ]
  },
  {
   "cell_type": "code",
   "execution_count": 6,
   "metadata": {
    "collapsed": false
   },
   "outputs": [
    {
     "name": "stdout",
     "output_type": "stream",
     "text": [
      "444.329075988048\n",
      "9.53709593306\n"
     ]
    }
   ],
   "source": [
    "#for K = 510\n",
    "\n",
    "'''\n",
    "Gain: 510.60932752\n",
    "Pole: (-0.41941488563-0.00707041879638j)\n",
    "Damping: 0.999857937305\n",
    "Overshoot (%): 1.16318713807e-79\n",
    "Frequency (rad/s): 0.419474477304\n",
    "'''\n",
    "#compute peak time and settling time \n",
    "w = 0.419474477304\n",
    "zeta = 0.999857937305\n",
    "T_p = np.pi/((w)*sp.sqrt(1-zeta**2))\n",
    "print T_p \n",
    "settling_time = 4/((zeta*w))\n",
    "print settling_time"
   ]
  },
  {
   "cell_type": "markdown",
   "metadata": {
    "collapsed": false
   },
   "source": [
    "Computed parameters are :\n",
    "\n",
    "Gain: 510.60932752\n",
    "\n",
    "Pole: (-0.41941488563-0.00707041879638j)\n",
    "\n",
    "Damping: 0.999857937305\n",
    "\n",
    "Overshoot (%): 1.16318713807e-79\n",
    "\n",
    "Frequency (rad/s): 0.419474477304\n",
    "\n",
    "settling time : 444.329075988048 s\n",
    "\n",
    "peak time : 9.53709593306 s"
   ]
  },
  {
   "cell_type": "markdown",
   "metadata": {
    "collapsed": true
   },
   "source": [
    "# Exercise 4\n",
    "Consider the servo system in Figure below with a DC-motor. Suppose that the angular velocity can be measured with a tachometer and let the control law be as in the block diagram. Let  $ \\tau = 0.5 $ and $ k = 2 $.\n",
    "![](images/tachometer.png)\n",
    "1. Draw the root locus with respect to $K$ for the system without the tachometer feedback (that is, $ \\alpha = 0$ ).\n",
    "\n",
    "2. Draw the root locus with respect to $K$ for $\\alpha = 1$ .\n",
    "\n",
    "3. Draw the root locus with respect to $K$ for $\\alpha = 1 / 3 $.\n",
    "\n",
    "4. Can you comment on the stability of the system with and without the feedback from the root locus plots\n"
   ]
  },
  {
   "cell_type": "code",
   "execution_count": 7,
   "metadata": {
    "collapsed": false
   },
   "outputs": [
    {
     "data": {
      "image/png": "[encoded data removed]",
      "text/plain": [
       "<matplotlib.figure.Figure at 0x7fe3f4e670d0>"
      ]
     },
     "metadata": {},
     "output_type": "display_data"
    }
   ],
   "source": [
    "#part 1 when alpha = 0\n",
    "k = 2\n",
    "tou = 0.5\n",
    "G = control.TransferFunction([k],[tou,1])\n",
    "num_s = [1]\n",
    "den_s = [1,0]\n",
    "G1 = control.TransferFunction(num_s,den_s)\n",
    "\n",
    "plant1 = control.series(G,G1)\n",
    "root_locus =control.rlocus(plant1)"
   ]
  },
  {
   "cell_type": "code",
   "execution_count": 8,
   "metadata": {
    "collapsed": false
   },
   "outputs": [
    {
     "data": {
      "image/png": "[encoded data removed]",
      "text/plain": [
       "<matplotlib.figure.Figure at 0x7fe3f4d10150>"
      ]
     },
     "metadata": {},
     "output_type": "display_data"
    }
   ],
   "source": [
    "#part 2\n",
    "alpha1 = 1\n",
    "G = control.TransferFunction([k],[tou,1])\n",
    "feedback_1 = control.feedback(G,alpha1)\n",
    "num_s = [1]\n",
    "den_s = [1,0]\n",
    "G1 = control.TransferFunction(num_s,den_s)\n",
    "\n",
    "plant2 = control.series(feedback_1,G1)\n",
    "root_locus =control.rlocus(plant2)\n"
   ]
  },
  {
   "cell_type": "code",
   "execution_count": 9,
   "metadata": {
    "collapsed": false
   },
   "outputs": [
    {
     "name": "stdout",
     "output_type": "stream",
     "text": [
      "\n",
      "     2\n",
      "-----------\n",
      "0.5 s^2 + s\n",
      "\n"
     ]
    },
    {
     "data": {
      "image/png": "[encoded data removed]",
      "text/plain": [
       "<matplotlib.figure.Figure at 0x7fe3f4ffd390>"
      ]
     },
     "metadata": {},
     "output_type": "display_data"
    }
   ],
   "source": [
    "#part 3\n",
    "alpha2 = 1/3\n",
    "G = control.TransferFunction([k],[tou,1])\n",
    "feedback_1 = control.feedback(G,alpha2)\n",
    "#print feedback_1\n",
    "num_s = [1]\n",
    "den_s = [1,0]\n",
    "G1 = control.TransferFunction(num_s,den_s)\n",
    "\n",
    "plant3 = control.series(feedback_1,G1)\n",
    "\n",
    "print plant3\n",
    "root_locus =control.rlocus(plant3)\n"
   ]
  },
  {
   "cell_type": "markdown",
   "metadata": {},
   "source": [
    "When there is no feedback then branches of both the poles are in contact with each other, and poles are in complex conjugate with each other.\n",
    "When feedback is considered, alpha = 1, then both the poles lies on real axis and response of system is overdamped.\n",
    "When value of alpha is slightly reduced both poles are complex conjugate and response of system is underdamped and branches in root locus touches with each other."
   ]
  },
  {
   "cell_type": "markdown",
   "metadata": {},
   "source": [
    "# Exercise 5\n",
    "Draw a root locus with respect to $K$ for\n",
    "the system in Figure , with $G( s )$ given below. For which values of $K$ are\n",
    "the systems stable? What conclusions on the principal shape of the step response can be drawn from the root locus (without drawing the step response)?\n",
    "\n",
    "a) A Ferris wheel\n",
    "$$ G( s ) = \\frac{K ( s + 2)}{ s ( s + 1)( s + 3)} $$\n",
    "b) A Mars rover:\n",
    "$$ G( s ) = \\frac{K}{ s ( s 2 + 2 s + 2) }$$\n",
    "c) A magnetic floater:\n",
    "$$ G( s ) = \\frac{K ( s + 1)}{ s ( s − 1)( s + 6)} $$"
   ]
  },
  {
   "cell_type": "code",
   "execution_count": 10,
   "metadata": {
    "collapsed": false
   },
   "outputs": [
    {
     "data": {
      "text/plain": [
       "(<matplotlib.figure.Figure at 0x7fe3f4ffd750>, None)"
      ]
     },
     "execution_count": 10,
     "metadata": {},
     "output_type": "execute_result"
    },
    {
     "data": {
      "image/png": "[encoded data removed]",
      "text/plain": [
       "<matplotlib.figure.Figure at 0x7fe3f4ffd750>"
      ]
     },
     "metadata": {},
     "output_type": "display_data"
    }
   ],
   "source": [
    "#part 1\n",
    "k = 1\n",
    "ferris_wheel = control.TransferFunction([k,2*k],[1,4,3,0])\n",
    "\n",
    "ferris_wheel_feedback = control.feedback(ferris_wheel)\n",
    "rlocus2.rlocusfind(ferris_wheel)\n"
   ]
  },
  {
   "cell_type": "code",
   "execution_count": 11,
   "metadata": {
    "collapsed": false
   },
   "outputs": [
    {
     "data": {
      "text/plain": [
       "[<matplotlib.lines.Line2D at 0x7fe3f4bb3390>]"
      ]
     },
     "execution_count": 11,
     "metadata": {},
     "output_type": "execute_result"
    },
    {
     "data": {
      "image/png": "[encoded data removed]",
      "text/plain": [
       "<matplotlib.figure.Figure at 0x7fe3f4bb35d0>"
      ]
     },
     "metadata": {},
     "output_type": "display_data"
    }
   ],
   "source": [
    "step,time = control.matlab.step(ferris_wheel_feedback)\n",
    "control.pzmap.pzmap(ferris_wheel_feedback)\n",
    "plt.plot(time,step)"
   ]
  },
  {
   "cell_type": "markdown",
   "metadata": {},
   "source": [
    "System is stable when value of K is greater than 0. but when value of k is between 0 and 1 it has not oscillations and when k > 1 it is stable but has oscillations. "
   ]
  },
  {
   "cell_type": "markdown",
   "metadata": {},
   "source": [
    "Clicked at     -0.868    +2.342j gain      7.134 damp     0.3475\n",
    "\n",
    "Therefore, take K(gain) = 7.134"
   ]
  },
  {
   "cell_type": "code",
   "execution_count": 12,
   "metadata": {
    "collapsed": false
   },
   "outputs": [
    {
     "data": {
      "text/plain": [
       "(<matplotlib.figure.Figure at 0x7fe3f4d853d0>, None)"
      ]
     },
     "execution_count": 12,
     "metadata": {},
     "output_type": "execute_result"
    },
    {
     "data": {
      "image/png": "[encoded data removed]",
      "text/plain": [
       "<matplotlib.figure.Figure at 0x7fe3f4d853d0>"
      ]
     },
     "metadata": {},
     "output_type": "display_data"
    }
   ],
   "source": [
    "#part 2\n",
    "k = 3\n",
    "mars_rover = control.TransferFunction([k],[1,2,2,0])\n",
    "rlocus2.rlocusfind(mars_rover)"
   ]
  },
  {
   "cell_type": "code",
   "execution_count": 13,
   "metadata": {
    "collapsed": false
   },
   "outputs": [
    {
     "data": {
      "text/plain": [
       "[<matplotlib.lines.Line2D at 0x7fe3f4b44ad0>]"
      ]
     },
     "execution_count": 13,
     "metadata": {},
     "output_type": "execute_result"
    },
    {
     "data": {
      "image/png": "[encoded data removed]",
      "text/plain": [
       "<matplotlib.figure.Figure at 0x7fe3f4d46a10>"
      ]
     },
     "metadata": {},
     "output_type": "display_data"
    }
   ],
   "source": [
    "mars_rover_feedback = control.feedback(mars_rover)\n",
    "step1,time1 = control.matlab.step(mars_rover_feedback)\n",
    "#control.pzmap.pzmap(mars_rover_feedback)\n",
    "plt.plot(time1,step1)\n"
   ]
  },
  {
   "cell_type": "markdown",
   "metadata": {},
   "source": [
    "for the above system, the system remains stable is value of gain is less 4 as all the poles lies on left half plane. When the value of gain is increase overshoots are increased and poles starts to enter to enter right half plane. "
   ]
  },
  {
   "cell_type": "code",
   "execution_count": 1,
   "metadata": {
    "collapsed": false
   },
   "outputs": [
    {
     "name": "stderr",
     "output_type": "stream",
     "text": [
      "/home/ramesh/anaconda2/lib/python2.7/site-packages/matplotlib/font_manager.py:273: UserWarning: Matplotlib is building the font cache using fc-list. This may take a moment.\n",
      "  warnings.warn('Matplotlib is building the font cache using fc-list. This may take a moment.')\n"
     ]
    },
    {
     "name": "stdout",
     "output_type": "stream",
     "text": [
      "\n",
      "    15 s + 15\n",
      "-----------------\n",
      "s^3 + 5 s^2 - 6 s\n",
      "\n"
     ]
    },
    {
     "data": {
      "image/png": "[encoded data removed]",
      "text/plain": [
       "<matplotlib.figure.Figure at 0x7ff583306fd0>"
      ]
     },
     "metadata": {},
     "output_type": "display_data"
    }
   ],
   "source": [
    "#part 3\n",
    "import control\n",
    "import rlocus2\n",
    "%matplotlib inline\n",
    "import matplotlib.pyplot as plt\n",
    "\n",
    "k = 15\n",
    "magnetic_floater = control.TransferFunction([k,k],[1,5,-6,0])\n",
    "print magnetic_floater\n",
    "rlocus2.rlocusfind(magnetic_floater)\n",
    "magnetic_floater_feedback = control.feedback(magnetic_floater)\n"
   ]
  },
  {
   "cell_type": "markdown",
   "metadata": {},
   "source": [
    "if k is greater than or equal to 15, system is always stable and step response is underdamped as 2 poles are conjuagte of each other and one pole is on real axis. "
   ]
  },
  {
   "cell_type": "code",
   "execution_count": 2,
   "metadata": {
    "collapsed": false
   },
   "outputs": [
    {
     "data": {
      "text/plain": [
       "[<matplotlib.lines.Line2D at 0x7ff5b13a3e90>]"
      ]
     },
     "execution_count": 2,
     "metadata": {},
     "output_type": "execute_result"
    },
    {
     "data": {
      "image/png": "[encoded data removed]",
      "text/plain": [
       "<matplotlib.figure.Figure at 0x7ff5b13a3f90>"
      ]
     },
     "metadata": {},
     "output_type": "display_data"
    }
   ],
   "source": [
    "#print magnetic_floater_feedback\n",
    "control.pzmap.pzmap(magnetic_floater_feedback)\n",
    "step2,time2 = control.matlab.step(magnetic_floater_feedback)\n",
    "\n",
    "plt.plot(time2,step2)"
   ]
  },
  {
   "cell_type": "markdown",
   "metadata": {},
   "source": [
    "# Exercise 6\n",
    "We want to control the temperature of an unstable chemical reactor.\n",
    "The transfer function is\n",
    "$$ \\frac {1} { ( s + 1)( s − 1)( s + 5)}$$\n",
    "\n",
    "a) Use a proportional controller and draw a root locus with\n",
    "respect to the amplification K . Calculate which K in the\n",
    "compensator that stabilizes the system.\n",
    "\n",
    "b) Use a PD controller. The control law is given by\n",
    "$$ u = K ( e + T_D \\frac{de}{ dt} )$$\n",
    "where e is the error. Let $T_D =  0.5$ \n",
    "Using laplace transform the PD controller Trasfer function will be\n",
    "$$ u(s) = K(1 + 0.5s)$$\n",
    "Draw a root locus with respect to K\n",
    ". For which values of K does the controller stabilize the system?"
   ]
  },
  {
   "cell_type": "code",
   "execution_count": 3,
   "metadata": {
    "collapsed": false
   },
   "outputs": [
    {
     "data": {
      "image/png": "[encoded data removed]",
      "text/plain": [
       "<matplotlib.figure.Figure at 0x7ff58083dfd0>"
      ]
     },
     "metadata": {},
     "output_type": "display_data"
    }
   ],
   "source": [
    "#part a\n",
    "k = 1\n",
    "G = control.TransferFunction([k],[1,5,-1,-5])\n",
    "root_locus = rlocus2.rlocusfind(G)\n",
    "#step response and pz map\n",
    "#feedback = control.feedback(G)\n",
    "\n",
    "#step2,time2 = control.matlab.step(feedback)\n",
    "#control.pzmap.pzmap(feedback)"
   ]
  },
  {
   "cell_type": "markdown",
   "metadata": {},
   "source": [
    "The above system is unstable, and for any value of k this system cannot be shifted to stable state. As branch at positive real axis that start at 1 is not being much shifted towards origin when value of gain is increased."
   ]
  },
  {
   "cell_type": "code",
   "execution_count": 4,
   "metadata": {
    "collapsed": false
   },
   "outputs": [
    {
     "name": "stdout",
     "output_type": "stream",
     "text": [
      "\n",
      "     11 s + 5.5\n",
      "-------------------\n",
      "s^3 + 5 s^2 - s - 5\n",
      "\n"
     ]
    },
    {
     "data": {
      "text/plain": [
       "(array([-2.47434877+1.90360652j, -2.47434877-1.90360652j, -0.05130247+0.j        ]),\n",
       " array([-0.5]))"
      ]
     },
     "execution_count": 4,
     "metadata": {},
     "output_type": "execute_result"
    },
    {
     "data": {
      "image/png": "[encoded data removed]",
      "text/plain": [
       "<matplotlib.figure.Figure at 0x7ff5807b14d0>"
      ]
     },
     "metadata": {},
     "output_type": "display_data"
    }
   ],
   "source": [
    "#part b\n",
    "K = 11\n",
    "G = control.TransferFunction([1],[1,5,-1,-5])\n",
    "U = control.TransferFunction([1*K,0.5*K],[1])\n",
    "transfer_function = control.series(G,U)\n",
    "print transfer_function\n",
    "#root_locus = rlocus2.rlocusfind(transfer_function)\n",
    "feedback = control.feedback(transfer_function)\n",
    "#step2,time2 = control.matlab.step(feedback)\n",
    "#plt.plot(time2,step2)\n",
    "control.pzmap.pzmap(feedback)"
   ]
  },
  {
   "cell_type": "markdown",
   "metadata": {},
   "source": [
    "Above system is stable when value of gain is greater than 10."
   ]
  },
  {
   "cell_type": "markdown",
   "metadata": {},
   "source": [
    "# Exercise 7\n",
    "Figure shows the root locus for the characteristic equation of a P-controlled process\n",
    "G with respect to the gain K .\n",
    "![](images/root_locus.png)\n",
    "In Figure four step responses for the closed loop system with different values of K\n",
    "are shown. \n",
    "![](images/step_response.png)\n",
    "Match the step plots  with the K -values below. Justify your answer.\n",
    "\n",
    "K = 4 K = 10 K = 18 K = 50"
   ]
  },
  {
   "cell_type": "markdown",
   "metadata": {
    "collapsed": false
   },
   "source": [
    "When K is small the system has a real unstable pole, that is, the magnitude of the step response grows without bound and the step response has no oscillations ⇒ K = 4 corresponds to step response C.\n",
    "\n",
    "When K is larger we have an unstable complex-conjugated pole pair, that is, the magnitude of the step response grows\n",
    "without bound and the step response is oscillative. ⇒ K = 10 corresponds to step response D.\n",
    "\n",
    "For even larger values of K all poles end up in the LHP. As K grows the step response becomes faster since the dominating poles move away from the origin. K = 18 corresponds to step response B and K = 50 to step response A."
   ]
  },
  {
   "cell_type": "markdown",
   "metadata": {},
   "source": [
    "# Exercise 8\n",
    "For each of the root loci shown in Figure below, tell\n",
    "whether or not the sketch can be a root locus. If the\n",
    "sketch cannot be a root locus, explain why. Give all\n",
    "reasons.\n",
    "![](images/pz.png)"
   ]
  },
  {
   "cell_type": "markdown",
   "metadata": {
    "collapsed": true
   },
   "source": [
    "(a). This sketch cannot be a root locus, according to property of root locus, it should be symetrical to the real axis which is not in this case. Therefore, this is not root locus.\n",
    "\n",
    "(b). This sketch is also not a root locus, since root locus always lies in odd number of finite poles or zeros, which is not in this case.\n",
    "\n",
    "(c). This sketch is also not a root locus, since root locus always lies in odd number of finite poles or zeros, which is not in this case.\n",
    "\n",
    "(d). Yes, this sketch is root locus as it satisfies all properties of root locus.\n",
    "\n",
    "(e). No, this sketch is not a root locus as is it not symmetrical to the real axis. \n",
    "\n",
    "(f). Yes, this is root locus as it satisfies all properties of root locus.\n",
    "\n",
    "(g). No, this sketch is not a root locus as is it not symmetrical to the real axis. \n",
    "\n",
    "(h). Yes,this is root locus as it satisfies all properties of root locus."
   ]
  },
  {
   "cell_type": "code",
   "execution_count": null,
   "metadata": {
    "collapsed": false
   },
   "outputs": [],
   "source": [
    "\n"
   ]
  },
  {
   "cell_type": "markdown",
   "metadata": {},
   "source": [
    "# Exercise 9\n",
    "\n",
    "The open–loop transfer function is \n",
    "$$ G ( s )= \\frac{K}{ ( s +1 ) ( s +2 ) ( s +3}$$\n",
    "do the following: \n",
    "1. Sketch the root locus.\n",
    "2. Find the value of K that will yield a 20% overshoot.\n",
    "3. Locate all nondominant poles. What can you say about the second-order approximation that led to your answer in Part 3?"
   ]
  },
  {
   "cell_type": "code",
   "execution_count": null,
   "metadata": {
    "collapsed": false
   },
   "outputs": [],
   "source": [
    "s = sp.symbols(\"s\")\n",
    "p = sp.expand((s+1)*(s+2)*(s+3))\n",
    "k = 1\n",
    "G = control.TransferFunction([k],[1,6,11,6]) \n",
    "rlocus2.rlocusfind(G)\n",
    "#feedback = control.TransferFunction(G)\n",
    "#control.pzmap.pzmap(feedback)\n"
   ]
  },
  {
   "cell_type": "markdown",
   "metadata": {
    "collapsed": false
   },
   "source": [
    "2*. When value of gain is 9.144 then overshoot % is approximately 20."
   ]
  },
  {
   "cell_type": "markdown",
   "metadata": {},
   "source": [
    "Gain: 9.14420487361\n",
    "\n",
    "Pole: (-0.862903225806-1.66666666667j)\n",
    "\n",
    "Damping: 0.459773572171\n",
    "\n",
    "Overshoot (%): 19.6609792948\n",
    "\n",
    "Frequency (rad/s): 1.87680040358"
   ]
  },
  {
   "cell_type": "markdown",
   "metadata": {
    "collapsed": true
   },
   "source": [
    "3*. The nondominant pole for this system at s = -3 as this pole is away from the origin as compare to other poles. \n",
    "Since this system is third order, therefore pole with higher degree lies away from second order poles and this doesn't contribute much to the transient response of the system. Therefore, system can be approximated to second order system"
   ]
  },
  {
   "cell_type": "code",
   "execution_count": null,
   "metadata": {
    "collapsed": true
   },
   "outputs": [],
   "source": []
  }
 ],
 "metadata": {
  "kernelspec": {
   "display_name": "Python [Root]",
   "language": "python",
   "name": "Python [Root]"
  },
  "language_info": {
   "codemirror_mode": {
    "name": "ipython",
    "version": 2
   },
   "file_extension": ".py",
   "mimetype": "text/x-python",
   "name": "python",
   "nbconvert_exporter": "python",
   "pygments_lexer": "ipython2",
   "version": "2.7.12"
  }
 },
 "nbformat": 4,
 "nbformat_minor": 0
}
